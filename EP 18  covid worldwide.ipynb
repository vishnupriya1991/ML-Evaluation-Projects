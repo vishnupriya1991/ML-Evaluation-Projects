{
 "cells": [
  {
   "cell_type": "code",
   "execution_count": 1,
   "metadata": {},
   "outputs": [],
   "source": [
    "#import libraries\n",
    "\n",
    "import numpy as np\n",
    "import pandas as pd\n",
    "import matplotlib.pyplot as plt\n",
    "from datetime import datetime\n",
    "from sklearn.ensemble import GradientBoostingRegressor\n",
    "from sklearn.model_selection import train_test_split"
   ]
  },
  {
   "cell_type": "code",
   "execution_count": 2,
   "metadata": {},
   "outputs": [
    {
     "data": {
      "text/html": [
       "<div>\n",
       "<style scoped>\n",
       "    .dataframe tbody tr th:only-of-type {\n",
       "        vertical-align: middle;\n",
       "    }\n",
       "\n",
       "    .dataframe tbody tr th {\n",
       "        vertical-align: top;\n",
       "    }\n",
       "\n",
       "    .dataframe thead th {\n",
       "        text-align: right;\n",
       "    }\n",
       "</style>\n",
       "<table border=\"1\" class=\"dataframe\">\n",
       "  <thead>\n",
       "    <tr style=\"text-align: right;\">\n",
       "      <th></th>\n",
       "      <th>Date</th>\n",
       "      <th>Country</th>\n",
       "      <th>Population</th>\n",
       "      <th>Total Tests</th>\n",
       "      <th>Total Cases</th>\n",
       "      <th>Total Deaths</th>\n",
       "      <th>Total Recovered</th>\n",
       "      <th>Serious or Critical</th>\n",
       "      <th>Active Cases</th>\n",
       "    </tr>\n",
       "  </thead>\n",
       "  <tbody>\n",
       "    <tr>\n",
       "      <th>0</th>\n",
       "      <td>2020-04-18</td>\n",
       "      <td>USA</td>\n",
       "      <td>330774664</td>\n",
       "      <td>3722145.0</td>\n",
       "      <td>738792.0</td>\n",
       "      <td>39014.0</td>\n",
       "      <td>68269.0</td>\n",
       "      <td>13551.0</td>\n",
       "      <td>631509.0</td>\n",
       "    </tr>\n",
       "    <tr>\n",
       "      <th>1</th>\n",
       "      <td>2020-04-18</td>\n",
       "      <td>Russia</td>\n",
       "      <td>145927292</td>\n",
       "      <td>1831892.0</td>\n",
       "      <td>36793.0</td>\n",
       "      <td>313.0</td>\n",
       "      <td>3057.0</td>\n",
       "      <td>8.0</td>\n",
       "      <td>33423.0</td>\n",
       "    </tr>\n",
       "    <tr>\n",
       "      <th>2</th>\n",
       "      <td>2020-04-18</td>\n",
       "      <td>Spain</td>\n",
       "      <td>46752703</td>\n",
       "      <td>930230.0</td>\n",
       "      <td>194416.0</td>\n",
       "      <td>20043.0</td>\n",
       "      <td>74797.0</td>\n",
       "      <td>7371.0</td>\n",
       "      <td>99576.0</td>\n",
       "    </tr>\n",
       "    <tr>\n",
       "      <th>3</th>\n",
       "      <td>2020-04-18</td>\n",
       "      <td>Brazil</td>\n",
       "      <td>212380932</td>\n",
       "      <td>62985.0</td>\n",
       "      <td>36722.0</td>\n",
       "      <td>2361.0</td>\n",
       "      <td>14026.0</td>\n",
       "      <td>6634.0</td>\n",
       "      <td>20335.0</td>\n",
       "    </tr>\n",
       "    <tr>\n",
       "      <th>4</th>\n",
       "      <td>2020-04-18</td>\n",
       "      <td>UK</td>\n",
       "      <td>67844241</td>\n",
       "      <td>460437.0</td>\n",
       "      <td>114217.0</td>\n",
       "      <td>15464.0</td>\n",
       "      <td>NaN</td>\n",
       "      <td>1559.0</td>\n",
       "      <td>98409.0</td>\n",
       "    </tr>\n",
       "    <tr>\n",
       "      <th>5</th>\n",
       "      <td>2020-04-18</td>\n",
       "      <td>Italy</td>\n",
       "      <td>60471924</td>\n",
       "      <td>1305833.0</td>\n",
       "      <td>175925.0</td>\n",
       "      <td>23227.0</td>\n",
       "      <td>44927.0</td>\n",
       "      <td>2733.0</td>\n",
       "      <td>107771.0</td>\n",
       "    </tr>\n",
       "    <tr>\n",
       "      <th>6</th>\n",
       "      <td>2020-04-18</td>\n",
       "      <td>France</td>\n",
       "      <td>65256826</td>\n",
       "      <td>463662.0</td>\n",
       "      <td>151793.0</td>\n",
       "      <td>19323.0</td>\n",
       "      <td>35983.0</td>\n",
       "      <td>5833.0</td>\n",
       "      <td>96487.0</td>\n",
       "    </tr>\n",
       "    <tr>\n",
       "      <th>7</th>\n",
       "      <td>2020-04-18</td>\n",
       "      <td>Germany</td>\n",
       "      <td>83752855</td>\n",
       "      <td>1728357.0</td>\n",
       "      <td>143724.0</td>\n",
       "      <td>4538.0</td>\n",
       "      <td>85400.0</td>\n",
       "      <td>2922.0</td>\n",
       "      <td>53786.0</td>\n",
       "    </tr>\n",
       "    <tr>\n",
       "      <th>8</th>\n",
       "      <td>2020-04-18</td>\n",
       "      <td>Turkey</td>\n",
       "      <td>84230075</td>\n",
       "      <td>598933.0</td>\n",
       "      <td>82329.0</td>\n",
       "      <td>1890.0</td>\n",
       "      <td>10453.0</td>\n",
       "      <td>1894.0</td>\n",
       "      <td>69986.0</td>\n",
       "    </tr>\n",
       "    <tr>\n",
       "      <th>9</th>\n",
       "      <td>2020-04-18</td>\n",
       "      <td>Iran</td>\n",
       "      <td>83862642</td>\n",
       "      <td>330137.0</td>\n",
       "      <td>80868.0</td>\n",
       "      <td>5031.0</td>\n",
       "      <td>55987.0</td>\n",
       "      <td>3513.0</td>\n",
       "      <td>19850.0</td>\n",
       "    </tr>\n",
       "    <tr>\n",
       "      <th>10</th>\n",
       "      <td>2020-04-18</td>\n",
       "      <td>India</td>\n",
       "      <td>1378381772</td>\n",
       "      <td>335123.0</td>\n",
       "      <td>16365.0</td>\n",
       "      <td>521.0</td>\n",
       "      <td>2463.0</td>\n",
       "      <td>NaN</td>\n",
       "      <td>13381.0</td>\n",
       "    </tr>\n",
       "  </tbody>\n",
       "</table>\n",
       "</div>"
      ],
      "text/plain": [
       "          Date  Country  Population  Total Tests  Total Cases  Total Deaths  \\\n",
       "0   2020-04-18      USA   330774664    3722145.0     738792.0       39014.0   \n",
       "1   2020-04-18   Russia   145927292    1831892.0      36793.0         313.0   \n",
       "2   2020-04-18    Spain    46752703     930230.0     194416.0       20043.0   \n",
       "3   2020-04-18   Brazil   212380932      62985.0      36722.0        2361.0   \n",
       "4   2020-04-18       UK    67844241     460437.0     114217.0       15464.0   \n",
       "5   2020-04-18    Italy    60471924    1305833.0     175925.0       23227.0   \n",
       "6   2020-04-18   France    65256826     463662.0     151793.0       19323.0   \n",
       "7   2020-04-18  Germany    83752855    1728357.0     143724.0        4538.0   \n",
       "8   2020-04-18   Turkey    84230075     598933.0      82329.0        1890.0   \n",
       "9   2020-04-18     Iran    83862642     330137.0      80868.0        5031.0   \n",
       "10  2020-04-18    India  1378381772     335123.0      16365.0         521.0   \n",
       "\n",
       "    Total Recovered  Serious or Critical  Active Cases  \n",
       "0           68269.0              13551.0      631509.0  \n",
       "1            3057.0                  8.0       33423.0  \n",
       "2           74797.0               7371.0       99576.0  \n",
       "3           14026.0               6634.0       20335.0  \n",
       "4               NaN               1559.0       98409.0  \n",
       "5           44927.0               2733.0      107771.0  \n",
       "6           35983.0               5833.0       96487.0  \n",
       "7           85400.0               2922.0       53786.0  \n",
       "8           10453.0               1894.0       69986.0  \n",
       "9           55987.0               3513.0       19850.0  \n",
       "10           2463.0                  NaN       13381.0  "
      ]
     },
     "execution_count": 2,
     "metadata": {},
     "output_type": "execute_result"
    }
   ],
   "source": [
    "#read the dataset and print the first few rows using head function\n",
    "df1 = pd.read_csv('Covid 19 Worldometer.csv')\n",
    "df1.head(11)"
   ]
  },
  {
   "cell_type": "code",
   "execution_count": 3,
   "metadata": {},
   "outputs": [
    {
     "data": {
      "text/html": [
       "<div>\n",
       "<style scoped>\n",
       "    .dataframe tbody tr th:only-of-type {\n",
       "        vertical-align: middle;\n",
       "    }\n",
       "\n",
       "    .dataframe tbody tr th {\n",
       "        vertical-align: top;\n",
       "    }\n",
       "\n",
       "    .dataframe thead th {\n",
       "        text-align: right;\n",
       "    }\n",
       "</style>\n",
       "<table border=\"1\" class=\"dataframe\">\n",
       "  <thead>\n",
       "    <tr style=\"text-align: right;\">\n",
       "      <th></th>\n",
       "      <th>Country</th>\n",
       "      <th>Fraction age 0-14 years</th>\n",
       "      <th>Fraction age 15-64 years</th>\n",
       "      <th>Fraction age 65+ years</th>\n",
       "    </tr>\n",
       "  </thead>\n",
       "  <tbody>\n",
       "    <tr>\n",
       "      <th>0</th>\n",
       "      <td>USA</td>\n",
       "      <td>0.189</td>\n",
       "      <td>0.657</td>\n",
       "      <td>0.154</td>\n",
       "    </tr>\n",
       "    <tr>\n",
       "      <th>1</th>\n",
       "      <td>Russia</td>\n",
       "      <td>0.176</td>\n",
       "      <td>0.682</td>\n",
       "      <td>0.142</td>\n",
       "    </tr>\n",
       "    <tr>\n",
       "      <th>2</th>\n",
       "      <td>Spain</td>\n",
       "      <td>0.147</td>\n",
       "      <td>0.659</td>\n",
       "      <td>0.194</td>\n",
       "    </tr>\n",
       "    <tr>\n",
       "      <th>3</th>\n",
       "      <td>Brazil</td>\n",
       "      <td>0.217</td>\n",
       "      <td>0.697</td>\n",
       "      <td>0.086</td>\n",
       "    </tr>\n",
       "    <tr>\n",
       "      <th>4</th>\n",
       "      <td>UK</td>\n",
       "      <td>0.177</td>\n",
       "      <td>0.638</td>\n",
       "      <td>0.185</td>\n",
       "    </tr>\n",
       "  </tbody>\n",
       "</table>\n",
       "</div>"
      ],
      "text/plain": [
       "  Country  Fraction age 0-14 years  Fraction age 15-64 years  \\\n",
       "0     USA                    0.189                     0.657   \n",
       "1  Russia                    0.176                     0.682   \n",
       "2   Spain                    0.147                     0.659   \n",
       "3  Brazil                    0.217                     0.697   \n",
       "4      UK                    0.177                     0.638   \n",
       "\n",
       "   Fraction age 65+ years  \n",
       "0                   0.154  \n",
       "1                   0.142  \n",
       "2                   0.194  \n",
       "3                   0.086  \n",
       "4                   0.185  "
      ]
     },
     "execution_count": 3,
     "metadata": {},
     "output_type": "execute_result"
    }
   ],
   "source": [
    "#Read age input\n",
    "age=pd.read_csv('Covid 19 age str.csv')\n",
    "age.head()"
   ]
  },
  {
   "cell_type": "code",
   "execution_count": 4,
   "metadata": {},
   "outputs": [
    {
     "data": {
      "text/html": [
       "<div>\n",
       "<style scoped>\n",
       "    .dataframe tbody tr th:only-of-type {\n",
       "        vertical-align: middle;\n",
       "    }\n",
       "\n",
       "    .dataframe tbody tr th {\n",
       "        vertical-align: top;\n",
       "    }\n",
       "\n",
       "    .dataframe thead th {\n",
       "        text-align: right;\n",
       "    }\n",
       "</style>\n",
       "<table border=\"1\" class=\"dataframe\">\n",
       "  <thead>\n",
       "    <tr style=\"text-align: right;\">\n",
       "      <th></th>\n",
       "      <th>Date</th>\n",
       "      <th>Country</th>\n",
       "      <th>Population</th>\n",
       "      <th>Total Tests</th>\n",
       "      <th>Total Cases</th>\n",
       "      <th>Total Deaths</th>\n",
       "      <th>Total Recovered</th>\n",
       "      <th>Serious or Critical</th>\n",
       "      <th>Active Cases</th>\n",
       "      <th>Fraction age 0-14 years</th>\n",
       "      <th>Fraction age 15-64 years</th>\n",
       "      <th>Fraction age 65+ years</th>\n",
       "    </tr>\n",
       "  </thead>\n",
       "  <tbody>\n",
       "    <tr>\n",
       "      <th>0</th>\n",
       "      <td>2020-04-18</td>\n",
       "      <td>USA</td>\n",
       "      <td>330774664.0</td>\n",
       "      <td>3722145.0</td>\n",
       "      <td>738792.0</td>\n",
       "      <td>39014.0</td>\n",
       "      <td>68269.0</td>\n",
       "      <td>13551.0</td>\n",
       "      <td>631509.0</td>\n",
       "      <td>NaN</td>\n",
       "      <td>NaN</td>\n",
       "      <td>NaN</td>\n",
       "    </tr>\n",
       "    <tr>\n",
       "      <th>1</th>\n",
       "      <td>2020-04-18</td>\n",
       "      <td>Russia</td>\n",
       "      <td>145927292.0</td>\n",
       "      <td>1831892.0</td>\n",
       "      <td>36793.0</td>\n",
       "      <td>313.0</td>\n",
       "      <td>3057.0</td>\n",
       "      <td>8.0</td>\n",
       "      <td>33423.0</td>\n",
       "      <td>NaN</td>\n",
       "      <td>NaN</td>\n",
       "      <td>NaN</td>\n",
       "    </tr>\n",
       "    <tr>\n",
       "      <th>2</th>\n",
       "      <td>2020-04-18</td>\n",
       "      <td>Spain</td>\n",
       "      <td>46752703.0</td>\n",
       "      <td>930230.0</td>\n",
       "      <td>194416.0</td>\n",
       "      <td>20043.0</td>\n",
       "      <td>74797.0</td>\n",
       "      <td>7371.0</td>\n",
       "      <td>99576.0</td>\n",
       "      <td>NaN</td>\n",
       "      <td>NaN</td>\n",
       "      <td>NaN</td>\n",
       "    </tr>\n",
       "    <tr>\n",
       "      <th>3</th>\n",
       "      <td>2020-04-18</td>\n",
       "      <td>Brazil</td>\n",
       "      <td>212380932.0</td>\n",
       "      <td>62985.0</td>\n",
       "      <td>36722.0</td>\n",
       "      <td>2361.0</td>\n",
       "      <td>14026.0</td>\n",
       "      <td>6634.0</td>\n",
       "      <td>20335.0</td>\n",
       "      <td>NaN</td>\n",
       "      <td>NaN</td>\n",
       "      <td>NaN</td>\n",
       "    </tr>\n",
       "    <tr>\n",
       "      <th>4</th>\n",
       "      <td>2020-04-18</td>\n",
       "      <td>UK</td>\n",
       "      <td>67844241.0</td>\n",
       "      <td>460437.0</td>\n",
       "      <td>114217.0</td>\n",
       "      <td>15464.0</td>\n",
       "      <td>NaN</td>\n",
       "      <td>1559.0</td>\n",
       "      <td>98409.0</td>\n",
       "      <td>NaN</td>\n",
       "      <td>NaN</td>\n",
       "      <td>NaN</td>\n",
       "    </tr>\n",
       "    <tr>\n",
       "      <th>...</th>\n",
       "      <td>...</td>\n",
       "      <td>...</td>\n",
       "      <td>...</td>\n",
       "      <td>...</td>\n",
       "      <td>...</td>\n",
       "      <td>...</td>\n",
       "      <td>...</td>\n",
       "      <td>...</td>\n",
       "      <td>...</td>\n",
       "      <td>...</td>\n",
       "      <td>...</td>\n",
       "      <td>...</td>\n",
       "    </tr>\n",
       "    <tr>\n",
       "      <th>208</th>\n",
       "      <td>NaN</td>\n",
       "      <td>St. Barth</td>\n",
       "      <td>NaN</td>\n",
       "      <td>NaN</td>\n",
       "      <td>NaN</td>\n",
       "      <td>NaN</td>\n",
       "      <td>NaN</td>\n",
       "      <td>NaN</td>\n",
       "      <td>NaN</td>\n",
       "      <td>NaN</td>\n",
       "      <td>NaN</td>\n",
       "      <td>NaN</td>\n",
       "    </tr>\n",
       "    <tr>\n",
       "      <th>209</th>\n",
       "      <td>NaN</td>\n",
       "      <td>Western Sahara</td>\n",
       "      <td>NaN</td>\n",
       "      <td>NaN</td>\n",
       "      <td>NaN</td>\n",
       "      <td>NaN</td>\n",
       "      <td>NaN</td>\n",
       "      <td>NaN</td>\n",
       "      <td>NaN</td>\n",
       "      <td>NaN</td>\n",
       "      <td>NaN</td>\n",
       "      <td>NaN</td>\n",
       "    </tr>\n",
       "    <tr>\n",
       "      <th>210</th>\n",
       "      <td>NaN</td>\n",
       "      <td>Anguilla</td>\n",
       "      <td>NaN</td>\n",
       "      <td>NaN</td>\n",
       "      <td>NaN</td>\n",
       "      <td>NaN</td>\n",
       "      <td>NaN</td>\n",
       "      <td>NaN</td>\n",
       "      <td>NaN</td>\n",
       "      <td>NaN</td>\n",
       "      <td>NaN</td>\n",
       "      <td>NaN</td>\n",
       "    </tr>\n",
       "    <tr>\n",
       "      <th>211</th>\n",
       "      <td>NaN</td>\n",
       "      <td>Lesotho</td>\n",
       "      <td>NaN</td>\n",
       "      <td>NaN</td>\n",
       "      <td>NaN</td>\n",
       "      <td>NaN</td>\n",
       "      <td>NaN</td>\n",
       "      <td>NaN</td>\n",
       "      <td>NaN</td>\n",
       "      <td>0.354</td>\n",
       "      <td>0.601</td>\n",
       "      <td>0.045</td>\n",
       "    </tr>\n",
       "    <tr>\n",
       "      <th>212</th>\n",
       "      <td>NaN</td>\n",
       "      <td>Saint Pierre Miquelon</td>\n",
       "      <td>NaN</td>\n",
       "      <td>NaN</td>\n",
       "      <td>NaN</td>\n",
       "      <td>NaN</td>\n",
       "      <td>NaN</td>\n",
       "      <td>NaN</td>\n",
       "      <td>NaN</td>\n",
       "      <td>NaN</td>\n",
       "      <td>NaN</td>\n",
       "      <td>NaN</td>\n",
       "    </tr>\n",
       "  </tbody>\n",
       "</table>\n",
       "<p>6816 rows × 12 columns</p>\n",
       "</div>"
      ],
      "text/plain": [
       "           Date                Country   Population  Total Tests  Total Cases  \\\n",
       "0    2020-04-18                    USA  330774664.0    3722145.0     738792.0   \n",
       "1    2020-04-18                 Russia  145927292.0    1831892.0      36793.0   \n",
       "2    2020-04-18                  Spain   46752703.0     930230.0     194416.0   \n",
       "3    2020-04-18                 Brazil  212380932.0      62985.0      36722.0   \n",
       "4    2020-04-18                     UK   67844241.0     460437.0     114217.0   \n",
       "..          ...                    ...          ...          ...          ...   \n",
       "208         NaN              St. Barth          NaN          NaN          NaN   \n",
       "209         NaN         Western Sahara          NaN          NaN          NaN   \n",
       "210         NaN               Anguilla          NaN          NaN          NaN   \n",
       "211         NaN                Lesotho          NaN          NaN          NaN   \n",
       "212         NaN  Saint Pierre Miquelon          NaN          NaN          NaN   \n",
       "\n",
       "     Total Deaths  Total Recovered  Serious or Critical  Active Cases  \\\n",
       "0         39014.0          68269.0              13551.0      631509.0   \n",
       "1           313.0           3057.0                  8.0       33423.0   \n",
       "2         20043.0          74797.0               7371.0       99576.0   \n",
       "3          2361.0          14026.0               6634.0       20335.0   \n",
       "4         15464.0              NaN               1559.0       98409.0   \n",
       "..            ...              ...                  ...           ...   \n",
       "208           NaN              NaN                  NaN           NaN   \n",
       "209           NaN              NaN                  NaN           NaN   \n",
       "210           NaN              NaN                  NaN           NaN   \n",
       "211           NaN              NaN                  NaN           NaN   \n",
       "212           NaN              NaN                  NaN           NaN   \n",
       "\n",
       "     Fraction age 0-14 years  Fraction age 15-64 years  Fraction age 65+ years  \n",
       "0                        NaN                       NaN                     NaN  \n",
       "1                        NaN                       NaN                     NaN  \n",
       "2                        NaN                       NaN                     NaN  \n",
       "3                        NaN                       NaN                     NaN  \n",
       "4                        NaN                       NaN                     NaN  \n",
       "..                       ...                       ...                     ...  \n",
       "208                      NaN                       NaN                     NaN  \n",
       "209                      NaN                       NaN                     NaN  \n",
       "210                      NaN                       NaN                     NaN  \n",
       "211                    0.354                     0.601                   0.045  \n",
       "212                      NaN                       NaN                     NaN  \n",
       "\n",
       "[6816 rows x 12 columns]"
      ]
     },
     "execution_count": 4,
     "metadata": {},
     "output_type": "execute_result"
    }
   ],
   "source": [
    "#concating the files\n",
    "df=pd.concat([df1,age])\n",
    "df"
   ]
  },
  {
   "cell_type": "code",
   "execution_count": 5,
   "metadata": {},
   "outputs": [
    {
     "data": {
      "text/plain": [
       "(6816, 12)"
      ]
     },
     "execution_count": 5,
     "metadata": {},
     "output_type": "execute_result"
    }
   ],
   "source": [
    "df.shape\n",
    "#print the number of rows and columns ie 6816 rows and 12 columns"
   ]
  },
  {
   "cell_type": "code",
   "execution_count": 6,
   "metadata": {},
   "outputs": [
    {
     "data": {
      "text/plain": [
       "Date                         object\n",
       "Country                      object\n",
       "Population                  float64\n",
       "Total Tests                 float64\n",
       "Total Cases                 float64\n",
       "Total Deaths                float64\n",
       "Total Recovered             float64\n",
       "Serious or Critical         float64\n",
       "Active Cases                float64\n",
       "Fraction age 0-14 years     float64\n",
       "Fraction age 15-64 years    float64\n",
       "Fraction age 65+ years      float64\n",
       "dtype: object"
      ]
     },
     "execution_count": 6,
     "metadata": {},
     "output_type": "execute_result"
    }
   ],
   "source": [
    "df.dtypes\n",
    "#lets check the types of data"
   ]
  },
  {
   "cell_type": "code",
   "execution_count": 7,
   "metadata": {},
   "outputs": [
    {
     "name": "stdout",
     "output_type": "stream",
     "text": [
      "<class 'pandas.core.frame.DataFrame'>\n",
      "Int64Index: 6816 entries, 0 to 212\n",
      "Data columns (total 12 columns):\n",
      " #   Column                    Non-Null Count  Dtype  \n",
      "---  ------                    --------------  -----  \n",
      " 0   Date                      6603 non-null   object \n",
      " 1   Country                   6816 non-null   object \n",
      " 2   Population                6603 non-null   float64\n",
      " 3   Total Tests               5505 non-null   float64\n",
      " 4   Total Cases               6554 non-null   float64\n",
      " 5   Total Deaths              5367 non-null   float64\n",
      " 6   Total Recovered           6318 non-null   float64\n",
      " 7   Serious or Critical       4117 non-null   float64\n",
      " 8   Active Cases              6544 non-null   float64\n",
      " 9   Fraction age 0-14 years   176 non-null    float64\n",
      " 10  Fraction age 15-64 years  176 non-null    float64\n",
      " 11  Fraction age 65+ years    176 non-null    float64\n",
      "dtypes: float64(10), object(2)\n",
      "memory usage: 692.2+ KB\n"
     ]
    }
   ],
   "source": [
    "df.info()\n",
    "#info function gives a concise summary of the dataframe; it tells us about the datatypes and non null values\n",
    "#here there are 10 float and 2 object/string valued columns"
   ]
  },
  {
   "cell_type": "code",
   "execution_count": 8,
   "metadata": {},
   "outputs": [
    {
     "data": {
      "text/html": [
       "<div>\n",
       "<style scoped>\n",
       "    .dataframe tbody tr th:only-of-type {\n",
       "        vertical-align: middle;\n",
       "    }\n",
       "\n",
       "    .dataframe tbody tr th {\n",
       "        vertical-align: top;\n",
       "    }\n",
       "\n",
       "    .dataframe thead th {\n",
       "        text-align: right;\n",
       "    }\n",
       "</style>\n",
       "<table border=\"1\" class=\"dataframe\">\n",
       "  <thead>\n",
       "    <tr style=\"text-align: right;\">\n",
       "      <th></th>\n",
       "      <th>Population</th>\n",
       "      <th>Total Tests</th>\n",
       "      <th>Total Cases</th>\n",
       "      <th>Total Deaths</th>\n",
       "      <th>Total Recovered</th>\n",
       "      <th>Serious or Critical</th>\n",
       "      <th>Active Cases</th>\n",
       "      <th>Fraction age 0-14 years</th>\n",
       "      <th>Fraction age 15-64 years</th>\n",
       "      <th>Fraction age 65+ years</th>\n",
       "    </tr>\n",
       "  </thead>\n",
       "  <tbody>\n",
       "    <tr>\n",
       "      <th>count</th>\n",
       "      <td>6.603000e+03</td>\n",
       "      <td>5.505000e+03</td>\n",
       "      <td>6.554000e+03</td>\n",
       "      <td>5367.000000</td>\n",
       "      <td>6318.000000</td>\n",
       "      <td>4117.000000</td>\n",
       "      <td>6.544000e+03</td>\n",
       "      <td>176.000000</td>\n",
       "      <td>176.000000</td>\n",
       "      <td>176.000000</td>\n",
       "    </tr>\n",
       "    <tr>\n",
       "      <th>mean</th>\n",
       "      <td>3.637913e+07</td>\n",
       "      <td>2.167252e+05</td>\n",
       "      <td>1.692968e+04</td>\n",
       "      <td>1416.252096</td>\n",
       "      <td>5855.424185</td>\n",
       "      <td>386.748360</td>\n",
       "      <td>9.964142e+03</td>\n",
       "      <td>0.276098</td>\n",
       "      <td>0.636109</td>\n",
       "      <td>0.087731</td>\n",
       "    </tr>\n",
       "    <tr>\n",
       "      <th>std</th>\n",
       "      <td>1.411537e+08</td>\n",
       "      <td>7.595143e+05</td>\n",
       "      <td>8.861467e+04</td>\n",
       "      <td>6645.247810</td>\n",
       "      <td>23467.641235</td>\n",
       "      <td>1658.428324</td>\n",
       "      <td>6.541025e+04</td>\n",
       "      <td>0.106748</td>\n",
       "      <td>0.066543</td>\n",
       "      <td>0.062522</td>\n",
       "    </tr>\n",
       "    <tr>\n",
       "      <th>min</th>\n",
       "      <td>8.010000e+02</td>\n",
       "      <td>1.000000e+01</td>\n",
       "      <td>1.000000e+00</td>\n",
       "      <td>0.000000</td>\n",
       "      <td>1.000000</td>\n",
       "      <td>1.000000</td>\n",
       "      <td>0.000000e+00</td>\n",
       "      <td>0.115000</td>\n",
       "      <td>0.472000</td>\n",
       "      <td>0.011000</td>\n",
       "    </tr>\n",
       "    <tr>\n",
       "      <th>25%</th>\n",
       "      <td>8.672680e+05</td>\n",
       "      <td>2.690000e+03</td>\n",
       "      <td>7.900000e+01</td>\n",
       "      <td>6.000000</td>\n",
       "      <td>26.000000</td>\n",
       "      <td>3.000000</td>\n",
       "      <td>2.600000e+01</td>\n",
       "      <td>0.177000</td>\n",
       "      <td>0.596750</td>\n",
       "      <td>0.034000</td>\n",
       "    </tr>\n",
       "    <tr>\n",
       "      <th>50%</th>\n",
       "      <td>6.859926e+06</td>\n",
       "      <td>2.547800e+04</td>\n",
       "      <td>6.135000e+02</td>\n",
       "      <td>24.000000</td>\n",
       "      <td>219.000000</td>\n",
       "      <td>13.000000</td>\n",
       "      <td>2.720000e+02</td>\n",
       "      <td>0.266500</td>\n",
       "      <td>0.649000</td>\n",
       "      <td>0.063500</td>\n",
       "    </tr>\n",
       "    <tr>\n",
       "      <th>75%</th>\n",
       "      <td>2.546422e+07</td>\n",
       "      <td>1.437810e+05</td>\n",
       "      <td>4.877500e+03</td>\n",
       "      <td>199.000000</td>\n",
       "      <td>1394.750000</td>\n",
       "      <td>89.000000</td>\n",
       "      <td>2.041000e+03</td>\n",
       "      <td>0.368250</td>\n",
       "      <td>0.675250</td>\n",
       "      <td>0.143250</td>\n",
       "    </tr>\n",
       "    <tr>\n",
       "      <th>max</th>\n",
       "      <td>1.439324e+09</td>\n",
       "      <td>1.230074e+07</td>\n",
       "      <td>1.550294e+06</td>\n",
       "      <td>91981.000000</td>\n",
       "      <td>356383.000000</td>\n",
       "      <td>18671.000000</td>\n",
       "      <td>1.101930e+06</td>\n",
       "      <td>0.502000</td>\n",
       "      <td>0.850000</td>\n",
       "      <td>0.270000</td>\n",
       "    </tr>\n",
       "  </tbody>\n",
       "</table>\n",
       "</div>"
      ],
      "text/plain": [
       "         Population   Total Tests   Total Cases  Total Deaths  \\\n",
       "count  6.603000e+03  5.505000e+03  6.554000e+03   5367.000000   \n",
       "mean   3.637913e+07  2.167252e+05  1.692968e+04   1416.252096   \n",
       "std    1.411537e+08  7.595143e+05  8.861467e+04   6645.247810   \n",
       "min    8.010000e+02  1.000000e+01  1.000000e+00      0.000000   \n",
       "25%    8.672680e+05  2.690000e+03  7.900000e+01      6.000000   \n",
       "50%    6.859926e+06  2.547800e+04  6.135000e+02     24.000000   \n",
       "75%    2.546422e+07  1.437810e+05  4.877500e+03    199.000000   \n",
       "max    1.439324e+09  1.230074e+07  1.550294e+06  91981.000000   \n",
       "\n",
       "       Total Recovered  Serious or Critical  Active Cases  \\\n",
       "count      6318.000000          4117.000000  6.544000e+03   \n",
       "mean       5855.424185           386.748360  9.964142e+03   \n",
       "std       23467.641235          1658.428324  6.541025e+04   \n",
       "min           1.000000             1.000000  0.000000e+00   \n",
       "25%          26.000000             3.000000  2.600000e+01   \n",
       "50%         219.000000            13.000000  2.720000e+02   \n",
       "75%        1394.750000            89.000000  2.041000e+03   \n",
       "max      356383.000000         18671.000000  1.101930e+06   \n",
       "\n",
       "       Fraction age 0-14 years  Fraction age 15-64 years  \\\n",
       "count               176.000000                176.000000   \n",
       "mean                  0.276098                  0.636109   \n",
       "std                   0.106748                  0.066543   \n",
       "min                   0.115000                  0.472000   \n",
       "25%                   0.177000                  0.596750   \n",
       "50%                   0.266500                  0.649000   \n",
       "75%                   0.368250                  0.675250   \n",
       "max                   0.502000                  0.850000   \n",
       "\n",
       "       Fraction age 65+ years  \n",
       "count              176.000000  \n",
       "mean                 0.087731  \n",
       "std                  0.062522  \n",
       "min                  0.011000  \n",
       "25%                  0.034000  \n",
       "50%                  0.063500  \n",
       "75%                  0.143250  \n",
       "max                  0.270000  "
      ]
     },
     "execution_count": 8,
     "metadata": {},
     "output_type": "execute_result"
    }
   ],
   "source": [
    "df.describe()\n",
    "#it shows the statistical inference of the data"
   ]
  },
  {
   "cell_type": "markdown",
   "metadata": {},
   "source": [
    "#From the above statistical table we can understand: We can see that for each column we have the following functions\n",
    "\n",
    "count- Number of non-null observations here all the columns contain 6.603000e+03 entries.\n",
    "\n",
    "mean- Mean of Values here mean of each column is found ie, mean of Population column= 3.637913e+07\t, Total Tests\t is 2.167252e+05\t etc\n",
    "\n",
    "std- Standard Deviation of the Values here stnadard deviation for Population is 1.411537e+08, Total Tests\t is 7.595143e+05\t etc\n",
    "\n",
    "min- Minimum value here it shows the min value Population is 8.010000e+02\t , for Total Tests\t is 1.000000e+01 etc\n",
    "\n",
    "max- Maximum value it shows the max value for Population as 1.439324e+09 , for Total Tests\t is 1.230074e+07\t etc\n",
    "\n",
    "25%, 50%, and 75% - IQR values it shows percentile values at 25%,50% and 75% ; for Population it is 8.672680e+05, 6.859926e+06\t and 2.546422e+07 respectively"
   ]
  },
  {
   "cell_type": "code",
   "execution_count": 9,
   "metadata": {},
   "outputs": [
    {
     "data": {
      "text/plain": [
       "Armenia                  32\n",
       "Paraguay                 32\n",
       "Cameroon                 32\n",
       "Saint Kitts and Nevis    32\n",
       "Curaçao                  32\n",
       "                         ..\n",
       "Benin                    32\n",
       "Nicaragua                32\n",
       "Barbados                 32\n",
       "Vatican City             32\n",
       "Thailand                 32\n",
       "Name: Country, Length: 213, dtype: int64"
      ]
     },
     "execution_count": 9,
     "metadata": {},
     "output_type": "execute_result"
    }
   ],
   "source": [
    "df['Country'].value_counts()\n",
    "#count the states"
   ]
  },
  {
   "cell_type": "code",
   "execution_count": 10,
   "metadata": {},
   "outputs": [
    {
     "data": {
      "text/plain": [
       "Date                        0\n",
       "Country                     0\n",
       "Population                  0\n",
       "Total Tests                 0\n",
       "Total Cases                 0\n",
       "Total Deaths                0\n",
       "Total Recovered             0\n",
       "Serious or Critical         0\n",
       "Active Cases                0\n",
       "Fraction age 0-14 years     0\n",
       "Fraction age 15-64 years    0\n",
       "Fraction age 65+ years      0\n",
       "dtype: int64"
      ]
     },
     "execution_count": 10,
     "metadata": {},
     "output_type": "execute_result"
    }
   ],
   "source": [
    "#As we can see there are no missing values\n",
    "df.isin(['?']).sum(axis=0)"
   ]
  },
  {
   "cell_type": "code",
   "execution_count": 11,
   "metadata": {},
   "outputs": [
    {
     "data": {
      "text/plain": [
       "Date                        0\n",
       "Country                     0\n",
       "Population                  0\n",
       "Total Tests                 0\n",
       "Total Cases                 0\n",
       "Total Deaths                0\n",
       "Total Recovered             0\n",
       "Serious or Critical         0\n",
       "Active Cases                0\n",
       "Fraction age 0-14 years     0\n",
       "Fraction age 15-64 years    0\n",
       "Fraction age 65+ years      0\n",
       "dtype: int64"
      ]
     },
     "execution_count": 11,
     "metadata": {},
     "output_type": "execute_result"
    }
   ],
   "source": [
    "#As we can see there are no missing values\n",
    "df.isin(['NaN']).sum(axis=0)"
   ]
  },
  {
   "cell_type": "code",
   "execution_count": 12,
   "metadata": {},
   "outputs": [
    {
     "data": {
      "text/plain": [
       "Date                         213\n",
       "Country                        0\n",
       "Population                   213\n",
       "Total Tests                 1311\n",
       "Total Cases                  262\n",
       "Total Deaths                1449\n",
       "Total Recovered              498\n",
       "Serious or Critical         2699\n",
       "Active Cases                 272\n",
       "Fraction age 0-14 years     6640\n",
       "Fraction age 15-64 years    6640\n",
       "Fraction age 65+ years      6640\n",
       "dtype: int64"
      ]
     },
     "execution_count": 12,
     "metadata": {},
     "output_type": "execute_result"
    }
   ],
   "source": [
    "df.isnull().sum()\n",
    "#check whether there is any null value"
   ]
  },
  {
   "cell_type": "code",
   "execution_count": 13,
   "metadata": {},
   "outputs": [
    {
     "data": {
      "text/plain": [
       "<matplotlib.axes._subplots.AxesSubplot at 0x2e2f087d208>"
      ]
     },
     "execution_count": 13,
     "metadata": {},
     "output_type": "execute_result"
    },
    {
     "data": {
      "image/png": "[encoded data removed]",
      "text/plain": [
       "<Figure size 432x288 with 2 Axes>"
      ]
     },
     "metadata": {
      "needs_background": "light"
     },
     "output_type": "display_data"
    }
   ],
   "source": [
    "import seaborn as sns\n",
    "sns.heatmap(df.isnull())"
   ]
  },
  {
   "cell_type": "code",
   "execution_count": 14,
   "metadata": {},
   "outputs": [],
   "source": [
    "#lets fill the null values using for loop\n",
    "for col in ['Date','Population','Total Recovered','Serious or Critical','Total Tests','Total Cases','Total Deaths','Active Cases','Fraction age 0-14 years','Fraction age 15-64 years','Fraction age 65+ years']:\n",
    "    df[col].fillna(df[col].mode()[0], inplace=True)"
   ]
  },
  {
   "cell_type": "code",
   "execution_count": 15,
   "metadata": {},
   "outputs": [
    {
     "data": {
      "text/plain": [
       "Date                        0\n",
       "Country                     0\n",
       "Population                  0\n",
       "Total Tests                 0\n",
       "Total Cases                 0\n",
       "Total Deaths                0\n",
       "Total Recovered             0\n",
       "Serious or Critical         0\n",
       "Active Cases                0\n",
       "Fraction age 0-14 years     0\n",
       "Fraction age 15-64 years    0\n",
       "Fraction age 65+ years      0\n",
       "dtype: int64"
      ]
     },
     "execution_count": 15,
     "metadata": {},
     "output_type": "execute_result"
    }
   ],
   "source": [
    "df.isnull().sum()"
   ]
  },
  {
   "cell_type": "code",
   "execution_count": 16,
   "metadata": {},
   "outputs": [
    {
     "data": {
      "text/plain": [
       "<matplotlib.axes._subplots.AxesSubplot at 0x2e2f0b17148>"
      ]
     },
     "execution_count": 16,
     "metadata": {},
     "output_type": "execute_result"
    },
    {
     "data": {
      "image/png": "[encoded data removed]",
      "text/plain": [
       "<Figure size 432x288 with 1 Axes>"
      ]
     },
     "metadata": {
      "needs_background": "light"
     },
     "output_type": "display_data"
    }
   ],
   "source": [
    "#lets use heatmap to plot each feature\n",
    "import seaborn as sns\n",
    "sns.distplot(df['Total Deaths'])"
   ]
  },
  {
   "cell_type": "code",
   "execution_count": 17,
   "metadata": {},
   "outputs": [
    {
     "data": {
      "text/plain": [
       "<matplotlib.axes._subplots.AxesSubplot at 0x2e2f0f1cf88>"
      ]
     },
     "execution_count": 17,
     "metadata": {},
     "output_type": "execute_result"
    },
    {
     "data": {
      "image/png": "[encoded data removed]",
      "text/plain": [
       "<Figure size 432x288 with 1 Axes>"
      ]
     },
     "metadata": {
      "needs_background": "light"
     },
     "output_type": "display_data"
    }
   ],
   "source": [
    "sns.distplot(df['Total Cases'])"
   ]
  },
  {
   "cell_type": "code",
   "execution_count": 18,
   "metadata": {},
   "outputs": [
    {
     "data": {
      "text/plain": [
       "<matplotlib.axes._subplots.AxesSubplot at 0x2e2f1021308>"
      ]
     },
     "execution_count": 18,
     "metadata": {},
     "output_type": "execute_result"
    },
    {
     "data": {
      "image/png": "[encoded data removed]",
      "text/plain": [
       "<Figure size 432x288 with 1 Axes>"
      ]
     },
     "metadata": {
      "needs_background": "light"
     },
     "output_type": "display_data"
    }
   ],
   "source": [
    "sns.distplot(df['Total Recovered'])"
   ]
  },
  {
   "cell_type": "code",
   "execution_count": 19,
   "metadata": {},
   "outputs": [
    {
     "data": {
      "image/png": "[encoded data removed]",
      "text/plain": [
       "<Figure size 432x288 with 2 Axes>"
      ]
     },
     "metadata": {
      "needs_background": "light"
     },
     "output_type": "display_data"
    }
   ],
   "source": [
    "#correlation \n",
    "corr = df.corr()\n",
    "ax = sns.heatmap(\n",
    "    corr, \n",
    "    vmin=-1, vmax=1, center=0,\n",
    "    cmap=sns.diverging_palette(20, 220, n=200),\n",
    "    square=True,\n",
    "    annot = True\n",
    ")\n",
    "ax.set_xticklabels(\n",
    "    ax.get_xticklabels(),\n",
    "    rotation=45,\n",
    "    horizontalalignment='right'\n",
    ");"
   ]
  },
  {
   "cell_type": "code",
   "execution_count": 20,
   "metadata": {},
   "outputs": [
    {
     "data": {
      "image/png": "[encoded data removed]",
      "text/plain": [
       "<Figure size 432x288 with 2 Axes>"
      ]
     },
     "metadata": {
      "needs_background": "light"
     },
     "output_type": "display_data"
    }
   ],
   "source": [
    "corr = df.corr()\n",
    "ax = sns.heatmap(\n",
    "    corr, \n",
    "    vmin=-1, vmax=1, center=0,\n",
    "    cmap=sns.diverging_palette(20, 220, n=200),\n",
    "    square=True,\n",
    "    annot = True\n",
    ")\n",
    "ax.set_xticklabels(\n",
    "    ax.get_xticklabels(),\n",
    "    rotation=45,\n",
    "    horizontalalignment='right'\n",
    ");"
   ]
  },
  {
   "cell_type": "code",
   "execution_count": 21,
   "metadata": {},
   "outputs": [],
   "source": [
    "#splitting x and y variable\n",
    "feature_cols=['Population','Total Cases','Total Recovered','Active Cases']\n",
    "X = df[feature_cols]"
   ]
  },
  {
   "cell_type": "code",
   "execution_count": 28,
   "metadata": {},
   "outputs": [
    {
     "data": {
      "text/plain": [
       "0      39014.0\n",
       "1        313.0\n",
       "2      20043.0\n",
       "3       2361.0\n",
       "4      15464.0\n",
       "        ...   \n",
       "208        1.0\n",
       "209        1.0\n",
       "210        1.0\n",
       "211        1.0\n",
       "212        1.0\n",
       "Name: Total Deaths, Length: 6816, dtype: float64"
      ]
     },
     "execution_count": 28,
     "metadata": {},
     "output_type": "execute_result"
    }
   ],
   "source": [
    "y = df['Total Deaths']\n",
    "y"
   ]
  },
  {
   "cell_type": "code",
   "execution_count": 29,
   "metadata": {},
   "outputs": [],
   "source": [
    "\n",
    "#Spliting the data into training and test set\n",
    "X_train,X_test,y_train,y_test = train_test_split(X,y,test_size = 0.2,random_state=1)"
   ]
  },
  {
   "cell_type": "code",
   "execution_count": 30,
   "metadata": {},
   "outputs": [
    {
     "data": {
      "text/plain": [
       "(1364, 4)"
      ]
     },
     "execution_count": 30,
     "metadata": {},
     "output_type": "execute_result"
    }
   ],
   "source": [
    "X_test.shape"
   ]
  },
  {
   "cell_type": "code",
   "execution_count": 31,
   "metadata": {},
   "outputs": [
    {
     "data": {
      "text/plain": [
       "(1364,)"
      ]
     },
     "execution_count": 31,
     "metadata": {},
     "output_type": "execute_result"
    }
   ],
   "source": [
    "y_test.shape"
   ]
  },
  {
   "cell_type": "code",
   "execution_count": 32,
   "metadata": {},
   "outputs": [],
   "source": [
    "#Normalizing the data\n",
    "from sklearn.preprocessing import StandardScaler\n",
    "\n",
    "sc_X = StandardScaler()\n",
    "X_train = sc_X.fit_transform(X_train)\n",
    "X_test = sc_X.transform(X_test)"
   ]
  },
  {
   "cell_type": "code",
   "execution_count": 33,
   "metadata": {},
   "outputs": [
    {
     "data": {
      "text/plain": [
       "(1364,)"
      ]
     },
     "execution_count": 33,
     "metadata": {},
     "output_type": "execute_result"
    }
   ],
   "source": [
    "y_test.shape"
   ]
  },
  {
   "cell_type": "code",
   "execution_count": 34,
   "metadata": {},
   "outputs": [
    {
     "data": {
      "text/plain": [
       "(1364, 4)"
      ]
     },
     "execution_count": 34,
     "metadata": {},
     "output_type": "execute_result"
    }
   ],
   "source": [
    "X_test.shape"
   ]
  },
  {
   "cell_type": "code",
   "execution_count": 35,
   "metadata": {},
   "outputs": [],
   "source": [
    "from sklearn.linear_model import LinearRegression\n",
    "from sklearn.tree import DecisionTreeRegressor\n",
    "from sklearn.ensemble import RandomForestRegressor\n",
    "from sklearn.preprocessing import PolynomialFeatures\n"
   ]
  },
  {
   "cell_type": "code",
   "execution_count": 36,
   "metadata": {},
   "outputs": [
    {
     "name": "stdout",
     "output_type": "stream",
     "text": [
      "Linear Regression Score: 0.8828150718556205\n"
     ]
    }
   ],
   "source": [
    "#Model Prediction\n",
    "\n",
    "#We can see that the dataset is continuous in nature and hence Linear Regression is apt here.\n",
    "\n",
    "#Using sklearns linear regression model\n",
    "regressor = LinearRegression()\n",
    "regressor.fit(X_train, y_train)\n",
    "linear_regression_score = regressor.score(X_test, y_test)\n",
    "print(\"Linear Regression Score:\", linear_regression_score)"
   ]
  },
  {
   "cell_type": "code",
   "execution_count": 37,
   "metadata": {},
   "outputs": [
    {
     "name": "stdout",
     "output_type": "stream",
     "text": [
      "DT Score: 0.9988899532652814\n"
     ]
    }
   ],
   "source": [
    "#Using sklearns Decision tree regressor model\n",
    "regressor = DecisionTreeRegressor(random_state = 0)\n",
    "regressor.fit(X_train, y_train)\n",
    "tree_score = regressor.score(X_test, y_test)\n",
    "print(\"DT Score:\", regressor.score(X_test, y_test))"
   ]
  },
  {
   "cell_type": "code",
   "execution_count": 38,
   "metadata": {},
   "outputs": [
    {
     "name": "stdout",
     "output_type": "stream",
     "text": [
      "RF Score: 0.9968304754611753\n"
     ]
    }
   ],
   "source": [
    "#Using sklearns Random forest regressor model \n",
    "regressor = RandomForestRegressor(n_estimators = 10, random_state = 0)\n",
    "regressor.fit(X_train, y_train)\n",
    "forest_score = regressor.score(X_test, y_test)\n",
    "print(\"RF Score:\", regressor.score(X_test, y_test))"
   ]
  },
  {
   "cell_type": "code",
   "execution_count": 39,
   "metadata": {},
   "outputs": [
    {
     "name": "stdout",
     "output_type": "stream",
     "text": [
      "Poly Score: 0.33919596952813413\n"
     ]
    }
   ],
   "source": [
    "#Using plynomial regression using polynomial features\n",
    "poly_reg = PolynomialFeatures(degree = 5)\n",
    "X_poly = poly_reg.fit_transform(X_train)\n",
    "regressor = LinearRegression()\n",
    "regressor.fit(X_poly, y_train)\n",
    "poly_score = regressor.score(poly_reg.transform(X_test), y_test)\n",
    "print(\"Poly Score:\", regressor.score(poly_reg.transform(X_test), y_test))"
   ]
  },
  {
   "cell_type": "code",
   "execution_count": 40,
   "metadata": {},
   "outputs": [],
   "source": [
    "#we can see that the decison tree regression gives us the highest accuracy score which is 99.83%. Hence I chose Decision Tree for the best model."
   ]
  },
  {
   "cell_type": "code",
   "execution_count": 64,
   "metadata": {},
   "outputs": [
    {
     "data": {
      "text/plain": [
       "['Model Covid 19 worldwise.pkl']"
      ]
     },
     "execution_count": 64,
     "metadata": {},
     "output_type": "execute_result"
    }
   ],
   "source": [
    "#lets save the final model\n",
    "from sklearn.externals import joblib\n",
    "\n",
    "#save the model as pickle in a file\n",
    "joblib.dump(DecisionTreeRegressor,'Model Covid 19 worldwise.pkl')"
   ]
  },
  {
   "cell_type": "code",
   "execution_count": null,
   "metadata": {},
   "outputs": [],
   "source": []
  }
 ],
 "metadata": {
  "kernelspec": {
   "display_name": "Python 3",
   "language": "python",
   "name": "python3"
  },
  "language_info": {
   "codemirror_mode": {
    "name": "ipython",
    "version": 3
   },
   "file_extension": ".py",
   "mimetype": "text/x-python",
   "name": "python",
   "nbconvert_exporter": "python",
   "pygments_lexer": "ipython3",
   "version": "3.7.6"
  }
 },
 "nbformat": 4,
 "nbformat_minor": 4
}
