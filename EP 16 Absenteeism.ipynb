{
 "cells": [
  {
   "cell_type": "code",
   "execution_count": 3,
   "metadata": {},
   "outputs": [
    {
     "name": "stdout",
     "output_type": "stream",
     "text": [
      "Collecting treeinterpreter\n",
      "  Downloading treeinterpreter-0.2.2-py2.py3-none-any.whl (6.2 kB)\n",
      "Installing collected packages: treeinterpreter\n",
      "Successfully installed treeinterpreter-0.2.2\n",
      "Note: you may need to restart the kernel to use updated packages.\n"
     ]
    }
   ],
   "source": [
    "pip install treeinterpreter\n"
   ]
  },
  {
   "cell_type": "code",
   "execution_count": 4,
   "metadata": {},
   "outputs": [],
   "source": [
    "#import libraries\n",
    "\n",
    "import pandas as pd\n",
    "import numpy as np\n",
    "import seaborn as sns\n",
    "import matplotlib.pyplot as plt\n",
    "\n",
    "import warnings\n",
    "warnings.filterwarnings('ignore')\n",
    "from sklearn.model_selection import train_test_split\n",
    "from sklearn.ensemble import RandomForestRegressor, RandomForestClassifier\n",
    "from sklearn.metrics import r2_score, mean_squared_error as MSE\n",
    "#from scipy.stats import spearmanr, pearsonr\n",
    "from sklearn import metrics\n",
    "from sklearn.metrics import classification_report\n",
    "from scipy.cluster import hierarchy as hc\n",
    "import scipy\n",
    "from treeinterpreter import treeinterpreter as ti\n",
    "from collections import Counter\n"
   ]
  },
  {
   "cell_type": "code",
   "execution_count": 6,
   "metadata": {},
   "outputs": [
    {
     "data": {
      "text/html": [
       "<div>\n",
       "<style scoped>\n",
       "    .dataframe tbody tr th:only-of-type {\n",
       "        vertical-align: middle;\n",
       "    }\n",
       "\n",
       "    .dataframe tbody tr th {\n",
       "        vertical-align: top;\n",
       "    }\n",
       "\n",
       "    .dataframe thead th {\n",
       "        text-align: right;\n",
       "    }\n",
       "</style>\n",
       "<table border=\"1\" class=\"dataframe\">\n",
       "  <thead>\n",
       "    <tr style=\"text-align: right;\">\n",
       "      <th></th>\n",
       "      <th>ID</th>\n",
       "      <th>Reason for absence</th>\n",
       "      <th>Month of absence</th>\n",
       "      <th>Day of the week</th>\n",
       "      <th>Seasons</th>\n",
       "      <th>Transportation expense</th>\n",
       "      <th>Distance from Residence to Work</th>\n",
       "      <th>Service time</th>\n",
       "      <th>Age</th>\n",
       "      <th>Work load Average/day</th>\n",
       "      <th>...</th>\n",
       "      <th>Disciplinary failure</th>\n",
       "      <th>Education</th>\n",
       "      <th>Son</th>\n",
       "      <th>Social drinker</th>\n",
       "      <th>Social smoker</th>\n",
       "      <th>Pet</th>\n",
       "      <th>Weight</th>\n",
       "      <th>Height</th>\n",
       "      <th>Body mass index</th>\n",
       "      <th>Absenteeism time in hours</th>\n",
       "    </tr>\n",
       "  </thead>\n",
       "  <tbody>\n",
       "    <tr>\n",
       "      <th>0</th>\n",
       "      <td>11</td>\n",
       "      <td>26</td>\n",
       "      <td>7</td>\n",
       "      <td>3</td>\n",
       "      <td>1</td>\n",
       "      <td>289</td>\n",
       "      <td>36</td>\n",
       "      <td>13</td>\n",
       "      <td>33</td>\n",
       "      <td>239554</td>\n",
       "      <td>...</td>\n",
       "      <td>0</td>\n",
       "      <td>1</td>\n",
       "      <td>2</td>\n",
       "      <td>1</td>\n",
       "      <td>0</td>\n",
       "      <td>1</td>\n",
       "      <td>90</td>\n",
       "      <td>172</td>\n",
       "      <td>30</td>\n",
       "      <td>4</td>\n",
       "    </tr>\n",
       "    <tr>\n",
       "      <th>1</th>\n",
       "      <td>36</td>\n",
       "      <td>0</td>\n",
       "      <td>7</td>\n",
       "      <td>3</td>\n",
       "      <td>1</td>\n",
       "      <td>118</td>\n",
       "      <td>13</td>\n",
       "      <td>18</td>\n",
       "      <td>50</td>\n",
       "      <td>239554</td>\n",
       "      <td>...</td>\n",
       "      <td>1</td>\n",
       "      <td>1</td>\n",
       "      <td>1</td>\n",
       "      <td>1</td>\n",
       "      <td>0</td>\n",
       "      <td>0</td>\n",
       "      <td>98</td>\n",
       "      <td>178</td>\n",
       "      <td>31</td>\n",
       "      <td>0</td>\n",
       "    </tr>\n",
       "    <tr>\n",
       "      <th>2</th>\n",
       "      <td>3</td>\n",
       "      <td>23</td>\n",
       "      <td>7</td>\n",
       "      <td>4</td>\n",
       "      <td>1</td>\n",
       "      <td>179</td>\n",
       "      <td>51</td>\n",
       "      <td>18</td>\n",
       "      <td>38</td>\n",
       "      <td>239554</td>\n",
       "      <td>...</td>\n",
       "      <td>0</td>\n",
       "      <td>1</td>\n",
       "      <td>0</td>\n",
       "      <td>1</td>\n",
       "      <td>0</td>\n",
       "      <td>0</td>\n",
       "      <td>89</td>\n",
       "      <td>170</td>\n",
       "      <td>31</td>\n",
       "      <td>2</td>\n",
       "    </tr>\n",
       "    <tr>\n",
       "      <th>3</th>\n",
       "      <td>7</td>\n",
       "      <td>7</td>\n",
       "      <td>7</td>\n",
       "      <td>5</td>\n",
       "      <td>1</td>\n",
       "      <td>279</td>\n",
       "      <td>5</td>\n",
       "      <td>14</td>\n",
       "      <td>39</td>\n",
       "      <td>239554</td>\n",
       "      <td>...</td>\n",
       "      <td>0</td>\n",
       "      <td>1</td>\n",
       "      <td>2</td>\n",
       "      <td>1</td>\n",
       "      <td>1</td>\n",
       "      <td>0</td>\n",
       "      <td>68</td>\n",
       "      <td>168</td>\n",
       "      <td>24</td>\n",
       "      <td>4</td>\n",
       "    </tr>\n",
       "    <tr>\n",
       "      <th>4</th>\n",
       "      <td>11</td>\n",
       "      <td>23</td>\n",
       "      <td>7</td>\n",
       "      <td>5</td>\n",
       "      <td>1</td>\n",
       "      <td>289</td>\n",
       "      <td>36</td>\n",
       "      <td>13</td>\n",
       "      <td>33</td>\n",
       "      <td>239554</td>\n",
       "      <td>...</td>\n",
       "      <td>0</td>\n",
       "      <td>1</td>\n",
       "      <td>2</td>\n",
       "      <td>1</td>\n",
       "      <td>0</td>\n",
       "      <td>1</td>\n",
       "      <td>90</td>\n",
       "      <td>172</td>\n",
       "      <td>30</td>\n",
       "      <td>2</td>\n",
       "    </tr>\n",
       "  </tbody>\n",
       "</table>\n",
       "<p>5 rows × 21 columns</p>\n",
       "</div>"
      ],
      "text/plain": [
       "   ID  Reason for absence  Month of absence  Day of the week  Seasons  \\\n",
       "0  11                  26                 7                3        1   \n",
       "1  36                   0                 7                3        1   \n",
       "2   3                  23                 7                4        1   \n",
       "3   7                   7                 7                5        1   \n",
       "4  11                  23                 7                5        1   \n",
       "\n",
       "   Transportation expense  Distance from Residence to Work  Service time  Age  \\\n",
       "0                     289                               36            13   33   \n",
       "1                     118                               13            18   50   \n",
       "2                     179                               51            18   38   \n",
       "3                     279                                5            14   39   \n",
       "4                     289                               36            13   33   \n",
       "\n",
       "   Work load Average/day   ...  Disciplinary failure  Education  Son  \\\n",
       "0                  239554  ...                     0          1    2   \n",
       "1                  239554  ...                     1          1    1   \n",
       "2                  239554  ...                     0          1    0   \n",
       "3                  239554  ...                     0          1    2   \n",
       "4                  239554  ...                     0          1    2   \n",
       "\n",
       "   Social drinker  Social smoker  Pet  Weight  Height  Body mass index  \\\n",
       "0               1              0    1      90     172               30   \n",
       "1               1              0    0      98     178               31   \n",
       "2               1              0    0      89     170               31   \n",
       "3               1              1    0      68     168               24   \n",
       "4               1              0    1      90     172               30   \n",
       "\n",
       "   Absenteeism time in hours  \n",
       "0                          4  \n",
       "1                          0  \n",
       "2                          2  \n",
       "3                          4  \n",
       "4                          2  \n",
       "\n",
       "[5 rows x 21 columns]"
      ]
     },
     "execution_count": 6,
     "metadata": {},
     "output_type": "execute_result"
    }
   ],
   "source": [
    "df =  pd.read_excel('Absenteeism_at_work.xls')\n",
    "df.head()\n",
    "#read the dataset in excel format and print using head function - first few rows"
   ]
  },
  {
   "cell_type": "code",
   "execution_count": 7,
   "metadata": {},
   "outputs": [
    {
     "data": {
      "text/plain": [
       "(740, 21)"
      ]
     },
     "execution_count": 7,
     "metadata": {},
     "output_type": "execute_result"
    }
   ],
   "source": [
    "df.shape\n",
    "#shape tells us the number of rows and columns; here there are 740 rows and 21 columns"
   ]
  },
  {
   "cell_type": "code",
   "execution_count": 8,
   "metadata": {},
   "outputs": [
    {
     "name": "stdout",
     "output_type": "stream",
     "text": [
      "<class 'pandas.core.frame.DataFrame'>\n",
      "RangeIndex: 740 entries, 0 to 739\n",
      "Data columns (total 21 columns):\n",
      " #   Column                           Non-Null Count  Dtype\n",
      "---  ------                           --------------  -----\n",
      " 0   ID                               740 non-null    int64\n",
      " 1   Reason for absence               740 non-null    int64\n",
      " 2   Month of absence                 740 non-null    int64\n",
      " 3   Day of the week                  740 non-null    int64\n",
      " 4   Seasons                          740 non-null    int64\n",
      " 5   Transportation expense           740 non-null    int64\n",
      " 6   Distance from Residence to Work  740 non-null    int64\n",
      " 7   Service time                     740 non-null    int64\n",
      " 8   Age                              740 non-null    int64\n",
      " 9   Work load Average/day            740 non-null    int64\n",
      " 10  Hit target                       740 non-null    int64\n",
      " 11  Disciplinary failure             740 non-null    int64\n",
      " 12  Education                        740 non-null    int64\n",
      " 13  Son                              740 non-null    int64\n",
      " 14  Social drinker                   740 non-null    int64\n",
      " 15  Social smoker                    740 non-null    int64\n",
      " 16  Pet                              740 non-null    int64\n",
      " 17  Weight                           740 non-null    int64\n",
      " 18  Height                           740 non-null    int64\n",
      " 19  Body mass index                  740 non-null    int64\n",
      " 20  Absenteeism time in hours        740 non-null    int64\n",
      "dtypes: int64(21)\n",
      "memory usage: 121.5 KB\n"
     ]
    }
   ],
   "source": [
    "df.info()\n",
    "#info function tells us the concise summary of the dataframe; it tells us about the datatypes and the count of non null values; \n",
    "#here there are 21 int valued columns"
   ]
  },
  {
   "cell_type": "code",
   "execution_count": 10,
   "metadata": {},
   "outputs": [],
   "source": [
    "df.columns = df.columns.str.replace('/', 'per').str.strip()\n",
    "#The above results shows that this dataset has just 740 rows with the size of 122 KB. One of the column \"Work load Average/day\" has forward slash and we are replacing to avoid unnecessary errors in future."
   ]
  },
  {
   "cell_type": "code",
   "execution_count": 11,
   "metadata": {},
   "outputs": [
    {
     "data": {
      "text/html": [
       "<div>\n",
       "<style scoped>\n",
       "    .dataframe tbody tr th:only-of-type {\n",
       "        vertical-align: middle;\n",
       "    }\n",
       "\n",
       "    .dataframe tbody tr th {\n",
       "        vertical-align: top;\n",
       "    }\n",
       "\n",
       "    .dataframe thead th {\n",
       "        text-align: right;\n",
       "    }\n",
       "</style>\n",
       "<table border=\"1\" class=\"dataframe\">\n",
       "  <thead>\n",
       "    <tr style=\"text-align: right;\">\n",
       "      <th></th>\n",
       "      <th>ID</th>\n",
       "    </tr>\n",
       "    <tr>\n",
       "      <th>ID</th>\n",
       "      <th></th>\n",
       "    </tr>\n",
       "  </thead>\n",
       "  <tbody>\n",
       "    <tr>\n",
       "      <th>1</th>\n",
       "      <td>23</td>\n",
       "    </tr>\n",
       "    <tr>\n",
       "      <th>2</th>\n",
       "      <td>6</td>\n",
       "    </tr>\n",
       "    <tr>\n",
       "      <th>3</th>\n",
       "      <td>113</td>\n",
       "    </tr>\n",
       "    <tr>\n",
       "      <th>4</th>\n",
       "      <td>1</td>\n",
       "    </tr>\n",
       "    <tr>\n",
       "      <th>5</th>\n",
       "      <td>19</td>\n",
       "    </tr>\n",
       "  </tbody>\n",
       "</table>\n",
       "</div>"
      ],
      "text/plain": [
       "     ID\n",
       "ID     \n",
       "1    23\n",
       "2     6\n",
       "3   113\n",
       "4     1\n",
       "5    19"
      ]
     },
     "execution_count": 11,
     "metadata": {},
     "output_type": "execute_result"
    }
   ],
   "source": [
    "df.groupby('ID')[['ID']].count().head()\n",
    "#grouping by ID; it tells us that its not a relevant column as it is not a continuous one."
   ]
  },
  {
   "cell_type": "code",
   "execution_count": 12,
   "metadata": {},
   "outputs": [
    {
     "data": {
      "text/plain": [
       "21"
      ]
     },
     "execution_count": 12,
     "metadata": {},
     "output_type": "execute_result"
    }
   ],
   "source": [
    "len(df.columns)\n",
    "#using len function checking the dataset length"
   ]
  },
  {
   "cell_type": "code",
   "execution_count": 13,
   "metadata": {},
   "outputs": [
    {
     "data": {
      "text/plain": [
       "ID                                 int64\n",
       "Reason for absence                 int64\n",
       "Month of absence                   int64\n",
       "Day of the week                    int64\n",
       "Seasons                            int64\n",
       "Transportation expense             int64\n",
       "Distance from Residence to Work    int64\n",
       "Service time                       int64\n",
       "Age                                int64\n",
       "Work load Averageperday            int64\n",
       "Hit target                         int64\n",
       "Disciplinary failure               int64\n",
       "Education                          int64\n",
       "Son                                int64\n",
       "Social drinker                     int64\n",
       "Social smoker                      int64\n",
       "Pet                                int64\n",
       "Weight                             int64\n",
       "Height                             int64\n",
       "Body mass index                    int64\n",
       "Absenteeism time in hours          int64\n",
       "dtype: object"
      ]
     },
     "execution_count": 13,
     "metadata": {},
     "output_type": "execute_result"
    }
   ],
   "source": [
    "df.dtypes\n",
    "#dtypes tells us the datatype of each column in the dataset; here all the values are in integer datatype"
   ]
  },
  {
   "cell_type": "code",
   "execution_count": 14,
   "metadata": {},
   "outputs": [
    {
     "data": {
      "text/html": [
       "<div>\n",
       "<style scoped>\n",
       "    .dataframe tbody tr th:only-of-type {\n",
       "        vertical-align: middle;\n",
       "    }\n",
       "\n",
       "    .dataframe tbody tr th {\n",
       "        vertical-align: top;\n",
       "    }\n",
       "\n",
       "    .dataframe thead th {\n",
       "        text-align: right;\n",
       "    }\n",
       "</style>\n",
       "<table border=\"1\" class=\"dataframe\">\n",
       "  <thead>\n",
       "    <tr style=\"text-align: right;\">\n",
       "      <th></th>\n",
       "      <th>ID</th>\n",
       "      <th>Reason for absence</th>\n",
       "      <th>Month of absence</th>\n",
       "      <th>Day of the week</th>\n",
       "      <th>Seasons</th>\n",
       "      <th>Transportation expense</th>\n",
       "      <th>Distance from Residence to Work</th>\n",
       "      <th>Service time</th>\n",
       "      <th>Age</th>\n",
       "      <th>Work load Averageperday</th>\n",
       "      <th>...</th>\n",
       "      <th>Disciplinary failure</th>\n",
       "      <th>Education</th>\n",
       "      <th>Son</th>\n",
       "      <th>Social drinker</th>\n",
       "      <th>Social smoker</th>\n",
       "      <th>Pet</th>\n",
       "      <th>Weight</th>\n",
       "      <th>Height</th>\n",
       "      <th>Body mass index</th>\n",
       "      <th>Absenteeism time in hours</th>\n",
       "    </tr>\n",
       "  </thead>\n",
       "  <tbody>\n",
       "    <tr>\n",
       "      <th>count</th>\n",
       "      <td>740.000000</td>\n",
       "      <td>740.000000</td>\n",
       "      <td>740.000000</td>\n",
       "      <td>740.000000</td>\n",
       "      <td>740.000000</td>\n",
       "      <td>740.000000</td>\n",
       "      <td>740.000000</td>\n",
       "      <td>740.000000</td>\n",
       "      <td>740.000000</td>\n",
       "      <td>740.000000</td>\n",
       "      <td>...</td>\n",
       "      <td>740.000000</td>\n",
       "      <td>740.000000</td>\n",
       "      <td>740.000000</td>\n",
       "      <td>740.000000</td>\n",
       "      <td>740.000000</td>\n",
       "      <td>740.000000</td>\n",
       "      <td>740.000000</td>\n",
       "      <td>740.000000</td>\n",
       "      <td>740.000000</td>\n",
       "      <td>740.000000</td>\n",
       "    </tr>\n",
       "    <tr>\n",
       "      <th>mean</th>\n",
       "      <td>18.017568</td>\n",
       "      <td>19.216216</td>\n",
       "      <td>6.324324</td>\n",
       "      <td>3.914865</td>\n",
       "      <td>2.544595</td>\n",
       "      <td>221.329730</td>\n",
       "      <td>29.631081</td>\n",
       "      <td>12.554054</td>\n",
       "      <td>36.450000</td>\n",
       "      <td>271490.235135</td>\n",
       "      <td>...</td>\n",
       "      <td>0.054054</td>\n",
       "      <td>1.291892</td>\n",
       "      <td>1.018919</td>\n",
       "      <td>0.567568</td>\n",
       "      <td>0.072973</td>\n",
       "      <td>0.745946</td>\n",
       "      <td>79.035135</td>\n",
       "      <td>172.114865</td>\n",
       "      <td>26.677027</td>\n",
       "      <td>6.924324</td>\n",
       "    </tr>\n",
       "    <tr>\n",
       "      <th>std</th>\n",
       "      <td>11.021247</td>\n",
       "      <td>8.433406</td>\n",
       "      <td>3.436287</td>\n",
       "      <td>1.421675</td>\n",
       "      <td>1.111831</td>\n",
       "      <td>66.952223</td>\n",
       "      <td>14.836788</td>\n",
       "      <td>4.384873</td>\n",
       "      <td>6.478772</td>\n",
       "      <td>39058.116188</td>\n",
       "      <td>...</td>\n",
       "      <td>0.226277</td>\n",
       "      <td>0.673238</td>\n",
       "      <td>1.098489</td>\n",
       "      <td>0.495749</td>\n",
       "      <td>0.260268</td>\n",
       "      <td>1.318258</td>\n",
       "      <td>12.883211</td>\n",
       "      <td>6.034995</td>\n",
       "      <td>4.285452</td>\n",
       "      <td>13.330998</td>\n",
       "    </tr>\n",
       "    <tr>\n",
       "      <th>min</th>\n",
       "      <td>1.000000</td>\n",
       "      <td>0.000000</td>\n",
       "      <td>0.000000</td>\n",
       "      <td>2.000000</td>\n",
       "      <td>1.000000</td>\n",
       "      <td>118.000000</td>\n",
       "      <td>5.000000</td>\n",
       "      <td>1.000000</td>\n",
       "      <td>27.000000</td>\n",
       "      <td>205917.000000</td>\n",
       "      <td>...</td>\n",
       "      <td>0.000000</td>\n",
       "      <td>1.000000</td>\n",
       "      <td>0.000000</td>\n",
       "      <td>0.000000</td>\n",
       "      <td>0.000000</td>\n",
       "      <td>0.000000</td>\n",
       "      <td>56.000000</td>\n",
       "      <td>163.000000</td>\n",
       "      <td>19.000000</td>\n",
       "      <td>0.000000</td>\n",
       "    </tr>\n",
       "    <tr>\n",
       "      <th>25%</th>\n",
       "      <td>9.000000</td>\n",
       "      <td>13.000000</td>\n",
       "      <td>3.000000</td>\n",
       "      <td>3.000000</td>\n",
       "      <td>2.000000</td>\n",
       "      <td>179.000000</td>\n",
       "      <td>16.000000</td>\n",
       "      <td>9.000000</td>\n",
       "      <td>31.000000</td>\n",
       "      <td>244387.000000</td>\n",
       "      <td>...</td>\n",
       "      <td>0.000000</td>\n",
       "      <td>1.000000</td>\n",
       "      <td>0.000000</td>\n",
       "      <td>0.000000</td>\n",
       "      <td>0.000000</td>\n",
       "      <td>0.000000</td>\n",
       "      <td>69.000000</td>\n",
       "      <td>169.000000</td>\n",
       "      <td>24.000000</td>\n",
       "      <td>2.000000</td>\n",
       "    </tr>\n",
       "    <tr>\n",
       "      <th>50%</th>\n",
       "      <td>18.000000</td>\n",
       "      <td>23.000000</td>\n",
       "      <td>6.000000</td>\n",
       "      <td>4.000000</td>\n",
       "      <td>3.000000</td>\n",
       "      <td>225.000000</td>\n",
       "      <td>26.000000</td>\n",
       "      <td>13.000000</td>\n",
       "      <td>37.000000</td>\n",
       "      <td>264249.000000</td>\n",
       "      <td>...</td>\n",
       "      <td>0.000000</td>\n",
       "      <td>1.000000</td>\n",
       "      <td>1.000000</td>\n",
       "      <td>1.000000</td>\n",
       "      <td>0.000000</td>\n",
       "      <td>0.000000</td>\n",
       "      <td>83.000000</td>\n",
       "      <td>170.000000</td>\n",
       "      <td>25.000000</td>\n",
       "      <td>3.000000</td>\n",
       "    </tr>\n",
       "    <tr>\n",
       "      <th>75%</th>\n",
       "      <td>28.000000</td>\n",
       "      <td>26.000000</td>\n",
       "      <td>9.000000</td>\n",
       "      <td>5.000000</td>\n",
       "      <td>4.000000</td>\n",
       "      <td>260.000000</td>\n",
       "      <td>50.000000</td>\n",
       "      <td>16.000000</td>\n",
       "      <td>40.000000</td>\n",
       "      <td>294217.000000</td>\n",
       "      <td>...</td>\n",
       "      <td>0.000000</td>\n",
       "      <td>1.000000</td>\n",
       "      <td>2.000000</td>\n",
       "      <td>1.000000</td>\n",
       "      <td>0.000000</td>\n",
       "      <td>1.000000</td>\n",
       "      <td>89.000000</td>\n",
       "      <td>172.000000</td>\n",
       "      <td>31.000000</td>\n",
       "      <td>8.000000</td>\n",
       "    </tr>\n",
       "    <tr>\n",
       "      <th>max</th>\n",
       "      <td>36.000000</td>\n",
       "      <td>28.000000</td>\n",
       "      <td>12.000000</td>\n",
       "      <td>6.000000</td>\n",
       "      <td>4.000000</td>\n",
       "      <td>388.000000</td>\n",
       "      <td>52.000000</td>\n",
       "      <td>29.000000</td>\n",
       "      <td>58.000000</td>\n",
       "      <td>378884.000000</td>\n",
       "      <td>...</td>\n",
       "      <td>1.000000</td>\n",
       "      <td>4.000000</td>\n",
       "      <td>4.000000</td>\n",
       "      <td>1.000000</td>\n",
       "      <td>1.000000</td>\n",
       "      <td>8.000000</td>\n",
       "      <td>108.000000</td>\n",
       "      <td>196.000000</td>\n",
       "      <td>38.000000</td>\n",
       "      <td>120.000000</td>\n",
       "    </tr>\n",
       "  </tbody>\n",
       "</table>\n",
       "<p>8 rows × 21 columns</p>\n",
       "</div>"
      ],
      "text/plain": [
       "               ID  Reason for absence  Month of absence  Day of the week  \\\n",
       "count  740.000000          740.000000        740.000000       740.000000   \n",
       "mean    18.017568           19.216216          6.324324         3.914865   \n",
       "std     11.021247            8.433406          3.436287         1.421675   \n",
       "min      1.000000            0.000000          0.000000         2.000000   \n",
       "25%      9.000000           13.000000          3.000000         3.000000   \n",
       "50%     18.000000           23.000000          6.000000         4.000000   \n",
       "75%     28.000000           26.000000          9.000000         5.000000   \n",
       "max     36.000000           28.000000         12.000000         6.000000   \n",
       "\n",
       "          Seasons  Transportation expense  Distance from Residence to Work  \\\n",
       "count  740.000000              740.000000                       740.000000   \n",
       "mean     2.544595              221.329730                        29.631081   \n",
       "std      1.111831               66.952223                        14.836788   \n",
       "min      1.000000              118.000000                         5.000000   \n",
       "25%      2.000000              179.000000                        16.000000   \n",
       "50%      3.000000              225.000000                        26.000000   \n",
       "75%      4.000000              260.000000                        50.000000   \n",
       "max      4.000000              388.000000                        52.000000   \n",
       "\n",
       "       Service time         Age  Work load Averageperday  ...  \\\n",
       "count    740.000000  740.000000               740.000000  ...   \n",
       "mean      12.554054   36.450000            271490.235135  ...   \n",
       "std        4.384873    6.478772             39058.116188  ...   \n",
       "min        1.000000   27.000000            205917.000000  ...   \n",
       "25%        9.000000   31.000000            244387.000000  ...   \n",
       "50%       13.000000   37.000000            264249.000000  ...   \n",
       "75%       16.000000   40.000000            294217.000000  ...   \n",
       "max       29.000000   58.000000            378884.000000  ...   \n",
       "\n",
       "       Disciplinary failure   Education         Son  Social drinker  \\\n",
       "count            740.000000  740.000000  740.000000      740.000000   \n",
       "mean               0.054054    1.291892    1.018919        0.567568   \n",
       "std                0.226277    0.673238    1.098489        0.495749   \n",
       "min                0.000000    1.000000    0.000000        0.000000   \n",
       "25%                0.000000    1.000000    0.000000        0.000000   \n",
       "50%                0.000000    1.000000    1.000000        1.000000   \n",
       "75%                0.000000    1.000000    2.000000        1.000000   \n",
       "max                1.000000    4.000000    4.000000        1.000000   \n",
       "\n",
       "       Social smoker         Pet      Weight      Height  Body mass index  \\\n",
       "count     740.000000  740.000000  740.000000  740.000000       740.000000   \n",
       "mean        0.072973    0.745946   79.035135  172.114865        26.677027   \n",
       "std         0.260268    1.318258   12.883211    6.034995         4.285452   \n",
       "min         0.000000    0.000000   56.000000  163.000000        19.000000   \n",
       "25%         0.000000    0.000000   69.000000  169.000000        24.000000   \n",
       "50%         0.000000    0.000000   83.000000  170.000000        25.000000   \n",
       "75%         0.000000    1.000000   89.000000  172.000000        31.000000   \n",
       "max         1.000000    8.000000  108.000000  196.000000        38.000000   \n",
       "\n",
       "       Absenteeism time in hours  \n",
       "count                 740.000000  \n",
       "mean                    6.924324  \n",
       "std                    13.330998  \n",
       "min                     0.000000  \n",
       "25%                     2.000000  \n",
       "50%                     3.000000  \n",
       "75%                     8.000000  \n",
       "max                   120.000000  \n",
       "\n",
       "[8 rows x 21 columns]"
      ]
     },
     "execution_count": 14,
     "metadata": {},
     "output_type": "execute_result"
    }
   ],
   "source": [
    "df.describe()\n",
    "#it tells us the statistical inferences of the dataset"
   ]
  },
  {
   "cell_type": "markdown",
   "metadata": {},
   "source": [
    "#From the above statistical table we can understand: We can see that for each column we have the following functions\n",
    "\n",
    "count- Number of non-null observations here all the columns contain 740 entries \n",
    "\n",
    "mean- Mean of Values here mean of each column is found ie, mean of ID column= 18.017568 , Reason for absence is 19.216216, etc\n",
    "\n",
    "std- Standard Deviation of the Values here standard deviation for ID is 11.021247 , Reason for absence is 8.433406  etc\n",
    "\n",
    "min- Minimum value here it shows the min value for ID is 1 , Reason for absence is 0 etc\n",
    "\n",
    "max- Maximum value it shows the max value for ID is 36 , Reason for absence is 28.\n",
    "\n",
    "25%, 50%, and 75% - IQR values it shows percentile values at 25%,50% and 75% ; for ID is 9 , 18 ,and 28  respectively."
   ]
  },
  {
   "cell_type": "code",
   "execution_count": 15,
   "metadata": {},
   "outputs": [
    {
     "data": {
      "text/plain": [
       "ID                                 0\n",
       "Reason for absence                 0\n",
       "Month of absence                   0\n",
       "Day of the week                    0\n",
       "Seasons                            0\n",
       "Transportation expense             0\n",
       "Distance from Residence to Work    0\n",
       "Service time                       0\n",
       "Age                                0\n",
       "Work load Averageperday            0\n",
       "Hit target                         0\n",
       "Disciplinary failure               0\n",
       "Education                          0\n",
       "Son                                0\n",
       "Social drinker                     0\n",
       "Social smoker                      0\n",
       "Pet                                0\n",
       "Weight                             0\n",
       "Height                             0\n",
       "Body mass index                    0\n",
       "Absenteeism time in hours          0\n",
       "dtype: int64"
      ]
     },
     "execution_count": 15,
     "metadata": {},
     "output_type": "execute_result"
    }
   ],
   "source": [
    "df.isnull().sum()\n",
    "#lets check the presence of any null values"
   ]
  },
  {
   "cell_type": "code",
   "execution_count": 16,
   "metadata": {},
   "outputs": [
    {
     "data": {
      "text/plain": [
       "<matplotlib.axes._subplots.AxesSubplot at 0x20b3cf07548>"
      ]
     },
     "execution_count": 16,
     "metadata": {},
     "output_type": "execute_result"
    },
    {
     "data": {
      "image/png": "[encoded data removed]",
      "text/plain": [
       "<Figure size 432x288 with 2 Axes>"
      ]
     },
     "metadata": {
      "needs_background": "light"
     },
     "output_type": "display_data"
    }
   ],
   "source": [
    "sns.heatmap(df.isnull())\n",
    "#using heatmap lets check the null value; its clear that there are no null values"
   ]
  },
  {
   "cell_type": "code",
   "execution_count": 17,
   "metadata": {},
   "outputs": [],
   "source": [
    "#Manually setting up the data types of certain variables for EDA purpose\n",
    "\n",
    "df['Social drinker'] = df['Social drinker'].astype('bool')\n",
    "df['Social smoker'] = df['Social smoker'].astype('bool')\n",
    "df['Disciplinary failure'] = df['Disciplinary failure'].astype('bool')\n",
    "df['Seasons'] = df['Seasons'].astype('category')\n",
    "df['Education'] = df['Education'].astype('category')\n",
    "df['Day of the week'] = df['Day of the week'].astype('category')\n",
    "df['Month of absence'] = df['Month of absence'].astype('category')\n",
    "df['Reason for absence'] = df['Reason for absence'].astype('category')"
   ]
  },
  {
   "cell_type": "code",
   "execution_count": 18,
   "metadata": {},
   "outputs": [
    {
     "data": {
      "text/plain": [
       "<bound method NDFrame.describe of 0      4\n",
       "1      0\n",
       "2      2\n",
       "3      4\n",
       "4      2\n",
       "      ..\n",
       "735    8\n",
       "736    4\n",
       "737    0\n",
       "738    0\n",
       "739    0\n",
       "Name: Absenteeism time in hours, Length: 740, dtype: int64>"
      ]
     },
     "execution_count": 18,
     "metadata": {},
     "output_type": "execute_result"
    }
   ],
   "source": [
    "df['Absenteeism time in hours'].describe"
   ]
  },
  {
   "cell_type": "code",
   "execution_count": 19,
   "metadata": {},
   "outputs": [
    {
     "data": {
      "text/html": [
       "<div>\n",
       "<style scoped>\n",
       "    .dataframe tbody tr th:only-of-type {\n",
       "        vertical-align: middle;\n",
       "    }\n",
       "\n",
       "    .dataframe tbody tr th {\n",
       "        vertical-align: top;\n",
       "    }\n",
       "\n",
       "    .dataframe thead th {\n",
       "        text-align: right;\n",
       "    }\n",
       "</style>\n",
       "<table border=\"1\" class=\"dataframe\">\n",
       "  <thead>\n",
       "    <tr style=\"text-align: right;\">\n",
       "      <th></th>\n",
       "      <th>ID</th>\n",
       "      <th>Reason for absence</th>\n",
       "      <th>Month of absence</th>\n",
       "      <th>Day of the week</th>\n",
       "      <th>Seasons</th>\n",
       "      <th>Transportation expense</th>\n",
       "      <th>Distance from Residence to Work</th>\n",
       "      <th>Service time</th>\n",
       "      <th>Age</th>\n",
       "      <th>Work load Averageperday</th>\n",
       "      <th>...</th>\n",
       "      <th>Disciplinary failure</th>\n",
       "      <th>Education</th>\n",
       "      <th>Son</th>\n",
       "      <th>Social drinker</th>\n",
       "      <th>Social smoker</th>\n",
       "      <th>Pet</th>\n",
       "      <th>Weight</th>\n",
       "      <th>Height</th>\n",
       "      <th>Body mass index</th>\n",
       "      <th>Absenteeism time in hours</th>\n",
       "    </tr>\n",
       "  </thead>\n",
       "  <tbody>\n",
       "    <tr>\n",
       "      <th>737</th>\n",
       "      <td>4</td>\n",
       "      <td>0</td>\n",
       "      <td>0</td>\n",
       "      <td>3</td>\n",
       "      <td>1</td>\n",
       "      <td>118</td>\n",
       "      <td>14</td>\n",
       "      <td>13</td>\n",
       "      <td>40</td>\n",
       "      <td>271219</td>\n",
       "      <td>...</td>\n",
       "      <td>False</td>\n",
       "      <td>1</td>\n",
       "      <td>1</td>\n",
       "      <td>True</td>\n",
       "      <td>False</td>\n",
       "      <td>8</td>\n",
       "      <td>98</td>\n",
       "      <td>170</td>\n",
       "      <td>34</td>\n",
       "      <td>0</td>\n",
       "    </tr>\n",
       "    <tr>\n",
       "      <th>738</th>\n",
       "      <td>8</td>\n",
       "      <td>0</td>\n",
       "      <td>0</td>\n",
       "      <td>4</td>\n",
       "      <td>2</td>\n",
       "      <td>231</td>\n",
       "      <td>35</td>\n",
       "      <td>14</td>\n",
       "      <td>39</td>\n",
       "      <td>271219</td>\n",
       "      <td>...</td>\n",
       "      <td>False</td>\n",
       "      <td>1</td>\n",
       "      <td>2</td>\n",
       "      <td>True</td>\n",
       "      <td>False</td>\n",
       "      <td>2</td>\n",
       "      <td>100</td>\n",
       "      <td>170</td>\n",
       "      <td>35</td>\n",
       "      <td>0</td>\n",
       "    </tr>\n",
       "    <tr>\n",
       "      <th>739</th>\n",
       "      <td>35</td>\n",
       "      <td>0</td>\n",
       "      <td>0</td>\n",
       "      <td>6</td>\n",
       "      <td>3</td>\n",
       "      <td>179</td>\n",
       "      <td>45</td>\n",
       "      <td>14</td>\n",
       "      <td>53</td>\n",
       "      <td>271219</td>\n",
       "      <td>...</td>\n",
       "      <td>False</td>\n",
       "      <td>1</td>\n",
       "      <td>1</td>\n",
       "      <td>False</td>\n",
       "      <td>False</td>\n",
       "      <td>1</td>\n",
       "      <td>77</td>\n",
       "      <td>175</td>\n",
       "      <td>25</td>\n",
       "      <td>0</td>\n",
       "    </tr>\n",
       "  </tbody>\n",
       "</table>\n",
       "<p>3 rows × 21 columns</p>\n",
       "</div>"
      ],
      "text/plain": [
       "     ID Reason for absence Month of absence Day of the week Seasons  \\\n",
       "737   4                  0                0               3       1   \n",
       "738   8                  0                0               4       2   \n",
       "739  35                  0                0               6       3   \n",
       "\n",
       "     Transportation expense  Distance from Residence to Work  Service time  \\\n",
       "737                     118                               14            13   \n",
       "738                     231                               35            14   \n",
       "739                     179                               45            14   \n",
       "\n",
       "     Age  Work load Averageperday  ...  Disciplinary failure  Education Son  \\\n",
       "737   40                   271219  ...                 False          1   1   \n",
       "738   39                   271219  ...                 False          1   2   \n",
       "739   53                   271219  ...                 False          1   1   \n",
       "\n",
       "     Social drinker  Social smoker  Pet  Weight  Height  Body mass index  \\\n",
       "737            True          False    8      98     170               34   \n",
       "738            True          False    2     100     170               35   \n",
       "739           False          False    1      77     175               25   \n",
       "\n",
       "     Absenteeism time in hours  \n",
       "737                          0  \n",
       "738                          0  \n",
       "739                          0  \n",
       "\n",
       "[3 rows x 21 columns]"
      ]
     },
     "execution_count": 19,
     "metadata": {},
     "output_type": "execute_result"
    }
   ],
   "source": [
    "df[df['Month of absence']==0]"
   ]
  },
  {
   "cell_type": "code",
   "execution_count": 20,
   "metadata": {},
   "outputs": [
    {
     "data": {
      "text/plain": [
       "Absenteeism time in hours    2.275362\n",
       "dtype: float64"
      ]
     },
     "execution_count": 20,
     "metadata": {},
     "output_type": "execute_result"
    }
   ],
   "source": [
    "#Now let us check the invalid values in the target variable.\n",
    "\n",
    "df[df['Reason for absence']==27][['Absenteeism time in hours']].mean()"
   ]
  },
  {
   "cell_type": "code",
   "execution_count": 21,
   "metadata": {},
   "outputs": [],
   "source": [
    "#We can see the mean value for Reason 27 and let us update Absenteeism hours as 3 for this row.\n",
    "\n",
    "df.loc[(df['Reason for absence']==27) & (df['Absenteeism time in hours']==0),'Absenteeism time in hours']=3"
   ]
  },
  {
   "cell_type": "code",
   "execution_count": 22,
   "metadata": {},
   "outputs": [],
   "source": [
    "#After updating the value for the above row, now we can update Absenteeism in hours as 8 for all the rows with Disciplinary failure.\n",
    "\n",
    "df.loc[(df['Absenteeism time in hours']==0),'Absenteeism time in hours']=8"
   ]
  },
  {
   "cell_type": "code",
   "execution_count": 23,
   "metadata": {},
   "outputs": [
    {
     "data": {
      "text/plain": [
       "251"
      ]
     },
     "execution_count": 23,
     "metadata": {},
     "output_type": "execute_result"
    }
   ],
   "source": [
    "len(df[df['Absenteeism time in hours']==8])"
   ]
  },
  {
   "cell_type": "markdown",
   "metadata": {},
   "source": [
    "We performed some data cleaning in excel which are not specified here\n",
    "\n",
    "After checking the zero values in Absenteeism in hours column, let us get ready for Exploratory Data Analysis. It's better to add additional columns for visualization as this dataset has only numeric values.\n",
    "\n"
   ]
  },
  {
   "cell_type": "code",
   "execution_count": 24,
   "metadata": {},
   "outputs": [
    {
     "data": {
      "text/html": [
       "<div>\n",
       "<style scoped>\n",
       "    .dataframe tbody tr th:only-of-type {\n",
       "        vertical-align: middle;\n",
       "    }\n",
       "\n",
       "    .dataframe tbody tr th {\n",
       "        vertical-align: top;\n",
       "    }\n",
       "\n",
       "    .dataframe thead th {\n",
       "        text-align: right;\n",
       "    }\n",
       "</style>\n",
       "<table border=\"1\" class=\"dataframe\">\n",
       "  <thead>\n",
       "    <tr style=\"text-align: right;\">\n",
       "      <th></th>\n",
       "      <th>Seasons</th>\n",
       "      <th>season_name</th>\n",
       "    </tr>\n",
       "  </thead>\n",
       "  <tbody>\n",
       "    <tr>\n",
       "      <th>0</th>\n",
       "      <td>1</td>\n",
       "      <td>Summer</td>\n",
       "    </tr>\n",
       "    <tr>\n",
       "      <th>49</th>\n",
       "      <td>4</td>\n",
       "      <td>Spring</td>\n",
       "    </tr>\n",
       "    <tr>\n",
       "      <th>111</th>\n",
       "      <td>2</td>\n",
       "      <td>Autumn</td>\n",
       "    </tr>\n",
       "    <tr>\n",
       "      <th>175</th>\n",
       "      <td>3</td>\n",
       "      <td>Winter</td>\n",
       "    </tr>\n",
       "  </tbody>\n",
       "</table>\n",
       "</div>"
      ],
      "text/plain": [
       "    Seasons season_name\n",
       "0         1      Summer\n",
       "49        4      Spring\n",
       "111       2      Autumn\n",
       "175       3      Winter"
      ]
     },
     "execution_count": 24,
     "metadata": {},
     "output_type": "execute_result"
    }
   ],
   "source": [
    "season_mapping = {1:'Summer', 2:'Autumn', 3:'Winter', 4:'Spring'}\n",
    "df['season_name'] = df.Seasons.map(season_mapping)\n",
    "df['season_name'] = df['season_name'].astype('category')\n",
    "df.drop_duplicates(['Seasons', 'season_name'])[['Seasons','season_name']]"
   ]
  },
  {
   "cell_type": "markdown",
   "metadata": {},
   "source": [
    "The above will have Season Name along with Season and the below command will have Month names.\n",
    "\n"
   ]
  },
  {
   "cell_type": "code",
   "execution_count": 25,
   "metadata": {},
   "outputs": [],
   "source": [
    "import calendar\n",
    "df['month_name'] =  df['Month of absence'].apply(lambda x: calendar.month_abbr[x])"
   ]
  },
  {
   "cell_type": "code",
   "execution_count": 26,
   "metadata": {},
   "outputs": [],
   "source": [
    "reason_mapping = {\n",
    "    0: 'Unknown',\n",
    "    1: 'Certain infectious and parasitic diseases',\n",
    "    2: 'Neoplasms',\n",
    "    3: 'Diseases of the blood and blood-forming organs and certain disorders involving the immune mechanism',\n",
    "    4: 'Endocrine, nutritional and metabolic diseases',\n",
    "    5: 'Mental and behavioural disorders',\n",
    "    6: 'Diseases of the nervous system',\n",
    "    7: 'Diseases of the eye and adnexa',\n",
    "    8: 'Diseases of the ear and mastoid process',\n",
    "    9: 'Diseases of the circulatory system',\n",
    "    10: 'Diseases of the respiratory system',\n",
    "    11: 'Diseases of the digestive system',\n",
    "    12: 'Diseases of the skin and subcutaneous tissue',\n",
    "    13: 'Diseases of the musculoskeletal system and connective tissue',\n",
    "    14: 'Diseases of the genitourinary system',\n",
    "    15: 'Pregnancy, childbirth and the puerperium',\n",
    "    16: 'Certain conditions originating in the perinatal period',\n",
    "    17: 'Congenital malformations, deformations and chromosomal abnormalities',\n",
    "    \n",
    "    18: 'Symptoms, signs and abnormal clinical and laboratory findings, not elsewhere classified',\n",
    "    19: 'Injury, poisoning and certain other consequences of external causes',\n",
    "    20: 'External causes of morbidity and mortality',\n",
    "    21: 'Factors influencing health status and contact with health services',\n",
    "    22: 'Patient follow-up',\n",
    "    23: 'Medical consultation',\n",
    "    24: 'Blood donation',\n",
    "    25: 'Laboratory examination',\n",
    "    26: 'Unjustified absence',\n",
    "    27: 'Physiotherapy',\n",
    "     28: 'Dental consultation'\n",
    "}\n",
    "df['reason_text'] = df['Reason for absence'].map(reason_mapping)"
   ]
  },
  {
   "cell_type": "code",
   "execution_count": 27,
   "metadata": {},
   "outputs": [],
   "source": [
    "education_mapping = {\n",
    "    1: 'High School',\n",
    "    2: 'Graduate',\n",
    "    3: 'Post Graduate',\n",
    "    4: 'Master & Doctor'\n",
    "}\n",
    "education_list = {'High School', 'Graduate', 'Post Graduate', 'Master & Doctor'}\n",
    "df['Education_detail'] = df['Education'].map(education_mapping)\n",
    "#df['Education_detail'] = df['Education_detail'].astype('category')\n",
    "category_education = pd.api.types.CategoricalDtype(categories=education_list, ordered=True)\n",
    "df['Education_detail'] = df['Education_detail'].astype(category_education)"
   ]
  },
  {
   "cell_type": "code",
   "execution_count": 28,
   "metadata": {},
   "outputs": [
    {
     "data": {
      "text/html": [
       "<div>\n",
       "<style scoped>\n",
       "    .dataframe tbody tr th:only-of-type {\n",
       "        vertical-align: middle;\n",
       "    }\n",
       "\n",
       "    .dataframe tbody tr th {\n",
       "        vertical-align: top;\n",
       "    }\n",
       "\n",
       "    .dataframe thead th {\n",
       "        text-align: right;\n",
       "    }\n",
       "</style>\n",
       "<table border=\"1\" class=\"dataframe\">\n",
       "  <thead>\n",
       "    <tr style=\"text-align: right;\">\n",
       "      <th></th>\n",
       "      <th>ID</th>\n",
       "      <th>Reason for absence</th>\n",
       "      <th>Month of absence</th>\n",
       "      <th>Day of the week</th>\n",
       "      <th>Seasons</th>\n",
       "      <th>Transportation expense</th>\n",
       "      <th>Distance from Residence to Work</th>\n",
       "      <th>Service time</th>\n",
       "      <th>Age</th>\n",
       "      <th>Work load Averageperday</th>\n",
       "      <th>...</th>\n",
       "      <th>Social smoker</th>\n",
       "      <th>Pet</th>\n",
       "      <th>Weight</th>\n",
       "      <th>Height</th>\n",
       "      <th>Body mass index</th>\n",
       "      <th>Absenteeism time in hours</th>\n",
       "      <th>season_name</th>\n",
       "      <th>month_name</th>\n",
       "      <th>reason_text</th>\n",
       "      <th>Education_detail</th>\n",
       "    </tr>\n",
       "  </thead>\n",
       "  <tbody>\n",
       "    <tr>\n",
       "      <th>0</th>\n",
       "      <td>11</td>\n",
       "      <td>26</td>\n",
       "      <td>7</td>\n",
       "      <td>3</td>\n",
       "      <td>1</td>\n",
       "      <td>289</td>\n",
       "      <td>36</td>\n",
       "      <td>13</td>\n",
       "      <td>33</td>\n",
       "      <td>239554</td>\n",
       "      <td>...</td>\n",
       "      <td>False</td>\n",
       "      <td>1</td>\n",
       "      <td>90</td>\n",
       "      <td>172</td>\n",
       "      <td>30</td>\n",
       "      <td>4</td>\n",
       "      <td>Summer</td>\n",
       "      <td>Jul</td>\n",
       "      <td>Unjustified absence</td>\n",
       "      <td>High School</td>\n",
       "    </tr>\n",
       "    <tr>\n",
       "      <th>1</th>\n",
       "      <td>36</td>\n",
       "      <td>0</td>\n",
       "      <td>7</td>\n",
       "      <td>3</td>\n",
       "      <td>1</td>\n",
       "      <td>118</td>\n",
       "      <td>13</td>\n",
       "      <td>18</td>\n",
       "      <td>50</td>\n",
       "      <td>239554</td>\n",
       "      <td>...</td>\n",
       "      <td>False</td>\n",
       "      <td>0</td>\n",
       "      <td>98</td>\n",
       "      <td>178</td>\n",
       "      <td>31</td>\n",
       "      <td>8</td>\n",
       "      <td>Summer</td>\n",
       "      <td>Jul</td>\n",
       "      <td>Unknown</td>\n",
       "      <td>High School</td>\n",
       "    </tr>\n",
       "    <tr>\n",
       "      <th>2</th>\n",
       "      <td>3</td>\n",
       "      <td>23</td>\n",
       "      <td>7</td>\n",
       "      <td>4</td>\n",
       "      <td>1</td>\n",
       "      <td>179</td>\n",
       "      <td>51</td>\n",
       "      <td>18</td>\n",
       "      <td>38</td>\n",
       "      <td>239554</td>\n",
       "      <td>...</td>\n",
       "      <td>False</td>\n",
       "      <td>0</td>\n",
       "      <td>89</td>\n",
       "      <td>170</td>\n",
       "      <td>31</td>\n",
       "      <td>2</td>\n",
       "      <td>Summer</td>\n",
       "      <td>Jul</td>\n",
       "      <td>Medical consultation</td>\n",
       "      <td>High School</td>\n",
       "    </tr>\n",
       "    <tr>\n",
       "      <th>3</th>\n",
       "      <td>7</td>\n",
       "      <td>7</td>\n",
       "      <td>7</td>\n",
       "      <td>5</td>\n",
       "      <td>1</td>\n",
       "      <td>279</td>\n",
       "      <td>5</td>\n",
       "      <td>14</td>\n",
       "      <td>39</td>\n",
       "      <td>239554</td>\n",
       "      <td>...</td>\n",
       "      <td>True</td>\n",
       "      <td>0</td>\n",
       "      <td>68</td>\n",
       "      <td>168</td>\n",
       "      <td>24</td>\n",
       "      <td>4</td>\n",
       "      <td>Summer</td>\n",
       "      <td>Jul</td>\n",
       "      <td>Diseases of the eye and adnexa</td>\n",
       "      <td>High School</td>\n",
       "    </tr>\n",
       "    <tr>\n",
       "      <th>4</th>\n",
       "      <td>11</td>\n",
       "      <td>23</td>\n",
       "      <td>7</td>\n",
       "      <td>5</td>\n",
       "      <td>1</td>\n",
       "      <td>289</td>\n",
       "      <td>36</td>\n",
       "      <td>13</td>\n",
       "      <td>33</td>\n",
       "      <td>239554</td>\n",
       "      <td>...</td>\n",
       "      <td>False</td>\n",
       "      <td>1</td>\n",
       "      <td>90</td>\n",
       "      <td>172</td>\n",
       "      <td>30</td>\n",
       "      <td>2</td>\n",
       "      <td>Summer</td>\n",
       "      <td>Jul</td>\n",
       "      <td>Medical consultation</td>\n",
       "      <td>High School</td>\n",
       "    </tr>\n",
       "  </tbody>\n",
       "</table>\n",
       "<p>5 rows × 25 columns</p>\n",
       "</div>"
      ],
      "text/plain": [
       "   ID Reason for absence Month of absence Day of the week Seasons  \\\n",
       "0  11                 26                7               3       1   \n",
       "1  36                  0                7               3       1   \n",
       "2   3                 23                7               4       1   \n",
       "3   7                  7                7               5       1   \n",
       "4  11                 23                7               5       1   \n",
       "\n",
       "   Transportation expense  Distance from Residence to Work  Service time  Age  \\\n",
       "0                     289                               36            13   33   \n",
       "1                     118                               13            18   50   \n",
       "2                     179                               51            18   38   \n",
       "3                     279                                5            14   39   \n",
       "4                     289                               36            13   33   \n",
       "\n",
       "   Work load Averageperday  ...  Social smoker  Pet Weight  Height  \\\n",
       "0                   239554  ...          False    1     90     172   \n",
       "1                   239554  ...          False    0     98     178   \n",
       "2                   239554  ...          False    0     89     170   \n",
       "3                   239554  ...           True    0     68     168   \n",
       "4                   239554  ...          False    1     90     172   \n",
       "\n",
       "   Body mass index  Absenteeism time in hours  season_name  month_name  \\\n",
       "0               30                          4       Summer         Jul   \n",
       "1               31                          8       Summer         Jul   \n",
       "2               31                          2       Summer         Jul   \n",
       "3               24                          4       Summer         Jul   \n",
       "4               30                          2       Summer         Jul   \n",
       "\n",
       "                      reason_text  Education_detail  \n",
       "0             Unjustified absence       High School  \n",
       "1                         Unknown       High School  \n",
       "2            Medical consultation       High School  \n",
       "3  Diseases of the eye and adnexa       High School  \n",
       "4            Medical consultation       High School  \n",
       "\n",
       "[5 rows x 25 columns]"
      ]
     },
     "execution_count": 28,
     "metadata": {},
     "output_type": "execute_result"
    }
   ],
   "source": [
    "#After adding new columns for the reference columns, let us quickly check the first 5 rows from the dataset.\n",
    "\n",
    "df.head()"
   ]
  },
  {
   "cell_type": "code",
   "execution_count": 29,
   "metadata": {},
   "outputs": [
    {
     "data": {
      "text/plain": [
       "(740, 25)"
      ]
     },
     "execution_count": 29,
     "metadata": {},
     "output_type": "execute_result"
    }
   ],
   "source": [
    "df.shape"
   ]
  },
  {
   "cell_type": "markdown",
   "metadata": {},
   "source": [
    "Exploratory Data Analysis"
   ]
  },
  {
   "cell_type": "code",
   "execution_count": 30,
   "metadata": {},
   "outputs": [
    {
     "data": {
      "image/png": "[encoded data removed]",
      "text/plain": [
       "<Figure size 720x288 with 1 Axes>"
      ]
     },
     "metadata": {
      "needs_background": "light"
     },
     "output_type": "display_data"
    }
   ],
   "source": [
    "#Agewise Employee Count\n",
    "\n",
    "age_count = df.groupby(['Age']).agg({'ID': pd.Series.nunique})\n",
    "ax = age_count.plot(kind='bar', figsize=(10,4), legend=False, color=\"navajowhite\",edgecolor='darkred')\n",
    "for i, v in enumerate(age_count.values):\n",
    "    ax.text(i-.24, v +0.2, str(v[0]), color='firebrick')\n",
    "ax.set_xlabel('Age')\n",
    "ax.set_ylabel('Count of employees')\n",
    "ax.set_title('Agewise count of employees')\n",
    "plt.show()"
   ]
  },
  {
   "cell_type": "code",
   "execution_count": 31,
   "metadata": {},
   "outputs": [
    {
     "data": {
      "image/png": "[encoded data removed]",
      "text/plain": [
       "<Figure size 576x360 with 1 Axes>"
      ]
     },
     "metadata": {
      "needs_background": "light"
     },
     "output_type": "display_data"
    }
   ],
   "source": [
    "#Educationwise Employee Count\n",
    "\n",
    "#The below graph shows that High School educated employees are higher than the rest.\n",
    "\n",
    "edu_count = df.groupby(['Education_detail']).agg({'ID': pd.Series.nunique})\n",
    "ax = edu_count.plot(kind='bar', figsize=(8,5), legend=False, color=\"navajowhite\",edgecolor='darkred')\n",
    "for i, v in enumerate(edu_count.values):\n",
    "    ax.text(i-.065, v + 0.8, str(v[0]), color='firebrick')\n",
    "ax.set_xlabel('Education')\n",
    "ax.set_ylabel('Count')\n",
    "ax.set_title('Educationwise count of employees')\n",
    "plt.show()"
   ]
  },
  {
   "cell_type": "code",
   "execution_count": 32,
   "metadata": {},
   "outputs": [
    {
     "data": {
      "image/png": "[encoded data removed]",
      "text/plain": [
       "<Figure size 576x432 with 1 Axes>"
      ]
     },
     "metadata": {
      "needs_background": "light"
     },
     "output_type": "display_data"
    }
   ],
   "source": [
    "#Average work load by Age\n",
    "\n",
    "#The work load seems to be same irrespective of the age.\n",
    "\n",
    "age_work_sum = df.groupby('Age', as_index=False)[['Work load Averageperday']].mean()\n",
    "ax = age_work_sum.plot(kind='bar', x='Age', figsize=(8,6), legend=False, color=\"navajowhite\",edgecolor='darkred')\n",
    "ax.set_ylabel('Work load average per day')\n",
    "ax.set_title('Average work load per day by age')\n",
    "plt.show()\n"
   ]
  },
  {
   "cell_type": "code",
   "execution_count": 33,
   "metadata": {},
   "outputs": [
    {
     "data": {
      "image/png": "[encoded data removed]",
      "text/plain": [
       "<Figure size 576x432 with 1 Axes>"
      ]
     },
     "metadata": {
      "needs_background": "light"
     },
     "output_type": "display_data"
    }
   ],
   "source": [
    "# Average Absenteeism hours by Age\n",
    "#Absenteeism seems to be same across Age except for one age.\n",
    "\n",
    "\n",
    "age_abs = df.groupby('Age')[['Absenteeism time in hours']].mean()\n",
    "ax = age_abs.plot(kind='bar', figsize=(8,6), legend=False, color=\"navajowhite\",edgecolor='darkred')\n",
    "for i, v in enumerate(age_abs.values):\n",
    "    ax.text(i-.25, v + 0.2, str(np.int(np.round(v))), color='firebrick')\n",
    "ax.set_ylabel('Absenteeism time in hours')\n",
    "ax.set_title('Average Absenteeism time in hours by age')\n",
    "plt.show()"
   ]
  },
  {
   "cell_type": "code",
   "execution_count": 34,
   "metadata": {},
   "outputs": [
    {
     "data": {
      "image/png": "[encoded data removed]",
      "text/plain": [
       "<Figure size 576x432 with 1 Axes>"
      ]
     },
     "metadata": {
      "needs_background": "light"
     },
     "output_type": "display_data"
    }
   ],
   "source": [
    "# Average Absenteeism hours by Distance to work\n",
    "\n",
    "#The hypothesis i have was that if the distance to work increase the absenteeism hours will increase. But the below graph nullifies my hypothesis.\n",
    "\n",
    "dis_abs = df.groupby('Distance from Residence to Work')[['Absenteeism time in hours']].mean()\n",
    "ax = dis_abs.plot(kind='bar', figsize=(8,6), legend=False, color=\"navajowhite\",edgecolor='darkred')\n",
    "for i, v in enumerate(dis_abs.values):\n",
    "    ax.text(i-.25, v + 0.1, str(np.int(np.round(v))), color='firebrick')\n",
    "ax.set_xlabel('Distance from Residence to Work (km)')\n",
    "ax.set_ylabel('Absenteeism time in hours')\n",
    "ax.set_title('Average Absenteeism time in hours by distance')\n",
    "plt.show()"
   ]
  },
  {
   "cell_type": "code",
   "execution_count": 35,
   "metadata": {},
   "outputs": [
    {
     "data": {
      "image/png": "[encoded data removed]",
      "text/plain": [
       "<Figure size 576x432 with 1 Axes>"
      ]
     },
     "metadata": {
      "needs_background": "light"
     },
     "output_type": "display_data"
    }
   ],
   "source": [
    "#Average distance to work by Age\n",
    "\n",
    "#Another hypothesis I had was that higher age employees might stay closer to the office. It might be true till the Age 33, but the other values are not significant to compare.\n",
    "\n",
    "age_dis = df.groupby('Age')[['Distance from Residence to Work']].mean()\n",
    "\n",
    "ax = age_dis.plot(kind='bar', figsize=(8,6), legend=False, color=\"navajowhite\",edgecolor='darkred')\n",
    "\n",
    "for i, v in enumerate(age_dis.values):\n",
    "    ax.text(i-.28, v + 1, str(np.int(np.round(v))), color='firebrick')\n",
    "ax.set_ylabel('Distance from Residence to Work')\n",
    "ax.set_title('Average Distance from Residence to Work by age')\n",
    "plt.show()"
   ]
  },
  {
   "cell_type": "code",
   "execution_count": 36,
   "metadata": {},
   "outputs": [
    {
     "data": {
      "image/png": "[encoded data removed]",
      "text/plain": [
       "<Figure size 720x432 with 1 Axes>"
      ]
     },
     "metadata": {
      "needs_background": "light"
     },
     "output_type": "display_data"
    }
   ],
   "source": [
    "#Average Transportation expense by Distance\n",
    "\n",
    "#The transportation expense is not increasing by distance but we don't have transport mode, so this is not helping us.\n",
    "\n",
    "dis_exp = df.groupby('Distance from Residence to Work')[['Transportation expense']].mean()\n",
    "ax = dis_exp.plot(kind='bar', figsize=(10,6), legend=False, color=\"navajowhite\",edgecolor='darkred')\n",
    "for i, v in enumerate(dis_exp.values):\n",
    "    ax.text(i-.45, v + 8, str(np.int(np.round(v))), color='firebrick')\n",
    "ax.set_ylabel('Transportation expense')\n",
    "ax.set_title('Average Transportation expense by distance to work')\n",
    "plt.show()"
   ]
  },
  {
   "cell_type": "code",
   "execution_count": 37,
   "metadata": {},
   "outputs": [
    {
     "data": {
      "image/png": "[encoded data removed]",
      "text/plain": [
       "<Figure size 576x432 with 1 Axes>"
      ]
     },
     "metadata": {
      "needs_background": "light"
     },
     "output_type": "display_data"
    }
   ],
   "source": [
    "#Pet & Son counts by Age\n",
    "\n",
    "#The below graph shows that the employees who has Son are mostly having a pet. This is interesting.\n",
    "\n",
    "ax = df.groupby('Age')['Son', 'Pet'].sum().plot(figsize=(8,6))\n",
    "ax.set_ylabel('Count')\n",
    "ax.set_title('Count of Pet & Son by Age')\n",
    "plt.show()\n"
   ]
  },
  {
   "cell_type": "code",
   "execution_count": 38,
   "metadata": {},
   "outputs": [
    {
     "data": {
      "text/plain": [
       "0.21052631578947367"
      ]
     },
     "execution_count": 38,
     "metadata": {},
     "output_type": "execute_result"
    }
   ],
   "source": [
    "#Smoker & Drinker Stats\n",
    "\n",
    "#How much percentage of Social Drinkers are Social Smokers also?\n",
    "\n",
    "# % of Social drinker those are smokers\n",
    "emp_social = df.drop_duplicates(['ID', 'Social drinker', 'Social smoker'])[['ID', 'Social drinker', 'Social smoker']]\n",
    "emp_social[emp_social['Social drinker']==True]['Social smoker'].mean()"
   ]
  },
  {
   "cell_type": "code",
   "execution_count": 39,
   "metadata": {},
   "outputs": [
    {
     "data": {
      "text/plain": [
       "0.5714285714285714"
      ]
     },
     "execution_count": 39,
     "metadata": {},
     "output_type": "execute_result"
    }
   ],
   "source": [
    "#How much percentage of Social Smokers are Social Drinkers also?\n",
    "# % of Social smokers are drinkers\n",
    "emp_social[emp_social['Social smoker']==True]['Social drinker'].mean()"
   ]
  },
  {
   "cell_type": "code",
   "execution_count": 40,
   "metadata": {},
   "outputs": [
    {
     "data": {
      "image/png": "[encoded data removed]",
      "text/plain": [
       "<Figure size 576x432 with 1 Axes>"
      ]
     },
     "metadata": {},
     "output_type": "display_data"
    }
   ],
   "source": [
    "# Absenteeism by Social habits\n",
    "\n",
    "#Looks like 60% of Social drinkers are absent and interestingly 32% of Non-smoker & Non-drinker are also absent.\n",
    "\n",
    "drink_sum = df[(df['Social drinker'] == True) & (df['Social smoker']==False)]['Absenteeism time in hours'].sum()\n",
    "smok_sum = df[(df['Social drinker'] == False) & (df['Social smoker']==True)]['Absenteeism time in hours'].sum()\n",
    "drink_smok_sum = df[(df['Social drinker'] == True) & (df['Social smoker']==True)]['Absenteeism time in hours'].sum()\n",
    "abs_sum = df[(df['Social drinker'] == False) & (df['Social smoker']==False)]['Absenteeism time in hours'].sum()\n",
    "absen = [drink_sum, smok_sum, drink_smok_sum, abs_sum]\n",
    "pie_labels = ['drinker', 'smoker', 'drinker & smoker', 'No drinker/smoker']\n",
    "fig, ax = plt.subplots(figsize=(8, 6), subplot_kw=dict(aspect=\"equal\"))\n",
    "\n",
    "def func(pct, allvals):\n",
    "    absolute = int(pct/100.*np.sum(allvals))\n",
    "    return \"{:.1f}%\\n({:d})\".format(pct, absolute)\n",
    "\n",
    "wedges, texts, autotexts = ax.pie(absen, autopct=lambda pct: func(pct, absen), textprops=dict(color='w'))\n",
    "ax.legend(wedges, pie_labels, title='Social Drinkers/Smokers', loc='right', bbox_to_anchor=(1, 0, 0.5, 1))\n",
    "plt.setp(autotexts, size=10, weight=\"bold\")\n",
    "ax.set_title('Absenteeism by Social Drinkers/Smokers')\n",
    "#plt.pie(absen, labels=pie_labels)\n",
    "plt.show()"
   ]
  },
  {
   "cell_type": "code",
   "execution_count": 41,
   "metadata": {},
   "outputs": [
    {
     "data": {
      "text/html": [
       "<style  type=\"text/css\" >\n",
       "</style><table id=\"T_af1a36dc_f7de_11ea_b97f_283926ea3dcc\" ><thead>    <tr>        <th class=\"col_heading level0 col0\" >reason_text</th>        <th class=\"col_heading level0 col1\" >Absenteeism time in hours</th>    </tr></thead><tbody>\n",
       "                <tr>\n",
       "                                <td id=\"T_af1a36dc_f7de_11ea_b97f_283926ea3dccrow0_col0\" class=\"data row0 col0\" >Diseases of the musculoskeletal system and connective tissue</td>\n",
       "                        <td id=\"T_af1a36dc_f7de_11ea_b97f_283926ea3dccrow0_col1\" class=\"data row0 col1\" >842</td>\n",
       "            </tr>\n",
       "            <tr>\n",
       "                                <td id=\"T_af1a36dc_f7de_11ea_b97f_283926ea3dccrow1_col0\" class=\"data row1 col0\" >Injury, poisoning and certain other consequences of external causes</td>\n",
       "                        <td id=\"T_af1a36dc_f7de_11ea_b97f_283926ea3dccrow1_col1\" class=\"data row1 col1\" >729</td>\n",
       "            </tr>\n",
       "            <tr>\n",
       "                                <td id=\"T_af1a36dc_f7de_11ea_b97f_283926ea3dccrow2_col0\" class=\"data row2 col0\" >Medical consultation</td>\n",
       "                        <td id=\"T_af1a36dc_f7de_11ea_b97f_283926ea3dccrow2_col1\" class=\"data row2 col1\" >424</td>\n",
       "            </tr>\n",
       "            <tr>\n",
       "                                <td id=\"T_af1a36dc_f7de_11ea_b97f_283926ea3dccrow3_col0\" class=\"data row3 col0\" >Unknown</td>\n",
       "                        <td id=\"T_af1a36dc_f7de_11ea_b97f_283926ea3dccrow3_col1\" class=\"data row3 col1\" >344</td>\n",
       "            </tr>\n",
       "            <tr>\n",
       "                                <td id=\"T_af1a36dc_f7de_11ea_b97f_283926ea3dccrow4_col0\" class=\"data row4 col0\" >Dental consultation</td>\n",
       "                        <td id=\"T_af1a36dc_f7de_11ea_b97f_283926ea3dccrow4_col1\" class=\"data row4 col1\" >335</td>\n",
       "            </tr>\n",
       "            <tr>\n",
       "                                <td id=\"T_af1a36dc_f7de_11ea_b97f_283926ea3dccrow5_col0\" class=\"data row5 col0\" >Diseases of the digestive system</td>\n",
       "                        <td id=\"T_af1a36dc_f7de_11ea_b97f_283926ea3dccrow5_col1\" class=\"data row5 col1\" >297</td>\n",
       "            </tr>\n",
       "            <tr>\n",
       "                                <td id=\"T_af1a36dc_f7de_11ea_b97f_283926ea3dccrow6_col0\" class=\"data row6 col0\" >Patient follow-up</td>\n",
       "                        <td id=\"T_af1a36dc_f7de_11ea_b97f_283926ea3dccrow6_col1\" class=\"data row6 col1\" >293</td>\n",
       "            </tr>\n",
       "            <tr>\n",
       "                                <td id=\"T_af1a36dc_f7de_11ea_b97f_283926ea3dccrow7_col0\" class=\"data row7 col0\" >Diseases of the respiratory system</td>\n",
       "                        <td id=\"T_af1a36dc_f7de_11ea_b97f_283926ea3dccrow7_col1\" class=\"data row7 col1\" >276</td>\n",
       "            </tr>\n",
       "            <tr>\n",
       "                                <td id=\"T_af1a36dc_f7de_11ea_b97f_283926ea3dccrow8_col0\" class=\"data row8 col0\" >Unjustified absence</td>\n",
       "                        <td id=\"T_af1a36dc_f7de_11ea_b97f_283926ea3dccrow8_col1\" class=\"data row8 col1\" >240</td>\n",
       "            </tr>\n",
       "            <tr>\n",
       "                                <td id=\"T_af1a36dc_f7de_11ea_b97f_283926ea3dccrow9_col0\" class=\"data row9 col0\" >Symptoms, signs and abnormal clinical and laboratory findings, not elsewhere classified</td>\n",
       "                        <td id=\"T_af1a36dc_f7de_11ea_b97f_283926ea3dccrow9_col1\" class=\"data row9 col1\" >217</td>\n",
       "            </tr>\n",
       "            <tr>\n",
       "                                <td id=\"T_af1a36dc_f7de_11ea_b97f_283926ea3dccrow10_col0\" class=\"data row10 col0\" >Diseases of the skin and subcutaneous tissue</td>\n",
       "                        <td id=\"T_af1a36dc_f7de_11ea_b97f_283926ea3dccrow10_col1\" class=\"data row10 col1\" >187</td>\n",
       "            </tr>\n",
       "            <tr>\n",
       "                                <td id=\"T_af1a36dc_f7de_11ea_b97f_283926ea3dccrow11_col0\" class=\"data row11 col0\" >Certain infectious and parasitic diseases</td>\n",
       "                        <td id=\"T_af1a36dc_f7de_11ea_b97f_283926ea3dccrow11_col1\" class=\"data row11 col1\" >182</td>\n",
       "            </tr>\n",
       "            <tr>\n",
       "                                <td id=\"T_af1a36dc_f7de_11ea_b97f_283926ea3dccrow12_col0\" class=\"data row12 col0\" >Diseases of the nervous system</td>\n",
       "                        <td id=\"T_af1a36dc_f7de_11ea_b97f_283926ea3dccrow12_col1\" class=\"data row12 col1\" >171</td>\n",
       "            </tr>\n",
       "            <tr>\n",
       "                                <td id=\"T_af1a36dc_f7de_11ea_b97f_283926ea3dccrow13_col0\" class=\"data row13 col0\" >Diseases of the circulatory system</td>\n",
       "                        <td id=\"T_af1a36dc_f7de_11ea_b97f_283926ea3dccrow13_col1\" class=\"data row13 col1\" >168</td>\n",
       "            </tr>\n",
       "            <tr>\n",
       "                                <td id=\"T_af1a36dc_f7de_11ea_b97f_283926ea3dccrow14_col0\" class=\"data row14 col0\" >Diseases of the genitourinary system</td>\n",
       "                        <td id=\"T_af1a36dc_f7de_11ea_b97f_283926ea3dccrow14_col1\" class=\"data row14 col1\" >167</td>\n",
       "            </tr>\n",
       "            <tr>\n",
       "                                <td id=\"T_af1a36dc_f7de_11ea_b97f_283926ea3dccrow15_col0\" class=\"data row15 col0\" >Physiotherapy</td>\n",
       "                        <td id=\"T_af1a36dc_f7de_11ea_b97f_283926ea3dccrow15_col1\" class=\"data row15 col1\" >160</td>\n",
       "            </tr>\n",
       "            <tr>\n",
       "                                <td id=\"T_af1a36dc_f7de_11ea_b97f_283926ea3dccrow16_col0\" class=\"data row16 col0\" >Diseases of the eye and adnexa</td>\n",
       "                        <td id=\"T_af1a36dc_f7de_11ea_b97f_283926ea3dccrow16_col1\" class=\"data row16 col1\" >150</td>\n",
       "            </tr>\n",
       "            <tr>\n",
       "                                <td id=\"T_af1a36dc_f7de_11ea_b97f_283926ea3dccrow17_col0\" class=\"data row17 col0\" >Laboratory examination</td>\n",
       "                        <td id=\"T_af1a36dc_f7de_11ea_b97f_283926ea3dccrow17_col1\" class=\"data row17 col1\" >108</td>\n",
       "            </tr>\n",
       "            <tr>\n",
       "                                <td id=\"T_af1a36dc_f7de_11ea_b97f_283926ea3dccrow18_col0\" class=\"data row18 col0\" >Factors influencing health status and contact with health services</td>\n",
       "                        <td id=\"T_af1a36dc_f7de_11ea_b97f_283926ea3dccrow18_col1\" class=\"data row18 col1\" >35</td>\n",
       "            </tr>\n",
       "            <tr>\n",
       "                                <td id=\"T_af1a36dc_f7de_11ea_b97f_283926ea3dccrow19_col0\" class=\"data row19 col0\" >Diseases of the ear and mastoid process</td>\n",
       "                        <td id=\"T_af1a36dc_f7de_11ea_b97f_283926ea3dccrow19_col1\" class=\"data row19 col1\" >32</td>\n",
       "            </tr>\n",
       "            <tr>\n",
       "                                <td id=\"T_af1a36dc_f7de_11ea_b97f_283926ea3dccrow20_col0\" class=\"data row20 col0\" >Neoplasms</td>\n",
       "                        <td id=\"T_af1a36dc_f7de_11ea_b97f_283926ea3dccrow20_col1\" class=\"data row20 col1\" >24</td>\n",
       "            </tr>\n",
       "            <tr>\n",
       "                                <td id=\"T_af1a36dc_f7de_11ea_b97f_283926ea3dccrow21_col0\" class=\"data row21 col0\" >Blood donation</td>\n",
       "                        <td id=\"T_af1a36dc_f7de_11ea_b97f_283926ea3dccrow21_col1\" class=\"data row21 col1\" >24</td>\n",
       "            </tr>\n",
       "            <tr>\n",
       "                                <td id=\"T_af1a36dc_f7de_11ea_b97f_283926ea3dccrow22_col0\" class=\"data row22 col0\" >Mental and behavioural disorders</td>\n",
       "                        <td id=\"T_af1a36dc_f7de_11ea_b97f_283926ea3dccrow22_col1\" class=\"data row22 col1\" >19</td>\n",
       "            </tr>\n",
       "            <tr>\n",
       "                                <td id=\"T_af1a36dc_f7de_11ea_b97f_283926ea3dccrow23_col0\" class=\"data row23 col0\" >Pregnancy, childbirth and the puerperium</td>\n",
       "                        <td id=\"T_af1a36dc_f7de_11ea_b97f_283926ea3dccrow23_col1\" class=\"data row23 col1\" >16</td>\n",
       "            </tr>\n",
       "            <tr>\n",
       "                                <td id=\"T_af1a36dc_f7de_11ea_b97f_283926ea3dccrow24_col0\" class=\"data row24 col0\" >Endocrine, nutritional and metabolic diseases</td>\n",
       "                        <td id=\"T_af1a36dc_f7de_11ea_b97f_283926ea3dccrow24_col1\" class=\"data row24 col1\" >9</td>\n",
       "            </tr>\n",
       "            <tr>\n",
       "                                <td id=\"T_af1a36dc_f7de_11ea_b97f_283926ea3dccrow25_col0\" class=\"data row25 col0\" >Diseases of the blood and blood-forming organs and certain disorders involving the immune mechanism</td>\n",
       "                        <td id=\"T_af1a36dc_f7de_11ea_b97f_283926ea3dccrow25_col1\" class=\"data row25 col1\" >8</td>\n",
       "            </tr>\n",
       "            <tr>\n",
       "                                <td id=\"T_af1a36dc_f7de_11ea_b97f_283926ea3dccrow26_col0\" class=\"data row26 col0\" >Congenital malformations, deformations and chromosomal abnormalities</td>\n",
       "                        <td id=\"T_af1a36dc_f7de_11ea_b97f_283926ea3dccrow26_col1\" class=\"data row26 col1\" >8</td>\n",
       "            </tr>\n",
       "            <tr>\n",
       "                                <td id=\"T_af1a36dc_f7de_11ea_b97f_283926ea3dccrow27_col0\" class=\"data row27 col0\" >Certain conditions originating in the perinatal period</td>\n",
       "                        <td id=\"T_af1a36dc_f7de_11ea_b97f_283926ea3dccrow27_col1\" class=\"data row27 col1\" >6</td>\n",
       "            </tr>\n",
       "    </tbody></table>"
      ],
      "text/plain": [
       "<pandas.io.formats.style.Styler at 0x20b4526d048>"
      ]
     },
     "metadata": {},
     "output_type": "display_data"
    }
   ],
   "source": [
    "# Absenteeism by Reason\n",
    "\n",
    "#The below table shows the highest Abseenteeism hours to lowest by Reason. The data is from courier company and the employees needs to deliver the packages and the Top 2 reason for absence shows that. There is one hack to hide the index column.\n",
    "reason_abs = df.groupby('reason_text', as_index=False)['Absenteeism time in hours'].sum()\n",
    "with pd.option_context('display.max_colwidth', -1):\n",
    "    display(reason_abs.sort_values('Absenteeism time in hours', ascending=False).style.hide_index())"
   ]
  },
  {
   "cell_type": "code",
   "execution_count": 42,
   "metadata": {},
   "outputs": [
    {
     "data": {
      "image/png": "[encoded data removed]",
      "text/plain": [
       "<Figure size 576x360 with 1 Axes>"
      ]
     },
     "metadata": {
      "needs_background": "light"
     },
     "output_type": "display_data"
    }
   ],
   "source": [
    "#Absenteeism hours by Seasons\n",
    "\n",
    "#Looks like winter has highest Absenteeism.\n",
    "\n",
    "season_abs = df.groupby('season_name')['Absenteeism time in hours'].sum()\n",
    "ax = season_abs.plot(kind='bar', figsize=(8,5), legend=False, color=\"navajowhite\",edgecolor='darkred')\n",
    "for i, v in enumerate(season_abs.values):\n",
    "    ax.text(i-.12, v + 22, str(np.int(np.round(v))), color='firebrick')\n",
    "ax.set_xlabel('Seasons')\n",
    "ax.set_ylabel('Sum of Absenteeism hours')\n",
    "ax.set_title('Sum of Absenteeism hours by Seasons')\n",
    "plt.show()"
   ]
  },
  {
   "cell_type": "code",
   "execution_count": 43,
   "metadata": {},
   "outputs": [
    {
     "data": {
      "image/png": "[encoded data removed]",
      "text/plain": [
       "<Figure size 576x432 with 1 Axes>"
      ]
     },
     "metadata": {
      "needs_background": "light"
     },
     "output_type": "display_data"
    }
   ],
   "source": [
    "# Absenteeism hours by Month\n",
    "\n",
    "#Getting to detail from Seasons to Month, Looks like March & July has the highest number of Absenteeism hours.\n",
    "\n",
    "month_abs = df.groupby('month_name')['Absenteeism time in hours'].sum()\n",
    "ax = month_abs.plot(kind='bar', figsize=(8,6), legend=False, color=\"navajowhite\",edgecolor='darkred')\n",
    "for i, v in enumerate(month_abs.values):\n",
    "    ax.text(i-0.3, v + 12, str(np.int(np.round(v))), color='firebrick')\n",
    "ax.set_xlabel('Month')\n",
    "ax.set_ylabel('Sum of Absenteeism hours')\n",
    "ax.set_title('Sum of Absenteeism hours by Month')\n",
    "plt.show()"
   ]
  },
  {
   "cell_type": "code",
   "execution_count": 44,
   "metadata": {},
   "outputs": [
    {
     "data": {
      "text/html": [
       "<style  type=\"text/css\" >\n",
       "</style><table id=\"T_fbbd5eee_f7de_11ea_b976_283926ea3dcc\" ><thead>    <tr>        <th class=\"col_heading level0 col0\" >reason_text</th>        <th class=\"col_heading level0 col1\" >Absenteeism time in hours</th>    </tr></thead><tbody>\n",
       "                <tr>\n",
       "                                <td id=\"T_fbbd5eee_f7de_11ea_b976_283926ea3dccrow0_col0\" class=\"data row0 col0\" >Injury, poisoning and certain other consequences of external causes</td>\n",
       "                        <td id=\"T_fbbd5eee_f7de_11ea_b976_283926ea3dccrow0_col1\" class=\"data row0 col1\" >147</td>\n",
       "            </tr>\n",
       "            <tr>\n",
       "                                <td id=\"T_fbbd5eee_f7de_11ea_b976_283926ea3dccrow1_col0\" class=\"data row1 col0\" >Diseases of the musculoskeletal system and connective tissue</td>\n",
       "                        <td id=\"T_fbbd5eee_f7de_11ea_b976_283926ea3dccrow1_col1\" class=\"data row1 col1\" >136</td>\n",
       "            </tr>\n",
       "            <tr>\n",
       "                                <td id=\"T_fbbd5eee_f7de_11ea_b976_283926ea3dccrow2_col0\" class=\"data row2 col0\" >Diseases of the skin and subcutaneous tissue</td>\n",
       "                        <td id=\"T_fbbd5eee_f7de_11ea_b976_283926ea3dccrow2_col1\" class=\"data row2 col1\" >112</td>\n",
       "            </tr>\n",
       "            <tr>\n",
       "                                <td id=\"T_fbbd5eee_f7de_11ea_b976_283926ea3dccrow3_col0\" class=\"data row3 col0\" >Diseases of the digestive system</td>\n",
       "                        <td id=\"T_fbbd5eee_f7de_11ea_b976_283926ea3dccrow3_col1\" class=\"data row3 col1\" >72</td>\n",
       "            </tr>\n",
       "            <tr>\n",
       "                                <td id=\"T_fbbd5eee_f7de_11ea_b976_283926ea3dccrow4_col0\" class=\"data row4 col0\" >Patient follow-up</td>\n",
       "                        <td id=\"T_fbbd5eee_f7de_11ea_b976_283926ea3dccrow4_col1\" class=\"data row4 col1\" >56</td>\n",
       "            </tr>\n",
       "            <tr>\n",
       "                                <td id=\"T_fbbd5eee_f7de_11ea_b976_283926ea3dccrow5_col0\" class=\"data row5 col0\" >Dental consultation</td>\n",
       "                        <td id=\"T_fbbd5eee_f7de_11ea_b976_283926ea3dccrow5_col1\" class=\"data row5 col1\" >43</td>\n",
       "            </tr>\n",
       "            <tr>\n",
       "                                <td id=\"T_fbbd5eee_f7de_11ea_b976_283926ea3dccrow6_col0\" class=\"data row6 col0\" >Physiotherapy</td>\n",
       "                        <td id=\"T_fbbd5eee_f7de_11ea_b976_283926ea3dccrow6_col1\" class=\"data row6 col1\" >41</td>\n",
       "            </tr>\n",
       "            <tr>\n",
       "                                <td id=\"T_fbbd5eee_f7de_11ea_b976_283926ea3dccrow7_col0\" class=\"data row7 col0\" >Diseases of the genitourinary system</td>\n",
       "                        <td id=\"T_fbbd5eee_f7de_11ea_b976_283926ea3dccrow7_col1\" class=\"data row7 col1\" >33</td>\n",
       "            </tr>\n",
       "            <tr>\n",
       "                                <td id=\"T_fbbd5eee_f7de_11ea_b976_283926ea3dccrow8_col0\" class=\"data row8 col0\" >Unknown</td>\n",
       "                        <td id=\"T_fbbd5eee_f7de_11ea_b976_283926ea3dccrow8_col1\" class=\"data row8 col1\" >32</td>\n",
       "            </tr>\n",
       "            <tr>\n",
       "                                <td id=\"T_fbbd5eee_f7de_11ea_b976_283926ea3dccrow9_col0\" class=\"data row9 col0\" >Medical consultation</td>\n",
       "                        <td id=\"T_fbbd5eee_f7de_11ea_b976_283926ea3dccrow9_col1\" class=\"data row9 col1\" >28</td>\n",
       "            </tr>\n",
       "            <tr>\n",
       "                                <td id=\"T_fbbd5eee_f7de_11ea_b976_283926ea3dccrow10_col0\" class=\"data row10 col0\" >Unjustified absence</td>\n",
       "                        <td id=\"T_fbbd5eee_f7de_11ea_b976_283926ea3dccrow10_col1\" class=\"data row10 col1\" >16</td>\n",
       "            </tr>\n",
       "            <tr>\n",
       "                                <td id=\"T_fbbd5eee_f7de_11ea_b976_283926ea3dccrow11_col0\" class=\"data row11 col0\" >Certain infectious and parasitic diseases</td>\n",
       "                        <td id=\"T_fbbd5eee_f7de_11ea_b976_283926ea3dccrow11_col1\" class=\"data row11 col1\" >16</td>\n",
       "            </tr>\n",
       "            <tr>\n",
       "                                <td id=\"T_fbbd5eee_f7de_11ea_b976_283926ea3dccrow12_col0\" class=\"data row12 col0\" >Laboratory examination</td>\n",
       "                        <td id=\"T_fbbd5eee_f7de_11ea_b976_283926ea3dccrow12_col1\" class=\"data row12 col1\" >13</td>\n",
       "            </tr>\n",
       "            <tr>\n",
       "                                <td id=\"T_fbbd5eee_f7de_11ea_b976_283926ea3dccrow13_col0\" class=\"data row13 col0\" >Congenital malformations, deformations and chromosomal abnormalities</td>\n",
       "                        <td id=\"T_fbbd5eee_f7de_11ea_b976_283926ea3dccrow13_col1\" class=\"data row13 col1\" >8</td>\n",
       "            </tr>\n",
       "            <tr>\n",
       "                                <td id=\"T_fbbd5eee_f7de_11ea_b976_283926ea3dccrow14_col0\" class=\"data row14 col0\" >Factors influencing health status and contact with health services</td>\n",
       "                        <td id=\"T_fbbd5eee_f7de_11ea_b976_283926ea3dccrow14_col1\" class=\"data row14 col1\" >8</td>\n",
       "            </tr>\n",
       "            <tr>\n",
       "                                <td id=\"T_fbbd5eee_f7de_11ea_b976_283926ea3dccrow15_col0\" class=\"data row15 col0\" >Diseases of the ear and mastoid process</td>\n",
       "                        <td id=\"T_fbbd5eee_f7de_11ea_b976_283926ea3dccrow15_col1\" class=\"data row15 col1\" >8</td>\n",
       "            </tr>\n",
       "            <tr>\n",
       "                                <td id=\"T_fbbd5eee_f7de_11ea_b976_283926ea3dccrow16_col0\" class=\"data row16 col0\" >Diseases of the nervous system</td>\n",
       "                        <td id=\"T_fbbd5eee_f7de_11ea_b976_283926ea3dccrow16_col1\" class=\"data row16 col1\" >8</td>\n",
       "            </tr>\n",
       "            <tr>\n",
       "                                <td id=\"T_fbbd5eee_f7de_11ea_b976_283926ea3dccrow17_col0\" class=\"data row17 col0\" >Diseases of the eye and adnexa</td>\n",
       "                        <td id=\"T_fbbd5eee_f7de_11ea_b976_283926ea3dccrow17_col1\" class=\"data row17 col1\" >8</td>\n",
       "            </tr>\n",
       "            <tr>\n",
       "                                <td id=\"T_fbbd5eee_f7de_11ea_b976_283926ea3dccrow18_col0\" class=\"data row18 col0\" >Symptoms, signs and abnormal clinical and laboratory findings, not elsewhere classified</td>\n",
       "                        <td id=\"T_fbbd5eee_f7de_11ea_b976_283926ea3dccrow18_col1\" class=\"data row18 col1\" >8</td>\n",
       "            </tr>\n",
       "            <tr>\n",
       "                                <td id=\"T_fbbd5eee_f7de_11ea_b976_283926ea3dccrow19_col0\" class=\"data row19 col0\" >Diseases of the respiratory system</td>\n",
       "                        <td id=\"T_fbbd5eee_f7de_11ea_b976_283926ea3dccrow19_col1\" class=\"data row19 col1\" >4</td>\n",
       "            </tr>\n",
       "            <tr>\n",
       "                                <td id=\"T_fbbd5eee_f7de_11ea_b976_283926ea3dccrow20_col0\" class=\"data row20 col0\" >Certain conditions originating in the perinatal period</td>\n",
       "                        <td id=\"T_fbbd5eee_f7de_11ea_b976_283926ea3dccrow20_col1\" class=\"data row20 col1\" >0</td>\n",
       "            </tr>\n",
       "            <tr>\n",
       "                                <td id=\"T_fbbd5eee_f7de_11ea_b976_283926ea3dccrow21_col0\" class=\"data row21 col0\" >Pregnancy, childbirth and the puerperium</td>\n",
       "                        <td id=\"T_fbbd5eee_f7de_11ea_b976_283926ea3dccrow21_col1\" class=\"data row21 col1\" >0</td>\n",
       "            </tr>\n",
       "            <tr>\n",
       "                                <td id=\"T_fbbd5eee_f7de_11ea_b976_283926ea3dccrow22_col0\" class=\"data row22 col0\" >Diseases of the circulatory system</td>\n",
       "                        <td id=\"T_fbbd5eee_f7de_11ea_b976_283926ea3dccrow22_col1\" class=\"data row22 col1\" >0</td>\n",
       "            </tr>\n",
       "            <tr>\n",
       "                                <td id=\"T_fbbd5eee_f7de_11ea_b976_283926ea3dccrow23_col0\" class=\"data row23 col0\" >Endocrine, nutritional and metabolic diseases</td>\n",
       "                        <td id=\"T_fbbd5eee_f7de_11ea_b976_283926ea3dccrow23_col1\" class=\"data row23 col1\" >0</td>\n",
       "            </tr>\n",
       "            <tr>\n",
       "                                <td id=\"T_fbbd5eee_f7de_11ea_b976_283926ea3dccrow24_col0\" class=\"data row24 col0\" >Mental and behavioural disorders</td>\n",
       "                        <td id=\"T_fbbd5eee_f7de_11ea_b976_283926ea3dccrow24_col1\" class=\"data row24 col1\" >0</td>\n",
       "            </tr>\n",
       "            <tr>\n",
       "                                <td id=\"T_fbbd5eee_f7de_11ea_b976_283926ea3dccrow25_col0\" class=\"data row25 col0\" >Diseases of the blood and blood-forming organs and certain disorders involving the immune mechanism</td>\n",
       "                        <td id=\"T_fbbd5eee_f7de_11ea_b976_283926ea3dccrow25_col1\" class=\"data row25 col1\" >0</td>\n",
       "            </tr>\n",
       "            <tr>\n",
       "                                <td id=\"T_fbbd5eee_f7de_11ea_b976_283926ea3dccrow26_col0\" class=\"data row26 col0\" >Blood donation</td>\n",
       "                        <td id=\"T_fbbd5eee_f7de_11ea_b976_283926ea3dccrow26_col1\" class=\"data row26 col1\" >0</td>\n",
       "            </tr>\n",
       "            <tr>\n",
       "                                <td id=\"T_fbbd5eee_f7de_11ea_b976_283926ea3dccrow27_col0\" class=\"data row27 col0\" >Neoplasms</td>\n",
       "                        <td id=\"T_fbbd5eee_f7de_11ea_b976_283926ea3dccrow27_col1\" class=\"data row27 col1\" >0</td>\n",
       "            </tr>\n",
       "    </tbody></table>"
      ],
      "text/plain": [
       "<pandas.io.formats.style.Styler at 0x20b45163188>"
      ]
     },
     "metadata": {},
     "output_type": "display_data"
    }
   ],
   "source": [
    "#  March month Absenteeism hours by Reason\n",
    "#Let us check the March month reason.\n",
    "\n",
    "mar_abs = df[df['Month of absence']==3].groupby('reason_text', as_index=False)['Absenteeism time in hours'].sum()\n",
    "with pd.option_context('display.max_colwidth', -1):\n",
    "    display(mar_abs.sort_values('Absenteeism time in hours', ascending=False).style.hide_index())\n"
   ]
  },
  {
   "cell_type": "code",
   "execution_count": 45,
   "metadata": {},
   "outputs": [
    {
     "data": {
      "text/html": [
       "<style  type=\"text/css\" >\n",
       "</style><table id=\"T_0bdb1a4a_f7df_11ea_a21f_283926ea3dcc\" ><thead>    <tr>        <th class=\"col_heading level0 col0\" >reason_text</th>        <th class=\"col_heading level0 col1\" >Absenteeism time in hours</th>    </tr></thead><tbody>\n",
       "                <tr>\n",
       "                                <td id=\"T_0bdb1a4a_f7df_11ea_a21f_283926ea3dccrow0_col0\" class=\"data row0 col0\" >Diseases of the nervous system</td>\n",
       "                        <td id=\"T_0bdb1a4a_f7df_11ea_a21f_283926ea3dccrow0_col1\" class=\"data row0 col1\" >128</td>\n",
       "            </tr>\n",
       "            <tr>\n",
       "                                <td id=\"T_0bdb1a4a_f7df_11ea_a21f_283926ea3dccrow1_col0\" class=\"data row1 col0\" >Diseases of the circulatory system</td>\n",
       "                        <td id=\"T_0bdb1a4a_f7df_11ea_a21f_283926ea3dccrow1_col1\" class=\"data row1 col1\" >112</td>\n",
       "            </tr>\n",
       "            <tr>\n",
       "                                <td id=\"T_0bdb1a4a_f7df_11ea_a21f_283926ea3dccrow2_col0\" class=\"data row2 col0\" >Injury, poisoning and certain other consequences of external causes</td>\n",
       "                        <td id=\"T_0bdb1a4a_f7df_11ea_a21f_283926ea3dccrow2_col1\" class=\"data row2 col1\" >98</td>\n",
       "            </tr>\n",
       "            <tr>\n",
       "                                <td id=\"T_0bdb1a4a_f7df_11ea_a21f_283926ea3dccrow3_col0\" class=\"data row3 col0\" >Diseases of the musculoskeletal system and connective tissue</td>\n",
       "                        <td id=\"T_0bdb1a4a_f7df_11ea_a21f_283926ea3dccrow3_col1\" class=\"data row3 col1\" >88</td>\n",
       "            </tr>\n",
       "            <tr>\n",
       "                                <td id=\"T_0bdb1a4a_f7df_11ea_a21f_283926ea3dccrow4_col0\" class=\"data row4 col0\" >Patient follow-up</td>\n",
       "                        <td id=\"T_0bdb1a4a_f7df_11ea_a21f_283926ea3dccrow4_col1\" class=\"data row4 col1\" >72</td>\n",
       "            </tr>\n",
       "            <tr>\n",
       "                                <td id=\"T_0bdb1a4a_f7df_11ea_a21f_283926ea3dccrow5_col0\" class=\"data row5 col0\" >Unjustified absence</td>\n",
       "                        <td id=\"T_0bdb1a4a_f7df_11ea_a21f_283926ea3dccrow5_col1\" class=\"data row5 col1\" >56</td>\n",
       "            </tr>\n",
       "            <tr>\n",
       "                                <td id=\"T_0bdb1a4a_f7df_11ea_a21f_283926ea3dccrow6_col0\" class=\"data row6 col0\" >Certain infectious and parasitic diseases</td>\n",
       "                        <td id=\"T_0bdb1a4a_f7df_11ea_a21f_283926ea3dccrow6_col1\" class=\"data row6 col1\" >40</td>\n",
       "            </tr>\n",
       "            <tr>\n",
       "                                <td id=\"T_0bdb1a4a_f7df_11ea_a21f_283926ea3dccrow7_col0\" class=\"data row7 col0\" >Medical consultation</td>\n",
       "                        <td id=\"T_0bdb1a4a_f7df_11ea_a21f_283926ea3dccrow7_col1\" class=\"data row7 col1\" >24</td>\n",
       "            </tr>\n",
       "            <tr>\n",
       "                                <td id=\"T_0bdb1a4a_f7df_11ea_a21f_283926ea3dccrow8_col0\" class=\"data row8 col0\" >Diseases of the digestive system</td>\n",
       "                        <td id=\"T_0bdb1a4a_f7df_11ea_a21f_283926ea3dccrow8_col1\" class=\"data row8 col1\" >21</td>\n",
       "            </tr>\n",
       "            <tr>\n",
       "                                <td id=\"T_0bdb1a4a_f7df_11ea_a21f_283926ea3dccrow9_col0\" class=\"data row9 col0\" >Dental consultation</td>\n",
       "                        <td id=\"T_0bdb1a4a_f7df_11ea_a21f_283926ea3dccrow9_col1\" class=\"data row9 col1\" >18</td>\n",
       "            </tr>\n",
       "            <tr>\n",
       "                                <td id=\"T_0bdb1a4a_f7df_11ea_a21f_283926ea3dccrow10_col0\" class=\"data row10 col0\" >Laboratory examination</td>\n",
       "                        <td id=\"T_0bdb1a4a_f7df_11ea_a21f_283926ea3dccrow10_col1\" class=\"data row10 col1\" >17</td>\n",
       "            </tr>\n",
       "            <tr>\n",
       "                                <td id=\"T_0bdb1a4a_f7df_11ea_a21f_283926ea3dccrow11_col0\" class=\"data row11 col0\" >Unknown</td>\n",
       "                        <td id=\"T_0bdb1a4a_f7df_11ea_a21f_283926ea3dccrow11_col1\" class=\"data row11 col1\" >16</td>\n",
       "            </tr>\n",
       "            <tr>\n",
       "                                <td id=\"T_0bdb1a4a_f7df_11ea_a21f_283926ea3dccrow12_col0\" class=\"data row12 col0\" >Diseases of the genitourinary system</td>\n",
       "                        <td id=\"T_0bdb1a4a_f7df_11ea_a21f_283926ea3dccrow12_col1\" class=\"data row12 col1\" >16</td>\n",
       "            </tr>\n",
       "            <tr>\n",
       "                                <td id=\"T_0bdb1a4a_f7df_11ea_a21f_283926ea3dccrow13_col0\" class=\"data row13 col0\" >Diseases of the eye and adnexa</td>\n",
       "                        <td id=\"T_0bdb1a4a_f7df_11ea_a21f_283926ea3dccrow13_col1\" class=\"data row13 col1\" >12</td>\n",
       "            </tr>\n",
       "            <tr>\n",
       "                                <td id=\"T_0bdb1a4a_f7df_11ea_a21f_283926ea3dccrow14_col0\" class=\"data row14 col0\" >Pregnancy, childbirth and the puerperium</td>\n",
       "                        <td id=\"T_0bdb1a4a_f7df_11ea_a21f_283926ea3dccrow14_col1\" class=\"data row14 col1\" >8</td>\n",
       "            </tr>\n",
       "            <tr>\n",
       "                                <td id=\"T_0bdb1a4a_f7df_11ea_a21f_283926ea3dccrow15_col0\" class=\"data row15 col0\" >Symptoms, signs and abnormal clinical and laboratory findings, not elsewhere classified</td>\n",
       "                        <td id=\"T_0bdb1a4a_f7df_11ea_a21f_283926ea3dccrow15_col1\" class=\"data row15 col1\" >8</td>\n",
       "            </tr>\n",
       "            <tr>\n",
       "                                <td id=\"T_0bdb1a4a_f7df_11ea_a21f_283926ea3dccrow16_col0\" class=\"data row16 col0\" >Factors influencing health status and contact with health services</td>\n",
       "                        <td id=\"T_0bdb1a4a_f7df_11ea_a21f_283926ea3dccrow16_col1\" class=\"data row16 col1\" >8</td>\n",
       "            </tr>\n",
       "            <tr>\n",
       "                                <td id=\"T_0bdb1a4a_f7df_11ea_a21f_283926ea3dccrow17_col0\" class=\"data row17 col0\" >Mental and behavioural disorders</td>\n",
       "                        <td id=\"T_0bdb1a4a_f7df_11ea_a21f_283926ea3dccrow17_col1\" class=\"data row17 col1\" >8</td>\n",
       "            </tr>\n",
       "            <tr>\n",
       "                                <td id=\"T_0bdb1a4a_f7df_11ea_a21f_283926ea3dccrow18_col0\" class=\"data row18 col0\" >Diseases of the skin and subcutaneous tissue</td>\n",
       "                        <td id=\"T_0bdb1a4a_f7df_11ea_a21f_283926ea3dccrow18_col1\" class=\"data row18 col1\" >0</td>\n",
       "            </tr>\n",
       "            <tr>\n",
       "                                <td id=\"T_0bdb1a4a_f7df_11ea_a21f_283926ea3dccrow19_col0\" class=\"data row19 col0\" >Diseases of the respiratory system</td>\n",
       "                        <td id=\"T_0bdb1a4a_f7df_11ea_a21f_283926ea3dccrow19_col1\" class=\"data row19 col1\" >0</td>\n",
       "            </tr>\n",
       "            <tr>\n",
       "                                <td id=\"T_0bdb1a4a_f7df_11ea_a21f_283926ea3dccrow20_col0\" class=\"data row20 col0\" >Diseases of the ear and mastoid process</td>\n",
       "                        <td id=\"T_0bdb1a4a_f7df_11ea_a21f_283926ea3dccrow20_col1\" class=\"data row20 col1\" >0</td>\n",
       "            </tr>\n",
       "            <tr>\n",
       "                                <td id=\"T_0bdb1a4a_f7df_11ea_a21f_283926ea3dccrow21_col0\" class=\"data row21 col0\" >Certain conditions originating in the perinatal period</td>\n",
       "                        <td id=\"T_0bdb1a4a_f7df_11ea_a21f_283926ea3dccrow21_col1\" class=\"data row21 col1\" >0</td>\n",
       "            </tr>\n",
       "            <tr>\n",
       "                                <td id=\"T_0bdb1a4a_f7df_11ea_a21f_283926ea3dccrow22_col0\" class=\"data row22 col0\" >Congenital malformations, deformations and chromosomal abnormalities</td>\n",
       "                        <td id=\"T_0bdb1a4a_f7df_11ea_a21f_283926ea3dccrow22_col1\" class=\"data row22 col1\" >0</td>\n",
       "            </tr>\n",
       "            <tr>\n",
       "                                <td id=\"T_0bdb1a4a_f7df_11ea_a21f_283926ea3dccrow23_col0\" class=\"data row23 col0\" >Endocrine, nutritional and metabolic diseases</td>\n",
       "                        <td id=\"T_0bdb1a4a_f7df_11ea_a21f_283926ea3dccrow23_col1\" class=\"data row23 col1\" >0</td>\n",
       "            </tr>\n",
       "            <tr>\n",
       "                                <td id=\"T_0bdb1a4a_f7df_11ea_a21f_283926ea3dccrow24_col0\" class=\"data row24 col0\" >Blood donation</td>\n",
       "                        <td id=\"T_0bdb1a4a_f7df_11ea_a21f_283926ea3dccrow24_col1\" class=\"data row24 col1\" >0</td>\n",
       "            </tr>\n",
       "            <tr>\n",
       "                                <td id=\"T_0bdb1a4a_f7df_11ea_a21f_283926ea3dccrow25_col0\" class=\"data row25 col0\" >Diseases of the blood and blood-forming organs and certain disorders involving the immune mechanism</td>\n",
       "                        <td id=\"T_0bdb1a4a_f7df_11ea_a21f_283926ea3dccrow25_col1\" class=\"data row25 col1\" >0</td>\n",
       "            </tr>\n",
       "            <tr>\n",
       "                                <td id=\"T_0bdb1a4a_f7df_11ea_a21f_283926ea3dccrow26_col0\" class=\"data row26 col0\" >Neoplasms</td>\n",
       "                        <td id=\"T_0bdb1a4a_f7df_11ea_a21f_283926ea3dccrow26_col1\" class=\"data row26 col1\" >0</td>\n",
       "            </tr>\n",
       "            <tr>\n",
       "                                <td id=\"T_0bdb1a4a_f7df_11ea_a21f_283926ea3dccrow27_col0\" class=\"data row27 col0\" >Physiotherapy</td>\n",
       "                        <td id=\"T_0bdb1a4a_f7df_11ea_a21f_283926ea3dccrow27_col1\" class=\"data row27 col1\" >0</td>\n",
       "            </tr>\n",
       "    </tbody></table>"
      ],
      "text/plain": [
       "<pandas.io.formats.style.Styler at 0x20b45101988>"
      ]
     },
     "metadata": {},
     "output_type": "display_data"
    }
   ],
   "source": [
    "# July month Absenteeism hours by Reason\n",
    "\n",
    "#Looks like the March month & July month reasons are not matching.\n",
    "\n",
    "jul_abs = df[df['Month of absence']==7].groupby('reason_text', as_index=False)['Absenteeism time in hours'].sum()\n",
    "with pd.option_context('display.max_colwidth', -1):\n",
    "    display(jul_abs.sort_values('Absenteeism time in hours', ascending=False).style.hide_index())"
   ]
  },
  {
   "cell_type": "markdown",
   "metadata": {},
   "source": [
    " Train and Test Split\n"
   ]
  },
  {
   "cell_type": "code",
   "execution_count": 46,
   "metadata": {},
   "outputs": [
    {
     "data": {
      "text/html": [
       "<div>\n",
       "<style scoped>\n",
       "    .dataframe tbody tr th:only-of-type {\n",
       "        vertical-align: middle;\n",
       "    }\n",
       "\n",
       "    .dataframe tbody tr th {\n",
       "        vertical-align: top;\n",
       "    }\n",
       "\n",
       "    .dataframe thead th {\n",
       "        text-align: right;\n",
       "    }\n",
       "</style>\n",
       "<table border=\"1\" class=\"dataframe\">\n",
       "  <thead>\n",
       "    <tr style=\"text-align: right;\">\n",
       "      <th></th>\n",
       "      <th>ID</th>\n",
       "      <th>Reason for absence</th>\n",
       "      <th>Month of absence</th>\n",
       "      <th>Day of the week</th>\n",
       "      <th>Seasons</th>\n",
       "      <th>Transportation expense</th>\n",
       "      <th>Distance from Residence to Work</th>\n",
       "      <th>Service time</th>\n",
       "      <th>Age</th>\n",
       "      <th>Work load Averageperday</th>\n",
       "      <th>...</th>\n",
       "      <th>Social smoker</th>\n",
       "      <th>Pet</th>\n",
       "      <th>Weight</th>\n",
       "      <th>Height</th>\n",
       "      <th>Body mass index</th>\n",
       "      <th>Absenteeism time in hours</th>\n",
       "      <th>season_name</th>\n",
       "      <th>month_name</th>\n",
       "      <th>reason_text</th>\n",
       "      <th>Education_detail</th>\n",
       "    </tr>\n",
       "  </thead>\n",
       "  <tbody>\n",
       "    <tr>\n",
       "      <th>0</th>\n",
       "      <td>11</td>\n",
       "      <td>26</td>\n",
       "      <td>7</td>\n",
       "      <td>3</td>\n",
       "      <td>1</td>\n",
       "      <td>289</td>\n",
       "      <td>36</td>\n",
       "      <td>13</td>\n",
       "      <td>33</td>\n",
       "      <td>239554</td>\n",
       "      <td>...</td>\n",
       "      <td>False</td>\n",
       "      <td>1</td>\n",
       "      <td>90</td>\n",
       "      <td>172</td>\n",
       "      <td>30</td>\n",
       "      <td>4</td>\n",
       "      <td>Summer</td>\n",
       "      <td>Jul</td>\n",
       "      <td>Unjustified absence</td>\n",
       "      <td>High School</td>\n",
       "    </tr>\n",
       "    <tr>\n",
       "      <th>1</th>\n",
       "      <td>36</td>\n",
       "      <td>0</td>\n",
       "      <td>7</td>\n",
       "      <td>3</td>\n",
       "      <td>1</td>\n",
       "      <td>118</td>\n",
       "      <td>13</td>\n",
       "      <td>18</td>\n",
       "      <td>50</td>\n",
       "      <td>239554</td>\n",
       "      <td>...</td>\n",
       "      <td>False</td>\n",
       "      <td>0</td>\n",
       "      <td>98</td>\n",
       "      <td>178</td>\n",
       "      <td>31</td>\n",
       "      <td>8</td>\n",
       "      <td>Summer</td>\n",
       "      <td>Jul</td>\n",
       "      <td>Unknown</td>\n",
       "      <td>High School</td>\n",
       "    </tr>\n",
       "    <tr>\n",
       "      <th>2</th>\n",
       "      <td>3</td>\n",
       "      <td>23</td>\n",
       "      <td>7</td>\n",
       "      <td>4</td>\n",
       "      <td>1</td>\n",
       "      <td>179</td>\n",
       "      <td>51</td>\n",
       "      <td>18</td>\n",
       "      <td>38</td>\n",
       "      <td>239554</td>\n",
       "      <td>...</td>\n",
       "      <td>False</td>\n",
       "      <td>0</td>\n",
       "      <td>89</td>\n",
       "      <td>170</td>\n",
       "      <td>31</td>\n",
       "      <td>2</td>\n",
       "      <td>Summer</td>\n",
       "      <td>Jul</td>\n",
       "      <td>Medical consultation</td>\n",
       "      <td>High School</td>\n",
       "    </tr>\n",
       "    <tr>\n",
       "      <th>3</th>\n",
       "      <td>7</td>\n",
       "      <td>7</td>\n",
       "      <td>7</td>\n",
       "      <td>5</td>\n",
       "      <td>1</td>\n",
       "      <td>279</td>\n",
       "      <td>5</td>\n",
       "      <td>14</td>\n",
       "      <td>39</td>\n",
       "      <td>239554</td>\n",
       "      <td>...</td>\n",
       "      <td>True</td>\n",
       "      <td>0</td>\n",
       "      <td>68</td>\n",
       "      <td>168</td>\n",
       "      <td>24</td>\n",
       "      <td>4</td>\n",
       "      <td>Summer</td>\n",
       "      <td>Jul</td>\n",
       "      <td>Diseases of the eye and adnexa</td>\n",
       "      <td>High School</td>\n",
       "    </tr>\n",
       "    <tr>\n",
       "      <th>4</th>\n",
       "      <td>11</td>\n",
       "      <td>23</td>\n",
       "      <td>7</td>\n",
       "      <td>5</td>\n",
       "      <td>1</td>\n",
       "      <td>289</td>\n",
       "      <td>36</td>\n",
       "      <td>13</td>\n",
       "      <td>33</td>\n",
       "      <td>239554</td>\n",
       "      <td>...</td>\n",
       "      <td>False</td>\n",
       "      <td>1</td>\n",
       "      <td>90</td>\n",
       "      <td>172</td>\n",
       "      <td>30</td>\n",
       "      <td>2</td>\n",
       "      <td>Summer</td>\n",
       "      <td>Jul</td>\n",
       "      <td>Medical consultation</td>\n",
       "      <td>High School</td>\n",
       "    </tr>\n",
       "  </tbody>\n",
       "</table>\n",
       "<p>5 rows × 25 columns</p>\n",
       "</div>"
      ],
      "text/plain": [
       "   ID Reason for absence Month of absence Day of the week Seasons  \\\n",
       "0  11                 26                7               3       1   \n",
       "1  36                  0                7               3       1   \n",
       "2   3                 23                7               4       1   \n",
       "3   7                  7                7               5       1   \n",
       "4  11                 23                7               5       1   \n",
       "\n",
       "   Transportation expense  Distance from Residence to Work  Service time  Age  \\\n",
       "0                     289                               36            13   33   \n",
       "1                     118                               13            18   50   \n",
       "2                     179                               51            18   38   \n",
       "3                     279                                5            14   39   \n",
       "4                     289                               36            13   33   \n",
       "\n",
       "   Work load Averageperday  ...  Social smoker  Pet Weight  Height  \\\n",
       "0                   239554  ...          False    1     90     172   \n",
       "1                   239554  ...          False    0     98     178   \n",
       "2                   239554  ...          False    0     89     170   \n",
       "3                   239554  ...           True    0     68     168   \n",
       "4                   239554  ...          False    1     90     172   \n",
       "\n",
       "   Body mass index  Absenteeism time in hours  season_name  month_name  \\\n",
       "0               30                          4       Summer         Jul   \n",
       "1               31                          8       Summer         Jul   \n",
       "2               31                          2       Summer         Jul   \n",
       "3               24                          4       Summer         Jul   \n",
       "4               30                          2       Summer         Jul   \n",
       "\n",
       "                      reason_text  Education_detail  \n",
       "0             Unjustified absence       High School  \n",
       "1                         Unknown       High School  \n",
       "2            Medical consultation       High School  \n",
       "3  Diseases of the eye and adnexa       High School  \n",
       "4            Medical consultation       High School  \n",
       "\n",
       "[5 rows x 25 columns]"
      ]
     },
     "execution_count": 46,
     "metadata": {},
     "output_type": "execute_result"
    }
   ],
   "source": [
    "df.head()"
   ]
  },
  {
   "cell_type": "code",
   "execution_count": 47,
   "metadata": {},
   "outputs": [],
   "source": [
    "#After using the FeatureImportance attribute of RandomForest, We removed four columns from df_features that are Season, Social_smoker, Social Drinker, Education\n",
    "\n",
    "#X = df_features y = df['Absenteeism time in hours'] X_train, X_test, y_train, y_test = train_test_split(X, y, test_size=0.3, random_state=42)\n",
    "#This is the challenge in the small dataset. We changed the target variable as Classification\n",
    "\n",
    "#The target variable is Absenteeism in hours. Let us change to classification, so the multiclass variable is '=<4' as '0' and '>4' as '1'. This is just random assumption that employee absence can be half day, full day or more......"
   ]
  },
  {
   "cell_type": "code",
   "execution_count": 48,
   "metadata": {},
   "outputs": [],
   "source": [
    "bins = [25, 35, 45, 55, np.inf]\n",
    "names = [25, 35, 45, 55]\n",
    "df['age_range'] = pd.cut(df['Age'], bins, labels=names)"
   ]
  },
  {
   "cell_type": "code",
   "execution_count": 49,
   "metadata": {},
   "outputs": [],
   "source": [
    "abs_bins = [0, 4, np.inf]\n",
    "abs_names = ['0', '1']\n",
    "df['abs_range'] = pd.cut(df['Absenteeism time in hours'], abs_bins, labels=abs_names)\n"
   ]
  },
  {
   "cell_type": "code",
   "execution_count": 50,
   "metadata": {},
   "outputs": [],
   "source": [
    "df_features = df[['Reason for absence', 'Month of absence', 'Day of the week', 'Transportation expense', \n",
    "        'Distance from Residence to Work', 'Service time', 'age_range', 'Work load Averageperday', 'Hit target',\n",
    "        'Disciplinary failure', 'Son', 'Pet', 'Weight', 'Height', 'Body mass index']]"
   ]
  },
  {
   "cell_type": "code",
   "execution_count": 51,
   "metadata": {},
   "outputs": [
    {
     "data": {
      "text/html": [
       "<div>\n",
       "<style scoped>\n",
       "    .dataframe tbody tr th:only-of-type {\n",
       "        vertical-align: middle;\n",
       "    }\n",
       "\n",
       "    .dataframe tbody tr th {\n",
       "        vertical-align: top;\n",
       "    }\n",
       "\n",
       "    .dataframe thead th {\n",
       "        text-align: right;\n",
       "    }\n",
       "</style>\n",
       "<table border=\"1\" class=\"dataframe\">\n",
       "  <thead>\n",
       "    <tr style=\"text-align: right;\">\n",
       "      <th></th>\n",
       "      <th>Reason for absence</th>\n",
       "      <th>Month of absence</th>\n",
       "      <th>Day of the week</th>\n",
       "      <th>Transportation expense</th>\n",
       "      <th>Distance from Residence to Work</th>\n",
       "      <th>Service time</th>\n",
       "      <th>age_range</th>\n",
       "      <th>Work load Averageperday</th>\n",
       "      <th>Hit target</th>\n",
       "      <th>Disciplinary failure</th>\n",
       "      <th>Son</th>\n",
       "      <th>Pet</th>\n",
       "      <th>Weight</th>\n",
       "      <th>Height</th>\n",
       "      <th>Body mass index</th>\n",
       "    </tr>\n",
       "  </thead>\n",
       "  <tbody>\n",
       "    <tr>\n",
       "      <th>0</th>\n",
       "      <td>26</td>\n",
       "      <td>7</td>\n",
       "      <td>3</td>\n",
       "      <td>289</td>\n",
       "      <td>36</td>\n",
       "      <td>13</td>\n",
       "      <td>25</td>\n",
       "      <td>239554</td>\n",
       "      <td>97</td>\n",
       "      <td>False</td>\n",
       "      <td>2</td>\n",
       "      <td>1</td>\n",
       "      <td>90</td>\n",
       "      <td>172</td>\n",
       "      <td>30</td>\n",
       "    </tr>\n",
       "    <tr>\n",
       "      <th>1</th>\n",
       "      <td>0</td>\n",
       "      <td>7</td>\n",
       "      <td>3</td>\n",
       "      <td>118</td>\n",
       "      <td>13</td>\n",
       "      <td>18</td>\n",
       "      <td>45</td>\n",
       "      <td>239554</td>\n",
       "      <td>97</td>\n",
       "      <td>True</td>\n",
       "      <td>1</td>\n",
       "      <td>0</td>\n",
       "      <td>98</td>\n",
       "      <td>178</td>\n",
       "      <td>31</td>\n",
       "    </tr>\n",
       "    <tr>\n",
       "      <th>2</th>\n",
       "      <td>23</td>\n",
       "      <td>7</td>\n",
       "      <td>4</td>\n",
       "      <td>179</td>\n",
       "      <td>51</td>\n",
       "      <td>18</td>\n",
       "      <td>35</td>\n",
       "      <td>239554</td>\n",
       "      <td>97</td>\n",
       "      <td>False</td>\n",
       "      <td>0</td>\n",
       "      <td>0</td>\n",
       "      <td>89</td>\n",
       "      <td>170</td>\n",
       "      <td>31</td>\n",
       "    </tr>\n",
       "    <tr>\n",
       "      <th>3</th>\n",
       "      <td>7</td>\n",
       "      <td>7</td>\n",
       "      <td>5</td>\n",
       "      <td>279</td>\n",
       "      <td>5</td>\n",
       "      <td>14</td>\n",
       "      <td>35</td>\n",
       "      <td>239554</td>\n",
       "      <td>97</td>\n",
       "      <td>False</td>\n",
       "      <td>2</td>\n",
       "      <td>0</td>\n",
       "      <td>68</td>\n",
       "      <td>168</td>\n",
       "      <td>24</td>\n",
       "    </tr>\n",
       "    <tr>\n",
       "      <th>4</th>\n",
       "      <td>23</td>\n",
       "      <td>7</td>\n",
       "      <td>5</td>\n",
       "      <td>289</td>\n",
       "      <td>36</td>\n",
       "      <td>13</td>\n",
       "      <td>25</td>\n",
       "      <td>239554</td>\n",
       "      <td>97</td>\n",
       "      <td>False</td>\n",
       "      <td>2</td>\n",
       "      <td>1</td>\n",
       "      <td>90</td>\n",
       "      <td>172</td>\n",
       "      <td>30</td>\n",
       "    </tr>\n",
       "  </tbody>\n",
       "</table>\n",
       "</div>"
      ],
      "text/plain": [
       "  Reason for absence Month of absence Day of the week  Transportation expense  \\\n",
       "0                 26                7               3                     289   \n",
       "1                  0                7               3                     118   \n",
       "2                 23                7               4                     179   \n",
       "3                  7                7               5                     279   \n",
       "4                 23                7               5                     289   \n",
       "\n",
       "   Distance from Residence to Work  Service time age_range  \\\n",
       "0                               36            13        25   \n",
       "1                               13            18        45   \n",
       "2                               51            18        35   \n",
       "3                                5            14        35   \n",
       "4                               36            13        25   \n",
       "\n",
       "   Work load Averageperday  Hit target  Disciplinary failure  Son  Pet  \\\n",
       "0                   239554          97                 False    2    1   \n",
       "1                   239554          97                  True    1    0   \n",
       "2                   239554          97                 False    0    0   \n",
       "3                   239554          97                 False    2    0   \n",
       "4                   239554          97                 False    2    1   \n",
       "\n",
       "   Weight  Height  Body mass index  \n",
       "0      90     172               30  \n",
       "1      98     178               31  \n",
       "2      89     170               31  \n",
       "3      68     168               24  \n",
       "4      90     172               30  "
      ]
     },
     "execution_count": 51,
     "metadata": {},
     "output_type": "execute_result"
    }
   ],
   "source": [
    "df_features.head()\n"
   ]
  },
  {
   "cell_type": "markdown",
   "metadata": {},
   "source": [
    "After using the FeatureImportance atttribute of RF Classifier we removed four columns from our df_features they are season, social_smoker, social_drinker, eduaction to increase accuracy."
   ]
  },
  {
   "cell_type": "markdown",
   "metadata": {},
   "source": [
    "ML Model\n",
    "\n",
    "Lets split the data "
   ]
  },
  {
   "cell_type": "code",
   "execution_count": 52,
   "metadata": {},
   "outputs": [],
   "source": [
    "X = df_features\n",
    "y = df['abs_range']\n",
    "X_train, X_test, y_train, y_test = train_test_split(X, y, test_size=0.3, random_state=42)"
   ]
  },
  {
   "cell_type": "code",
   "execution_count": 53,
   "metadata": {},
   "outputs": [
    {
     "name": "stdout",
     "output_type": "stream",
     "text": [
      "              precision    recall  f1-score   support\n",
      "\n",
      "           0       0.75      0.78      0.77       130\n",
      "           1       0.67      0.64      0.66        92\n",
      "\n",
      "    accuracy                           0.72       222\n",
      "   macro avg       0.71      0.71      0.71       222\n",
      "weighted avg       0.72      0.72      0.72       222\n",
      "\n"
     ]
    }
   ],
   "source": [
    "#Gaussian Naive Bayes Classifier\n",
    "from sklearn.naive_bayes import GaussianNB \n",
    "\n",
    "gnb = GaussianNB() \n",
    "gnb.fit(X_train, y_train) \n",
    "  \n",
    "y_pred_nb = gnb.predict(X_test) \n",
    "  \n",
    "print(classification_report(y_test, y_pred_nb))"
   ]
  },
  {
   "cell_type": "code",
   "execution_count": 54,
   "metadata": {},
   "outputs": [
    {
     "name": "stdout",
     "output_type": "stream",
     "text": [
      "              precision    recall  f1-score   support\n",
      "\n",
      "           0       0.86      0.82      0.84       130\n",
      "           1       0.77      0.82      0.79        92\n",
      "\n",
      "    accuracy                           0.82       222\n",
      "   macro avg       0.81      0.82      0.82       222\n",
      "weighted avg       0.82      0.82      0.82       222\n",
      "\n"
     ]
    }
   ],
   "source": [
    "\n",
    "#AdaBoost Classifier\n",
    "\n",
    "from sklearn.ensemble import AdaBoostClassifier\n",
    "\n",
    "clf = AdaBoostClassifier(n_estimators=20)\n",
    "clf.fit(X_train, y_train)\n",
    "\n",
    "y_pred_adb = clf.predict(X_test)\n",
    "\n",
    "print(classification_report(y_test, y_pred_adb))\n"
   ]
  },
  {
   "cell_type": "code",
   "execution_count": 55,
   "metadata": {},
   "outputs": [
    {
     "name": "stdout",
     "output_type": "stream",
     "text": [
      "              precision    recall  f1-score   support\n",
      "\n",
      "           0       0.86      0.78      0.82       130\n",
      "           1       0.73      0.83      0.78        92\n",
      "\n",
      "    accuracy                           0.80       222\n",
      "   macro avg       0.80      0.81      0.80       222\n",
      "weighted avg       0.81      0.80      0.80       222\n",
      "\n"
     ]
    }
   ],
   "source": [
    "#RandomForest Classifier\n",
    "\n",
    "model = RandomForestClassifier(n_estimators=20, random_state=0, n_jobs=-1)\n",
    "model.fit(X_train,y_train)\n",
    "\n",
    "y_pred_rf = model.predict(X_test)\n",
    "\n",
    "print(classification_report(y_test, y_pred_rf))"
   ]
  },
  {
   "cell_type": "code",
   "execution_count": 56,
   "metadata": {},
   "outputs": [
    {
     "data": {
      "image/png": "[encoded data removed]",
      "text/plain": [
       "<Figure size 576x432 with 1 Axes>"
      ]
     },
     "metadata": {
      "needs_background": "light"
     },
     "output_type": "display_data"
    }
   ],
   "source": [
    "ax = (pd.Series(model.feature_importances_, index=X.columns)\n",
    "   .nlargest(19)\n",
    "   .plot(kind='barh', figsize=(8,6), color='navajowhite',edgecolor='darkred'))\n",
    "plt.show()"
   ]
  },
  {
   "cell_type": "code",
   "execution_count": 60,
   "metadata": {},
   "outputs": [
    {
     "name": "stdout",
     "output_type": "stream",
     "text": [
      "Fitting 5 folds for each of 100 candidates, totalling 500 fits\n"
     ]
    },
    {
     "name": "stderr",
     "output_type": "stream",
     "text": [
      "[Parallel(n_jobs=-1)]: Using backend LokyBackend with 2 concurrent workers.\n",
      "[Parallel(n_jobs=-1)]: Done  37 tasks      | elapsed:  3.1min\n",
      "[Parallel(n_jobs=-1)]: Done 158 tasks      | elapsed: 10.8min\n",
      "[Parallel(n_jobs=-1)]: Done 361 tasks      | elapsed: 23.2min\n",
      "[Parallel(n_jobs=-1)]: Done 500 out of 500 | elapsed: 30.9min finished\n"
     ]
    },
    {
     "data": {
      "text/plain": [
       "RandomizedSearchCV(cv=5, error_score=nan,\n",
       "                   estimator=RandomForestClassifier(bootstrap=True,\n",
       "                                                    ccp_alpha=0.0,\n",
       "                                                    class_weight=None,\n",
       "                                                    criterion='gini',\n",
       "                                                    max_depth=None,\n",
       "                                                    max_features='auto',\n",
       "                                                    max_leaf_nodes=None,\n",
       "                                                    max_samples=None,\n",
       "                                                    min_impurity_decrease=0.0,\n",
       "                                                    min_impurity_split=None,\n",
       "                                                    min_samples_leaf=1,\n",
       "                                                    min_samples_split=2,\n",
       "                                                    min_weight_fraction_leaf=0.0,\n",
       "                                                    n_estimators=100,\n",
       "                                                    n_jobs...\n",
       "                   param_distributions={'bootstrap': [True, False],\n",
       "                                        'max_depth': [10, 20, 30, 40, 50, 60,\n",
       "                                                      70, 80, 90, 100, 110,\n",
       "                                                      None],\n",
       "                                        'max_features': ['auto', 'sqrt'],\n",
       "                                        'min_samples_leaf': [1, 2, 4],\n",
       "                                        'min_samples_split': [2, 5, 10],\n",
       "                                        'n_estimators': [100, 200, 300, 400,\n",
       "                                                         500, 600, 700, 800,\n",
       "                                                         900, 1000, 1100, 1200,\n",
       "                                                         1300, 1400, 1500, 1600,\n",
       "                                                         1700, 1800, 1900,\n",
       "                                                         2000]},\n",
       "                   pre_dispatch='2*n_jobs', random_state=42, refit=True,\n",
       "                   return_train_score=False, scoring=None, verbose=2)"
      ]
     },
     "execution_count": 60,
     "metadata": {},
     "output_type": "execute_result"
    }
   ],
   "source": [
    "from sklearn.model_selection import RandomizedSearchCV\n",
    "n_estimators = [int(x) for x in np.linspace(start=100, stop = 2000, num = 20)]\n",
    "max_features = ['auto', 'sqrt']\n",
    "max_depth = [int(x) for x in np.linspace(10, 110, num = 11)]\n",
    "max_depth.append(None)\n",
    "min_samples_split = [2, 5, 10]\n",
    "min_sample_leaf = [1, 2, 4]\n",
    "bootstrap = [True, False]\n",
    "\n",
    "random_grid = {'n_estimators' : n_estimators,\n",
    "               'max_features' : max_features,\n",
    "               'max_depth' : max_depth,\n",
    "               'min_samples_split' : min_samples_split,\n",
    "               'min_samples_leaf': min_sample_leaf,\n",
    "               'bootstrap' : bootstrap\n",
    "              }\n",
    "\n",
    "rf = RandomForestClassifier()\n",
    "rf_random = RandomizedSearchCV(estimator = rf, param_distributions = random_grid, n_iter = 100, cv=5, error_score= np.nan, \n",
    "                               verbose=2, random_state=42, n_jobs = -1)\n",
    "rf_random.fit(X_train, y_train)\n"
   ]
  },
  {
   "cell_type": "code",
   "execution_count": 61,
   "metadata": {},
   "outputs": [
    {
     "data": {
      "text/plain": [
       "{'n_estimators': 100,\n",
       " 'min_samples_split': 10,\n",
       " 'min_samples_leaf': 2,\n",
       " 'max_features': 'auto',\n",
       " 'max_depth': 70,\n",
       " 'bootstrap': True}"
      ]
     },
     "execution_count": 61,
     "metadata": {},
     "output_type": "execute_result"
    }
   ],
   "source": [
    "# The below will provide us the best parameters from the Random Search CV.\n",
    "\n",
    "rf_random.best_params_"
   ]
  },
  {
   "cell_type": "code",
   "execution_count": 70,
   "metadata": {},
   "outputs": [],
   "source": [
    "from sklearn.ensemble import RandomForestClassifier\n",
    "model_random = rf_random.best_estimator_\n",
    "model_random.fit(X_train, y_train)\n",
    "predictions_random = model_random.predict(X_test)"
   ]
  },
  {
   "cell_type": "code",
   "execution_count": 71,
   "metadata": {},
   "outputs": [
    {
     "name": "stdout",
     "output_type": "stream",
     "text": [
      "Accuracy: 0.8288288288288288\n"
     ]
    }
   ],
   "source": [
    "print(\"Accuracy:\",metrics.accuracy_score(y_test, predictions_random))\n"
   ]
  },
  {
   "cell_type": "code",
   "execution_count": 72,
   "metadata": {},
   "outputs": [
    {
     "name": "stdout",
     "output_type": "stream",
     "text": [
      "              precision    recall  f1-score   support\n",
      "\n",
      "           0       0.88      0.82      0.85       130\n",
      "           1       0.76      0.85      0.80        92\n",
      "\n",
      "    accuracy                           0.83       222\n",
      "   macro avg       0.82      0.83      0.83       222\n",
      "weighted avg       0.83      0.83      0.83       222\n",
      "\n"
     ]
    }
   ],
   "source": [
    "print(classification_report(y_test, predictions_random))\n"
   ]
  },
  {
   "cell_type": "code",
   "execution_count": 73,
   "metadata": {},
   "outputs": [
    {
     "data": {
      "text/plain": [
       "0.8288288288288288"
      ]
     },
     "execution_count": 73,
     "metadata": {},
     "output_type": "execute_result"
    }
   ],
   "source": [
    "metrics.f1_score(y_test, predictions_random, average='micro')\n"
   ]
  },
  {
   "cell_type": "code",
   "execution_count": 74,
   "metadata": {},
   "outputs": [],
   "source": [
    "#Let us check the train & test data for each classification.\n",
    "\n",
    "from collections import Counter\n"
   ]
  },
  {
   "cell_type": "code",
   "execution_count": 75,
   "metadata": {},
   "outputs": [
    {
     "data": {
      "text/plain": [
       "Counter({'0': 288, '1': 230})"
      ]
     },
     "execution_count": 75,
     "metadata": {},
     "output_type": "execute_result"
    }
   ],
   "source": [
    "Counter(y_train)\n"
   ]
  },
  {
   "cell_type": "code",
   "execution_count": 76,
   "metadata": {},
   "outputs": [
    {
     "data": {
      "text/plain": [
       "Counter({'0': 130, '1': 92})"
      ]
     },
     "execution_count": 76,
     "metadata": {},
     "output_type": "execute_result"
    }
   ],
   "source": [
    "Counter(y_test)\n"
   ]
  },
  {
   "cell_type": "code",
   "execution_count": 77,
   "metadata": {},
   "outputs": [
    {
     "name": "stdout",
     "output_type": "stream",
     "text": [
      "Fitting 5 folds for each of 144 candidates, totalling 720 fits\n"
     ]
    },
    {
     "name": "stderr",
     "output_type": "stream",
     "text": [
      "[Parallel(n_jobs=-1)]: Using backend LokyBackend with 2 concurrent workers.\n",
      "[Parallel(n_jobs=-1)]: Done  37 tasks      | elapsed:   51.4s\n",
      "[Parallel(n_jobs=-1)]: Done 158 tasks      | elapsed:  3.4min\n",
      "[Parallel(n_jobs=-1)]: Done 361 tasks      | elapsed:  7.8min\n",
      "[Parallel(n_jobs=-1)]: Done 644 tasks      | elapsed: 13.5min\n",
      "[Parallel(n_jobs=-1)]: Done 720 out of 720 | elapsed: 15.0min finished\n"
     ]
    },
    {
     "data": {
      "text/plain": [
       "GridSearchCV(cv=5, error_score=nan,\n",
       "             estimator=RandomForestClassifier(bootstrap=True, ccp_alpha=0.0,\n",
       "                                              class_weight=None,\n",
       "                                              criterion='gini', max_depth=None,\n",
       "                                              max_features='auto',\n",
       "                                              max_leaf_nodes=None,\n",
       "                                              max_samples=None,\n",
       "                                              min_impurity_decrease=0.0,\n",
       "                                              min_impurity_split=None,\n",
       "                                              min_samples_leaf=1,\n",
       "                                              min_samples_split=2,\n",
       "                                              min_weight_fraction_leaf=0.0,\n",
       "                                              n_estimators=100, n_jobs=None,\n",
       "                                              oob_score=False,\n",
       "                                              random_state=None, verbose=0,\n",
       "                                              warm_start=False),\n",
       "             iid='deprecated', n_jobs=-1,\n",
       "             param_grid={'bootstrap': [True], 'max_depth': [8, 10, 12, 14],\n",
       "                         'max_features': ['sqrt'],\n",
       "                         'min_samples_leaf': [1, 3, 4],\n",
       "                         'min_samples_split': [7, 10, 12],\n",
       "                         'n_estimators': [250, 275, 300, 325]},\n",
       "             pre_dispatch='2*n_jobs', refit=True, return_train_score=False,\n",
       "             scoring=None, verbose=2)"
      ]
     },
     "execution_count": 77,
     "metadata": {},
     "output_type": "execute_result"
    }
   ],
   "source": [
    "from sklearn.model_selection import GridSearchCV\n",
    "\n",
    "param_grid = {\n",
    "    'bootstrap' : [True],\n",
    "    'max_depth' : [8, 10, 12, 14],\n",
    "    'max_features' : ['sqrt'],\n",
    "    'min_samples_leaf' : [1, 3, 4],\n",
    "    'min_samples_split' : [7, 10, 12],\n",
    "    'n_estimators' : [250, 275, 300, 325]\n",
    "    \n",
    "}\n",
    "\n",
    "rf = RandomForestClassifier()\n",
    "grid_search = GridSearchCV(estimator = rf, param_grid = param_grid, cv=5, n_jobs = -1, error_score=np.nan, verbose = 2)\n",
    "\n",
    "grid_search.fit(X_train, y_train)"
   ]
  },
  {
   "cell_type": "code",
   "execution_count": 78,
   "metadata": {},
   "outputs": [
    {
     "data": {
      "text/plain": [
       "{'bootstrap': True,\n",
       " 'max_depth': 12,\n",
       " 'max_features': 'sqrt',\n",
       " 'min_samples_leaf': 3,\n",
       " 'min_samples_split': 10,\n",
       " 'n_estimators': 275}"
      ]
     },
     "execution_count": 78,
     "metadata": {},
     "output_type": "execute_result"
    }
   ],
   "source": [
    "grid_search.best_params_\n"
   ]
  },
  {
   "cell_type": "code",
   "execution_count": 79,
   "metadata": {},
   "outputs": [],
   "source": [
    "from sklearn.ensemble import GradientBoostingClassifier\n",
    "model_grid = grid_search.best_estimator_\n",
    "model_grid.fit(X_train, y_train)\n",
    "predictions_grid = model_grid.predict(X_test)\n"
   ]
  },
  {
   "cell_type": "code",
   "execution_count": 81,
   "metadata": {},
   "outputs": [
    {
     "name": "stdout",
     "output_type": "stream",
     "text": [
      "              precision    recall  f1-score   support\n",
      "\n",
      "           0       0.87      0.82      0.85       130\n",
      "           1       0.77      0.83      0.80        92\n",
      "\n",
      "    accuracy                           0.82       222\n",
      "   macro avg       0.82      0.82      0.82       222\n",
      "weighted avg       0.83      0.82      0.83       222\n",
      "\n"
     ]
    }
   ],
   "source": [
    "print(classification_report(y_test, predictions_grid))\n"
   ]
  },
  {
   "cell_type": "code",
   "execution_count": null,
   "metadata": {},
   "outputs": [],
   "source": [
    "#Here RF is the best model with 82% accuracy"
   ]
  },
  {
   "cell_type": "code",
   "execution_count": 83,
   "metadata": {},
   "outputs": [
    {
     "data": {
      "text/plain": [
       "['Model_AbsenteeismPrediction.pkl']"
      ]
     },
     "execution_count": 83,
     "metadata": {},
     "output_type": "execute_result"
    }
   ],
   "source": [
    "#save the model\n",
    "\n",
    "from sklearn.externals import joblib\n",
    "\n",
    "joblib.dump(rf,'Model_AbsenteeismPrediction.pkl')"
   ]
  },
  {
   "cell_type": "code",
   "execution_count": null,
   "metadata": {},
   "outputs": [],
   "source": []
  }
 ],
 "metadata": {
  "kernelspec": {
   "display_name": "Python 3",
   "language": "python",
   "name": "python3"
  },
  "language_info": {
   "codemirror_mode": {
    "name": "ipython",
    "version": 3
   },
   "file_extension": ".py",
   "mimetype": "text/x-python",
   "name": "python",
   "nbconvert_exporter": "python",
   "pygments_lexer": "ipython3",
   "version": "3.7.6"
  }
 },
 "nbformat": 4,
 "nbformat_minor": 4
}
