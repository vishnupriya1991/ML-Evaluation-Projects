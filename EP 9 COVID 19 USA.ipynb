{
 "cells": [
  {
   "cell_type": "code",
   "execution_count": 60,
   "metadata": {},
   "outputs": [],
   "source": [
    "#Importing the required Libraries\n",
    "import pandas as pd\n",
    "import numpy as np\n",
    "import matplotlib.pyplot as plt\n",
    "import seaborn as sns\n",
    "from sklearn.model_selection import train_test_split\n",
    "from sklearn.preprocessing import StandardScaler\n",
    "from sklearn.linear_model import LinearRegression\n",
    "from sklearn.tree import DecisionTreeRegressor\n",
    "from sklearn.ensemble import RandomForestRegressor\n",
    "from sklearn.preprocessing import PolynomialFeatures\n",
    "from sklearn.neural_network import MLPRegressor\n",
    "\n",
    "import warnings\n",
    "warnings.filterwarnings('ignore')"
   ]
  },
  {
   "cell_type": "code",
   "execution_count": 2,
   "metadata": {},
   "outputs": [],
   "source": [
    "\n",
    "#Importing the dataset\n",
    "data = pd.read_csv('covid usa.csv')"
   ]
  },
  {
   "cell_type": "code",
   "execution_count": 3,
   "metadata": {},
   "outputs": [
    {
     "data": {
      "text/html": [
       "<div>\n",
       "<style scoped>\n",
       "    .dataframe tbody tr th:only-of-type {\n",
       "        vertical-align: middle;\n",
       "    }\n",
       "\n",
       "    .dataframe tbody tr th {\n",
       "        vertical-align: top;\n",
       "    }\n",
       "\n",
       "    .dataframe thead th {\n",
       "        text-align: right;\n",
       "    }\n",
       "</style>\n",
       "<table border=\"1\" class=\"dataframe\">\n",
       "  <thead>\n",
       "    <tr style=\"text-align: right;\">\n",
       "      <th></th>\n",
       "      <th>Province_State</th>\n",
       "      <th>Country_Region</th>\n",
       "      <th>Last_Update</th>\n",
       "      <th>Lat</th>\n",
       "      <th>Long_</th>\n",
       "      <th>Confirmed</th>\n",
       "      <th>Deaths</th>\n",
       "      <th>Recovered</th>\n",
       "      <th>Active</th>\n",
       "      <th>FIPS</th>\n",
       "      <th>Incident_Rate</th>\n",
       "      <th>People_Tested</th>\n",
       "      <th>People_Hospitalized</th>\n",
       "      <th>Mortality_Rate</th>\n",
       "      <th>UID</th>\n",
       "      <th>ISO3</th>\n",
       "      <th>Testing_Rate</th>\n",
       "      <th>Hospitalization_Rate</th>\n",
       "    </tr>\n",
       "  </thead>\n",
       "  <tbody>\n",
       "    <tr>\n",
       "      <th>0</th>\n",
       "      <td>Alabama</td>\n",
       "      <td>US</td>\n",
       "      <td>2020-05-21 02:32:54</td>\n",
       "      <td>32.3182</td>\n",
       "      <td>-86.9023</td>\n",
       "      <td>13052</td>\n",
       "      <td>522</td>\n",
       "      <td>NaN</td>\n",
       "      <td>12530.0</td>\n",
       "      <td>1</td>\n",
       "      <td>266.194321</td>\n",
       "      <td>164450.0</td>\n",
       "      <td>1493.0</td>\n",
       "      <td>3.999387</td>\n",
       "      <td>84000001</td>\n",
       "      <td>USA</td>\n",
       "      <td>3353.942386</td>\n",
       "      <td>11.438860</td>\n",
       "    </tr>\n",
       "    <tr>\n",
       "      <th>1</th>\n",
       "      <td>Alaska</td>\n",
       "      <td>US</td>\n",
       "      <td>2020-05-21 02:32:54</td>\n",
       "      <td>61.3707</td>\n",
       "      <td>-152.4044</td>\n",
       "      <td>401</td>\n",
       "      <td>10</td>\n",
       "      <td>352.0</td>\n",
       "      <td>39.0</td>\n",
       "      <td>2</td>\n",
       "      <td>54.815493</td>\n",
       "      <td>37045.0</td>\n",
       "      <td>NaN</td>\n",
       "      <td>2.493766</td>\n",
       "      <td>84000002</td>\n",
       "      <td>USA</td>\n",
       "      <td>5063.940017</td>\n",
       "      <td>NaN</td>\n",
       "    </tr>\n",
       "    <tr>\n",
       "      <th>2</th>\n",
       "      <td>American Samoa</td>\n",
       "      <td>US</td>\n",
       "      <td>2020-05-21 02:32:54</td>\n",
       "      <td>-14.2710</td>\n",
       "      <td>-170.1320</td>\n",
       "      <td>0</td>\n",
       "      <td>0</td>\n",
       "      <td>NaN</td>\n",
       "      <td>0.0</td>\n",
       "      <td>60</td>\n",
       "      <td>0.000000</td>\n",
       "      <td>124.0</td>\n",
       "      <td>NaN</td>\n",
       "      <td>NaN</td>\n",
       "      <td>16</td>\n",
       "      <td>ASM</td>\n",
       "      <td>222.857246</td>\n",
       "      <td>NaN</td>\n",
       "    </tr>\n",
       "    <tr>\n",
       "      <th>3</th>\n",
       "      <td>Arizona</td>\n",
       "      <td>US</td>\n",
       "      <td>2020-05-21 02:32:54</td>\n",
       "      <td>33.7298</td>\n",
       "      <td>-111.4312</td>\n",
       "      <td>14906</td>\n",
       "      <td>747</td>\n",
       "      <td>3773.0</td>\n",
       "      <td>10386.0</td>\n",
       "      <td>4</td>\n",
       "      <td>204.788838</td>\n",
       "      <td>165435.0</td>\n",
       "      <td>1792.0</td>\n",
       "      <td>5.011405</td>\n",
       "      <td>84000004</td>\n",
       "      <td>USA</td>\n",
       "      <td>2272.859351</td>\n",
       "      <td>12.022005</td>\n",
       "    </tr>\n",
       "    <tr>\n",
       "      <th>4</th>\n",
       "      <td>Arkansas</td>\n",
       "      <td>US</td>\n",
       "      <td>2020-05-21 02:32:54</td>\n",
       "      <td>34.9697</td>\n",
       "      <td>-92.3731</td>\n",
       "      <td>5003</td>\n",
       "      <td>107</td>\n",
       "      <td>3852.0</td>\n",
       "      <td>1044.0</td>\n",
       "      <td>5</td>\n",
       "      <td>165.782801</td>\n",
       "      <td>96258.0</td>\n",
       "      <td>535.0</td>\n",
       "      <td>2.138717</td>\n",
       "      <td>84000005</td>\n",
       "      <td>USA</td>\n",
       "      <td>3189.670370</td>\n",
       "      <td>10.693584</td>\n",
       "    </tr>\n",
       "    <tr>\n",
       "      <th>5</th>\n",
       "      <td>California</td>\n",
       "      <td>US</td>\n",
       "      <td>2020-05-21 02:32:54</td>\n",
       "      <td>36.1162</td>\n",
       "      <td>-119.6816</td>\n",
       "      <td>85997</td>\n",
       "      <td>3497</td>\n",
       "      <td>NaN</td>\n",
       "      <td>82500.0</td>\n",
       "      <td>6</td>\n",
       "      <td>217.646575</td>\n",
       "      <td>1380120.0</td>\n",
       "      <td>NaN</td>\n",
       "      <td>4.066421</td>\n",
       "      <td>84000006</td>\n",
       "      <td>USA</td>\n",
       "      <td>3492.893832</td>\n",
       "      <td>NaN</td>\n",
       "    </tr>\n",
       "    <tr>\n",
       "      <th>6</th>\n",
       "      <td>Colorado</td>\n",
       "      <td>US</td>\n",
       "      <td>2020-05-21 02:32:54</td>\n",
       "      <td>39.0598</td>\n",
       "      <td>-105.3111</td>\n",
       "      <td>22797</td>\n",
       "      <td>1299</td>\n",
       "      <td>3478.0</td>\n",
       "      <td>18020.0</td>\n",
       "      <td>8</td>\n",
       "      <td>395.868121</td>\n",
       "      <td>131837.0</td>\n",
       "      <td>3955.0</td>\n",
       "      <td>5.698118</td>\n",
       "      <td>84000008</td>\n",
       "      <td>USA</td>\n",
       "      <td>2289.339188</td>\n",
       "      <td>17.348774</td>\n",
       "    </tr>\n",
       "    <tr>\n",
       "      <th>7</th>\n",
       "      <td>Connecticut</td>\n",
       "      <td>US</td>\n",
       "      <td>2020-05-21 02:32:54</td>\n",
       "      <td>41.5978</td>\n",
       "      <td>-72.7554</td>\n",
       "      <td>39017</td>\n",
       "      <td>3529</td>\n",
       "      <td>6264.0</td>\n",
       "      <td>29224.0</td>\n",
       "      <td>9</td>\n",
       "      <td>1094.357902</td>\n",
       "      <td>190718.0</td>\n",
       "      <td>10946.0</td>\n",
       "      <td>9.044775</td>\n",
       "      <td>84000009</td>\n",
       "      <td>USA</td>\n",
       "      <td>5349.302875</td>\n",
       "      <td>28.054438</td>\n",
       "    </tr>\n",
       "    <tr>\n",
       "      <th>8</th>\n",
       "      <td>Delaware</td>\n",
       "      <td>US</td>\n",
       "      <td>2020-05-21 02:32:54</td>\n",
       "      <td>39.3185</td>\n",
       "      <td>-75.5071</td>\n",
       "      <td>8194</td>\n",
       "      <td>310</td>\n",
       "      <td>3965.0</td>\n",
       "      <td>3919.0</td>\n",
       "      <td>10</td>\n",
       "      <td>841.476990</td>\n",
       "      <td>45412.0</td>\n",
       "      <td>NaN</td>\n",
       "      <td>3.783256</td>\n",
       "      <td>84000010</td>\n",
       "      <td>USA</td>\n",
       "      <td>4663.552976</td>\n",
       "      <td>NaN</td>\n",
       "    </tr>\n",
       "    <tr>\n",
       "      <th>9</th>\n",
       "      <td>Diamond Princess</td>\n",
       "      <td>US</td>\n",
       "      <td>2020-05-21 02:32:54</td>\n",
       "      <td>NaN</td>\n",
       "      <td>NaN</td>\n",
       "      <td>49</td>\n",
       "      <td>0</td>\n",
       "      <td>NaN</td>\n",
       "      <td>49.0</td>\n",
       "      <td>88888</td>\n",
       "      <td>NaN</td>\n",
       "      <td>NaN</td>\n",
       "      <td>NaN</td>\n",
       "      <td>0.000000</td>\n",
       "      <td>84088888</td>\n",
       "      <td>USA</td>\n",
       "      <td>NaN</td>\n",
       "      <td>NaN</td>\n",
       "    </tr>\n",
       "  </tbody>\n",
       "</table>\n",
       "</div>"
      ],
      "text/plain": [
       "     Province_State Country_Region          Last_Update      Lat     Long_  \\\n",
       "0           Alabama             US  2020-05-21 02:32:54  32.3182  -86.9023   \n",
       "1            Alaska             US  2020-05-21 02:32:54  61.3707 -152.4044   \n",
       "2    American Samoa             US  2020-05-21 02:32:54 -14.2710 -170.1320   \n",
       "3           Arizona             US  2020-05-21 02:32:54  33.7298 -111.4312   \n",
       "4          Arkansas             US  2020-05-21 02:32:54  34.9697  -92.3731   \n",
       "5        California             US  2020-05-21 02:32:54  36.1162 -119.6816   \n",
       "6          Colorado             US  2020-05-21 02:32:54  39.0598 -105.3111   \n",
       "7       Connecticut             US  2020-05-21 02:32:54  41.5978  -72.7554   \n",
       "8          Delaware             US  2020-05-21 02:32:54  39.3185  -75.5071   \n",
       "9  Diamond Princess             US  2020-05-21 02:32:54      NaN       NaN   \n",
       "\n",
       "   Confirmed  Deaths  Recovered   Active   FIPS  Incident_Rate  People_Tested  \\\n",
       "0      13052     522        NaN  12530.0      1     266.194321       164450.0   \n",
       "1        401      10      352.0     39.0      2      54.815493        37045.0   \n",
       "2          0       0        NaN      0.0     60       0.000000          124.0   \n",
       "3      14906     747     3773.0  10386.0      4     204.788838       165435.0   \n",
       "4       5003     107     3852.0   1044.0      5     165.782801        96258.0   \n",
       "5      85997    3497        NaN  82500.0      6     217.646575      1380120.0   \n",
       "6      22797    1299     3478.0  18020.0      8     395.868121       131837.0   \n",
       "7      39017    3529     6264.0  29224.0      9    1094.357902       190718.0   \n",
       "8       8194     310     3965.0   3919.0     10     841.476990        45412.0   \n",
       "9         49       0        NaN     49.0  88888            NaN            NaN   \n",
       "\n",
       "   People_Hospitalized  Mortality_Rate       UID ISO3  Testing_Rate  \\\n",
       "0               1493.0        3.999387  84000001  USA   3353.942386   \n",
       "1                  NaN        2.493766  84000002  USA   5063.940017   \n",
       "2                  NaN             NaN        16  ASM    222.857246   \n",
       "3               1792.0        5.011405  84000004  USA   2272.859351   \n",
       "4                535.0        2.138717  84000005  USA   3189.670370   \n",
       "5                  NaN        4.066421  84000006  USA   3492.893832   \n",
       "6               3955.0        5.698118  84000008  USA   2289.339188   \n",
       "7              10946.0        9.044775  84000009  USA   5349.302875   \n",
       "8                  NaN        3.783256  84000010  USA   4663.552976   \n",
       "9                  NaN        0.000000  84088888  USA           NaN   \n",
       "\n",
       "   Hospitalization_Rate  \n",
       "0             11.438860  \n",
       "1                   NaN  \n",
       "2                   NaN  \n",
       "3             12.022005  \n",
       "4             10.693584  \n",
       "5                   NaN  \n",
       "6             17.348774  \n",
       "7             28.054438  \n",
       "8                   NaN  \n",
       "9                   NaN  "
      ]
     },
     "execution_count": 3,
     "metadata": {},
     "output_type": "execute_result"
    }
   ],
   "source": [
    "#Few useful displays of the data\n",
    "data.head(10)"
   ]
  },
  {
   "cell_type": "code",
   "execution_count": 4,
   "metadata": {},
   "outputs": [
    {
     "data": {
      "text/html": [
       "<div>\n",
       "<style scoped>\n",
       "    .dataframe tbody tr th:only-of-type {\n",
       "        vertical-align: middle;\n",
       "    }\n",
       "\n",
       "    .dataframe tbody tr th {\n",
       "        vertical-align: top;\n",
       "    }\n",
       "\n",
       "    .dataframe thead th {\n",
       "        text-align: right;\n",
       "    }\n",
       "</style>\n",
       "<table border=\"1\" class=\"dataframe\">\n",
       "  <thead>\n",
       "    <tr style=\"text-align: right;\">\n",
       "      <th></th>\n",
       "      <th>Province_State</th>\n",
       "      <th>Country_Region</th>\n",
       "      <th>Last_Update</th>\n",
       "      <th>Lat</th>\n",
       "      <th>Long_</th>\n",
       "      <th>Confirmed</th>\n",
       "      <th>Deaths</th>\n",
       "      <th>Recovered</th>\n",
       "      <th>Active</th>\n",
       "      <th>FIPS</th>\n",
       "      <th>Incident_Rate</th>\n",
       "      <th>People_Tested</th>\n",
       "      <th>People_Hospitalized</th>\n",
       "      <th>Mortality_Rate</th>\n",
       "      <th>UID</th>\n",
       "      <th>ISO3</th>\n",
       "      <th>Testing_Rate</th>\n",
       "      <th>Hospitalization_Rate</th>\n",
       "    </tr>\n",
       "  </thead>\n",
       "  <tbody>\n",
       "    <tr>\n",
       "      <th>48</th>\n",
       "      <td>Tennessee</td>\n",
       "      <td>US</td>\n",
       "      <td>2020-05-21 02:32:54</td>\n",
       "      <td>35.7478</td>\n",
       "      <td>-86.6923</td>\n",
       "      <td>18412</td>\n",
       "      <td>305</td>\n",
       "      <td>11783.0</td>\n",
       "      <td>6324.0</td>\n",
       "      <td>47</td>\n",
       "      <td>269.608008</td>\n",
       "      <td>354013.0</td>\n",
       "      <td>1515.0</td>\n",
       "      <td>1.656528</td>\n",
       "      <td>84000047</td>\n",
       "      <td>USA</td>\n",
       "      <td>5183.833360</td>\n",
       "      <td>8.228329</td>\n",
       "    </tr>\n",
       "    <tr>\n",
       "      <th>49</th>\n",
       "      <td>Texas</td>\n",
       "      <td>US</td>\n",
       "      <td>2020-05-21 02:32:54</td>\n",
       "      <td>31.0545</td>\n",
       "      <td>-97.5635</td>\n",
       "      <td>51673</td>\n",
       "      <td>1426</td>\n",
       "      <td>30341.0</td>\n",
       "      <td>19906.0</td>\n",
       "      <td>48</td>\n",
       "      <td>178.208070</td>\n",
       "      <td>770241.0</td>\n",
       "      <td>NaN</td>\n",
       "      <td>2.759662</td>\n",
       "      <td>84000048</td>\n",
       "      <td>USA</td>\n",
       "      <td>2656.380746</td>\n",
       "      <td>NaN</td>\n",
       "    </tr>\n",
       "    <tr>\n",
       "      <th>50</th>\n",
       "      <td>Utah</td>\n",
       "      <td>US</td>\n",
       "      <td>2020-05-21 02:32:54</td>\n",
       "      <td>40.1500</td>\n",
       "      <td>-111.8624</td>\n",
       "      <td>7710</td>\n",
       "      <td>90</td>\n",
       "      <td>4423.0</td>\n",
       "      <td>3197.0</td>\n",
       "      <td>49</td>\n",
       "      <td>240.489738</td>\n",
       "      <td>179664.0</td>\n",
       "      <td>631.0</td>\n",
       "      <td>1.167315</td>\n",
       "      <td>84000049</td>\n",
       "      <td>USA</td>\n",
       "      <td>5604.065930</td>\n",
       "      <td>8.184176</td>\n",
       "    </tr>\n",
       "    <tr>\n",
       "      <th>51</th>\n",
       "      <td>Vermont</td>\n",
       "      <td>US</td>\n",
       "      <td>2020-05-21 02:32:54</td>\n",
       "      <td>44.0459</td>\n",
       "      <td>-72.7107</td>\n",
       "      <td>944</td>\n",
       "      <td>54</td>\n",
       "      <td>824.0</td>\n",
       "      <td>66.0</td>\n",
       "      <td>50</td>\n",
       "      <td>151.284718</td>\n",
       "      <td>25058.0</td>\n",
       "      <td>NaN</td>\n",
       "      <td>5.720339</td>\n",
       "      <td>84000050</td>\n",
       "      <td>USA</td>\n",
       "      <td>4015.775919</td>\n",
       "      <td>NaN</td>\n",
       "    </tr>\n",
       "    <tr>\n",
       "      <th>52</th>\n",
       "      <td>Virgin Islands</td>\n",
       "      <td>US</td>\n",
       "      <td>2020-05-21 02:32:54</td>\n",
       "      <td>18.3358</td>\n",
       "      <td>-64.8963</td>\n",
       "      <td>69</td>\n",
       "      <td>6</td>\n",
       "      <td>61.0</td>\n",
       "      <td>2.0</td>\n",
       "      <td>78</td>\n",
       "      <td>64.324869</td>\n",
       "      <td>1383.0</td>\n",
       "      <td>NaN</td>\n",
       "      <td>8.695652</td>\n",
       "      <td>850</td>\n",
       "      <td>VIR</td>\n",
       "      <td>1289.294104</td>\n",
       "      <td>NaN</td>\n",
       "    </tr>\n",
       "    <tr>\n",
       "      <th>53</th>\n",
       "      <td>Virginia</td>\n",
       "      <td>US</td>\n",
       "      <td>2020-05-21 02:32:54</td>\n",
       "      <td>37.7693</td>\n",
       "      <td>-78.1700</td>\n",
       "      <td>32908</td>\n",
       "      <td>1075</td>\n",
       "      <td>4523.0</td>\n",
       "      <td>27310.0</td>\n",
       "      <td>51</td>\n",
       "      <td>385.541875</td>\n",
       "      <td>212626.0</td>\n",
       "      <td>6059.0</td>\n",
       "      <td>3.266683</td>\n",
       "      <td>84000051</td>\n",
       "      <td>USA</td>\n",
       "      <td>2491.072892</td>\n",
       "      <td>18.411936</td>\n",
       "    </tr>\n",
       "    <tr>\n",
       "      <th>54</th>\n",
       "      <td>Washington</td>\n",
       "      <td>US</td>\n",
       "      <td>2020-05-21 02:32:54</td>\n",
       "      <td>47.4009</td>\n",
       "      <td>-121.4905</td>\n",
       "      <td>18971</td>\n",
       "      <td>1037</td>\n",
       "      <td>NaN</td>\n",
       "      <td>17934.0</td>\n",
       "      <td>53</td>\n",
       "      <td>249.130224</td>\n",
       "      <td>293120.0</td>\n",
       "      <td>NaN</td>\n",
       "      <td>5.466238</td>\n",
       "      <td>84000053</td>\n",
       "      <td>USA</td>\n",
       "      <td>3849.298999</td>\n",
       "      <td>NaN</td>\n",
       "    </tr>\n",
       "    <tr>\n",
       "      <th>55</th>\n",
       "      <td>West Virginia</td>\n",
       "      <td>US</td>\n",
       "      <td>2020-05-21 02:32:54</td>\n",
       "      <td>38.4912</td>\n",
       "      <td>-80.9545</td>\n",
       "      <td>1567</td>\n",
       "      <td>69</td>\n",
       "      <td>950.0</td>\n",
       "      <td>548.0</td>\n",
       "      <td>54</td>\n",
       "      <td>87.437024</td>\n",
       "      <td>80641.0</td>\n",
       "      <td>NaN</td>\n",
       "      <td>4.403318</td>\n",
       "      <td>84000054</td>\n",
       "      <td>USA</td>\n",
       "      <td>4499.686689</td>\n",
       "      <td>NaN</td>\n",
       "    </tr>\n",
       "    <tr>\n",
       "      <th>56</th>\n",
       "      <td>Wisconsin</td>\n",
       "      <td>US</td>\n",
       "      <td>2020-05-21 02:32:54</td>\n",
       "      <td>44.2685</td>\n",
       "      <td>-89.6165</td>\n",
       "      <td>13413</td>\n",
       "      <td>481</td>\n",
       "      <td>7728.0</td>\n",
       "      <td>5204.0</td>\n",
       "      <td>55</td>\n",
       "      <td>230.367575</td>\n",
       "      <td>167713.0</td>\n",
       "      <td>2161.0</td>\n",
       "      <td>3.586073</td>\n",
       "      <td>84000055</td>\n",
       "      <td>USA</td>\n",
       "      <td>2880.462020</td>\n",
       "      <td>16.111235</td>\n",
       "    </tr>\n",
       "    <tr>\n",
       "      <th>57</th>\n",
       "      <td>Wyoming</td>\n",
       "      <td>US</td>\n",
       "      <td>2020-05-21 02:32:54</td>\n",
       "      <td>42.7560</td>\n",
       "      <td>-107.3025</td>\n",
       "      <td>787</td>\n",
       "      <td>11</td>\n",
       "      <td>528.0</td>\n",
       "      <td>248.0</td>\n",
       "      <td>56</td>\n",
       "      <td>135.980607</td>\n",
       "      <td>18840.0</td>\n",
       "      <td>74.0</td>\n",
       "      <td>1.397713</td>\n",
       "      <td>84000056</td>\n",
       "      <td>USA</td>\n",
       "      <td>3255.240955</td>\n",
       "      <td>9.402795</td>\n",
       "    </tr>\n",
       "  </tbody>\n",
       "</table>\n",
       "</div>"
      ],
      "text/plain": [
       "    Province_State Country_Region          Last_Update      Lat     Long_  \\\n",
       "48       Tennessee             US  2020-05-21 02:32:54  35.7478  -86.6923   \n",
       "49           Texas             US  2020-05-21 02:32:54  31.0545  -97.5635   \n",
       "50            Utah             US  2020-05-21 02:32:54  40.1500 -111.8624   \n",
       "51         Vermont             US  2020-05-21 02:32:54  44.0459  -72.7107   \n",
       "52  Virgin Islands             US  2020-05-21 02:32:54  18.3358  -64.8963   \n",
       "53        Virginia             US  2020-05-21 02:32:54  37.7693  -78.1700   \n",
       "54      Washington             US  2020-05-21 02:32:54  47.4009 -121.4905   \n",
       "55   West Virginia             US  2020-05-21 02:32:54  38.4912  -80.9545   \n",
       "56       Wisconsin             US  2020-05-21 02:32:54  44.2685  -89.6165   \n",
       "57         Wyoming             US  2020-05-21 02:32:54  42.7560 -107.3025   \n",
       "\n",
       "    Confirmed  Deaths  Recovered   Active  FIPS  Incident_Rate  People_Tested  \\\n",
       "48      18412     305    11783.0   6324.0    47     269.608008       354013.0   \n",
       "49      51673    1426    30341.0  19906.0    48     178.208070       770241.0   \n",
       "50       7710      90     4423.0   3197.0    49     240.489738       179664.0   \n",
       "51        944      54      824.0     66.0    50     151.284718        25058.0   \n",
       "52         69       6       61.0      2.0    78      64.324869         1383.0   \n",
       "53      32908    1075     4523.0  27310.0    51     385.541875       212626.0   \n",
       "54      18971    1037        NaN  17934.0    53     249.130224       293120.0   \n",
       "55       1567      69      950.0    548.0    54      87.437024        80641.0   \n",
       "56      13413     481     7728.0   5204.0    55     230.367575       167713.0   \n",
       "57        787      11      528.0    248.0    56     135.980607        18840.0   \n",
       "\n",
       "    People_Hospitalized  Mortality_Rate       UID ISO3  Testing_Rate  \\\n",
       "48               1515.0        1.656528  84000047  USA   5183.833360   \n",
       "49                  NaN        2.759662  84000048  USA   2656.380746   \n",
       "50                631.0        1.167315  84000049  USA   5604.065930   \n",
       "51                  NaN        5.720339  84000050  USA   4015.775919   \n",
       "52                  NaN        8.695652       850  VIR   1289.294104   \n",
       "53               6059.0        3.266683  84000051  USA   2491.072892   \n",
       "54                  NaN        5.466238  84000053  USA   3849.298999   \n",
       "55                  NaN        4.403318  84000054  USA   4499.686689   \n",
       "56               2161.0        3.586073  84000055  USA   2880.462020   \n",
       "57                 74.0        1.397713  84000056  USA   3255.240955   \n",
       "\n",
       "    Hospitalization_Rate  \n",
       "48              8.228329  \n",
       "49                   NaN  \n",
       "50              8.184176  \n",
       "51                   NaN  \n",
       "52                   NaN  \n",
       "53             18.411936  \n",
       "54                   NaN  \n",
       "55                   NaN  \n",
       "56             16.111235  \n",
       "57              9.402795  "
      ]
     },
     "execution_count": 4,
     "metadata": {},
     "output_type": "execute_result"
    }
   ],
   "source": [
    "data.tail(10)\n",
    "#the below shows the bottom entries of the dataset"
   ]
  },
  {
   "cell_type": "code",
   "execution_count": 5,
   "metadata": {},
   "outputs": [
    {
     "data": {
      "text/plain": [
       "(58, 18)"
      ]
     },
     "execution_count": 5,
     "metadata": {},
     "output_type": "execute_result"
    }
   ],
   "source": [
    "data.shape\n",
    "#shape function tells us that there are 58 rows and 18 columns"
   ]
  },
  {
   "cell_type": "code",
   "execution_count": 63,
   "metadata": {},
   "outputs": [
    {
     "data": {
      "text/plain": [
       "Province_State           object\n",
       "Last_Update              object\n",
       "Confirmed                 int64\n",
       "Deaths                    int64\n",
       "Recovered               float64\n",
       "Active                  float64\n",
       "FIPS                      int64\n",
       "Incident_Rate           float64\n",
       "People_Tested           float64\n",
       "People_Hospitalized     float64\n",
       "Mortality_Rate          float64\n",
       "Testing_Rate            float64\n",
       "Hospitalization_Rate    float64\n",
       "dtype: object"
      ]
     },
     "execution_count": 63,
     "metadata": {},
     "output_type": "execute_result"
    }
   ],
   "source": [
    "data.dtypes\n",
    "#it shows the datatypes of the variables"
   ]
  },
  {
   "cell_type": "code",
   "execution_count": 64,
   "metadata": {},
   "outputs": [
    {
     "name": "stdout",
     "output_type": "stream",
     "text": [
      "<class 'pandas.core.frame.DataFrame'>\n",
      "Int64Index: 53 entries, 0 to 57\n",
      "Data columns (total 13 columns):\n",
      " #   Column                Non-Null Count  Dtype  \n",
      "---  ------                --------------  -----  \n",
      " 0   Province_State        53 non-null     object \n",
      " 1   Last_Update           53 non-null     object \n",
      " 2   Confirmed             53 non-null     int64  \n",
      " 3   Deaths                53 non-null     int64  \n",
      " 4   Recovered             39 non-null     float64\n",
      " 5   Active                53 non-null     float64\n",
      " 6   FIPS                  53 non-null     int64  \n",
      " 7   Incident_Rate         51 non-null     float64\n",
      " 8   People_Tested         51 non-null     float64\n",
      " 9   People_Hospitalized   33 non-null     float64\n",
      " 10  Mortality_Rate        53 non-null     float64\n",
      " 11  Testing_Rate          51 non-null     float64\n",
      " 12  Hospitalization_Rate  33 non-null     float64\n",
      "dtypes: float64(8), int64(3), object(2)\n",
      "memory usage: 5.8+ KB\n"
     ]
    }
   ],
   "source": [
    "data.info()\n",
    "#it is a concise summary of the dataframe; it shows us the datatypes, and number of non null values \n",
    "#here it shows that there are 8 float, 3 integer, and 2 object/string values"
   ]
  },
  {
   "cell_type": "code",
   "execution_count": 6,
   "metadata": {},
   "outputs": [
    {
     "data": {
      "text/html": [
       "<div>\n",
       "<style scoped>\n",
       "    .dataframe tbody tr th:only-of-type {\n",
       "        vertical-align: middle;\n",
       "    }\n",
       "\n",
       "    .dataframe tbody tr th {\n",
       "        vertical-align: top;\n",
       "    }\n",
       "\n",
       "    .dataframe thead th {\n",
       "        text-align: right;\n",
       "    }\n",
       "</style>\n",
       "<table border=\"1\" class=\"dataframe\">\n",
       "  <thead>\n",
       "    <tr style=\"text-align: right;\">\n",
       "      <th></th>\n",
       "      <th>Lat</th>\n",
       "      <th>Long_</th>\n",
       "      <th>Confirmed</th>\n",
       "      <th>Deaths</th>\n",
       "      <th>Recovered</th>\n",
       "      <th>Active</th>\n",
       "      <th>FIPS</th>\n",
       "      <th>Incident_Rate</th>\n",
       "      <th>People_Tested</th>\n",
       "      <th>People_Hospitalized</th>\n",
       "      <th>Mortality_Rate</th>\n",
       "      <th>UID</th>\n",
       "      <th>Testing_Rate</th>\n",
       "      <th>Hospitalization_Rate</th>\n",
       "    </tr>\n",
       "  </thead>\n",
       "  <tbody>\n",
       "    <tr>\n",
       "      <th>count</th>\n",
       "      <td>56.000000</td>\n",
       "      <td>56.000000</td>\n",
       "      <td>58.000000</td>\n",
       "      <td>58.000000</td>\n",
       "      <td>42.000000</td>\n",
       "      <td>58.000000</td>\n",
       "      <td>58.000000</td>\n",
       "      <td>56.000000</td>\n",
       "      <td>5.600000e+01</td>\n",
       "      <td>33.000000</td>\n",
       "      <td>57.000000</td>\n",
       "      <td>5.800000e+01</td>\n",
       "      <td>56.000000</td>\n",
       "      <td>33.000000</td>\n",
       "    </tr>\n",
       "    <tr>\n",
       "      <th>mean</th>\n",
       "      <td>36.840089</td>\n",
       "      <td>-85.206614</td>\n",
       "      <td>26756.086207</td>\n",
       "      <td>1611.017241</td>\n",
       "      <td>7007.428571</td>\n",
       "      <td>20070.724138</td>\n",
       "      <td>3288.086207</td>\n",
       "      <td>396.230806</td>\n",
       "      <td>2.258534e+05</td>\n",
       "      <td>4897.454545</td>\n",
       "      <td>4.458248</td>\n",
       "      <td>7.676194e+07</td>\n",
       "      <td>3894.186870</td>\n",
       "      <td>14.342541</td>\n",
       "    </tr>\n",
       "    <tr>\n",
       "      <th>std</th>\n",
       "      <td>10.887035</td>\n",
       "      <td>49.754449</td>\n",
       "      <td>52562.031122</td>\n",
       "      <td>4084.750891</td>\n",
       "      <td>11674.490020</td>\n",
       "      <td>41294.705318</td>\n",
       "      <td>17408.350591</td>\n",
       "      <td>402.682539</td>\n",
       "      <td>2.987834e+05</td>\n",
       "      <td>13185.628145</td>\n",
       "      <td>2.135002</td>\n",
       "      <td>2.378302e+07</td>\n",
       "      <td>1933.169297</td>\n",
       "      <td>5.047403</td>\n",
       "    </tr>\n",
       "    <tr>\n",
       "      <th>min</th>\n",
       "      <td>-14.271000</td>\n",
       "      <td>-170.132000</td>\n",
       "      <td>0.000000</td>\n",
       "      <td>0.000000</td>\n",
       "      <td>13.000000</td>\n",
       "      <td>0.000000</td>\n",
       "      <td>1.000000</td>\n",
       "      <td>0.000000</td>\n",
       "      <td>1.240000e+02</td>\n",
       "      <td>65.000000</td>\n",
       "      <td>0.000000</td>\n",
       "      <td>1.600000e+01</td>\n",
       "      <td>97.702058</td>\n",
       "      <td>6.778043</td>\n",
       "    </tr>\n",
       "    <tr>\n",
       "      <th>25%</th>\n",
       "      <td>34.594600</td>\n",
       "      <td>-101.165775</td>\n",
       "      <td>2596.000000</td>\n",
       "      <td>74.000000</td>\n",
       "      <td>970.000000</td>\n",
       "      <td>812.500000</td>\n",
       "      <td>18.250000</td>\n",
       "      <td>148.521021</td>\n",
       "      <td>4.608100e+04</td>\n",
       "      <td>535.000000</td>\n",
       "      <td>3.072626</td>\n",
       "      <td>8.400001e+07</td>\n",
       "      <td>2712.800274</td>\n",
       "      <td>10.000000</td>\n",
       "    </tr>\n",
       "    <tr>\n",
       "      <th>50%</th>\n",
       "      <td>39.061850</td>\n",
       "      <td>-87.944200</td>\n",
       "      <td>10148.500000</td>\n",
       "      <td>385.000000</td>\n",
       "      <td>3008.000000</td>\n",
       "      <td>5644.500000</td>\n",
       "      <td>32.500000</td>\n",
       "      <td>250.477287</td>\n",
       "      <td>1.386545e+05</td>\n",
       "      <td>1493.000000</td>\n",
       "      <td>4.403318</td>\n",
       "      <td>8.400003e+07</td>\n",
       "      <td>3469.782532</td>\n",
       "      <td>13.598326</td>\n",
       "    </tr>\n",
       "    <tr>\n",
       "      <th>75%</th>\n",
       "      <td>42.361650</td>\n",
       "      <td>-76.970625</td>\n",
       "      <td>29395.500000</td>\n",
       "      <td>1394.250000</td>\n",
       "      <td>7326.750000</td>\n",
       "      <td>19291.250000</td>\n",
       "      <td>47.750000</td>\n",
       "      <td>477.888542</td>\n",
       "      <td>2.796948e+05</td>\n",
       "      <td>4389.000000</td>\n",
       "      <td>5.466238</td>\n",
       "      <td>8.400004e+07</td>\n",
       "      <td>4763.649736</td>\n",
       "      <td>17.658649</td>\n",
       "    </tr>\n",
       "    <tr>\n",
       "      <th>max</th>\n",
       "      <td>61.370700</td>\n",
       "      <td>145.673900</td>\n",
       "      <td>354370.000000</td>\n",
       "      <td>28636.000000</td>\n",
       "      <td>61886.000000</td>\n",
       "      <td>263848.000000</td>\n",
       "      <td>99999.000000</td>\n",
       "      <td>1821.620216</td>\n",
       "      <td>1.505836e+06</td>\n",
       "      <td>76410.000000</td>\n",
       "      <td>9.545549</td>\n",
       "      <td>8.410000e+07</td>\n",
       "      <td>11377.424693</td>\n",
       "      <td>28.054438</td>\n",
       "    </tr>\n",
       "  </tbody>\n",
       "</table>\n",
       "</div>"
      ],
      "text/plain": [
       "             Lat       Long_      Confirmed        Deaths     Recovered  \\\n",
       "count  56.000000   56.000000      58.000000     58.000000     42.000000   \n",
       "mean   36.840089  -85.206614   26756.086207   1611.017241   7007.428571   \n",
       "std    10.887035   49.754449   52562.031122   4084.750891  11674.490020   \n",
       "min   -14.271000 -170.132000       0.000000      0.000000     13.000000   \n",
       "25%    34.594600 -101.165775    2596.000000     74.000000    970.000000   \n",
       "50%    39.061850  -87.944200   10148.500000    385.000000   3008.000000   \n",
       "75%    42.361650  -76.970625   29395.500000   1394.250000   7326.750000   \n",
       "max    61.370700  145.673900  354370.000000  28636.000000  61886.000000   \n",
       "\n",
       "              Active          FIPS  Incident_Rate  People_Tested  \\\n",
       "count      58.000000     58.000000      56.000000   5.600000e+01   \n",
       "mean    20070.724138   3288.086207     396.230806   2.258534e+05   \n",
       "std     41294.705318  17408.350591     402.682539   2.987834e+05   \n",
       "min         0.000000      1.000000       0.000000   1.240000e+02   \n",
       "25%       812.500000     18.250000     148.521021   4.608100e+04   \n",
       "50%      5644.500000     32.500000     250.477287   1.386545e+05   \n",
       "75%     19291.250000     47.750000     477.888542   2.796948e+05   \n",
       "max    263848.000000  99999.000000    1821.620216   1.505836e+06   \n",
       "\n",
       "       People_Hospitalized  Mortality_Rate           UID  Testing_Rate  \\\n",
       "count            33.000000       57.000000  5.800000e+01     56.000000   \n",
       "mean           4897.454545        4.458248  7.676194e+07   3894.186870   \n",
       "std           13185.628145        2.135002  2.378302e+07   1933.169297   \n",
       "min              65.000000        0.000000  1.600000e+01     97.702058   \n",
       "25%             535.000000        3.072626  8.400001e+07   2712.800274   \n",
       "50%            1493.000000        4.403318  8.400003e+07   3469.782532   \n",
       "75%            4389.000000        5.466238  8.400004e+07   4763.649736   \n",
       "max           76410.000000        9.545549  8.410000e+07  11377.424693   \n",
       "\n",
       "       Hospitalization_Rate  \n",
       "count             33.000000  \n",
       "mean              14.342541  \n",
       "std                5.047403  \n",
       "min                6.778043  \n",
       "25%               10.000000  \n",
       "50%               13.598326  \n",
       "75%               17.658649  \n",
       "max               28.054438  "
      ]
     },
     "execution_count": 6,
     "metadata": {},
     "output_type": "execute_result"
    }
   ],
   "source": [
    "\n",
    "#Calculating the mean,std,min and max for the coloumns of the data\n",
    "data.describe()"
   ]
  },
  {
   "cell_type": "markdown",
   "metadata": {},
   "source": [
    "#From the above statistical table we can understand: We can see that for each column we have the following functions\n",
    "\n",
    "count- Number of non-null observations here all the columns contain  56 entries.\n",
    "\n",
    "mean- Mean of Values here mean of each column is found ie, mean of Lat column= 36.8400, Active is 20070.724138 etc\n",
    "\n",
    "std- Standard Deviation of the Values here stnadard deviation for Lat is 10.887035, Active is 41294.705318 etc\n",
    "\n",
    "min- Minimum value here it shows the min value Lat is 14.271000 , for Active is 0 etc\n",
    "\n",
    "max- Maximum value it shows the max value for Lat as 61.370700 , for Active is 263848 etc\n",
    "\n",
    "25%, 50%, and 75% - IQR values it shows percentile values at 25%,50% and 75% ; for Lat it is 34.594600, 39.061850 and 42.361650 respectively"
   ]
  },
  {
   "cell_type": "code",
   "execution_count": 7,
   "metadata": {},
   "outputs": [],
   "source": [
    "\n",
    "#Some of the data is of countries other than US in this cell, we are cleaning the data to get rid of any rows for which the country is not USA.\n",
    "data['ISO3'].value_counts()\n",
    "data.drop(data[data['ISO3'] != 'USA'].index, inplace = True)"
   ]
  },
  {
   "cell_type": "code",
   "execution_count": 8,
   "metadata": {},
   "outputs": [
    {
     "data": {
      "text/plain": [
       "USA    53\n",
       "Name: ISO3, dtype: int64"
      ]
     },
     "execution_count": 8,
     "metadata": {},
     "output_type": "execute_result"
    }
   ],
   "source": [
    "data['ISO3'].value_counts()"
   ]
  },
  {
   "cell_type": "code",
   "execution_count": 9,
   "metadata": {},
   "outputs": [
    {
     "data": {
      "text/html": [
       "<div>\n",
       "<style scoped>\n",
       "    .dataframe tbody tr th:only-of-type {\n",
       "        vertical-align: middle;\n",
       "    }\n",
       "\n",
       "    .dataframe tbody tr th {\n",
       "        vertical-align: top;\n",
       "    }\n",
       "\n",
       "    .dataframe thead th {\n",
       "        text-align: right;\n",
       "    }\n",
       "</style>\n",
       "<table border=\"1\" class=\"dataframe\">\n",
       "  <thead>\n",
       "    <tr style=\"text-align: right;\">\n",
       "      <th></th>\n",
       "      <th>Lat</th>\n",
       "      <th>Long_</th>\n",
       "      <th>Confirmed</th>\n",
       "      <th>Deaths</th>\n",
       "      <th>Recovered</th>\n",
       "      <th>Active</th>\n",
       "      <th>FIPS</th>\n",
       "      <th>Incident_Rate</th>\n",
       "      <th>People_Tested</th>\n",
       "      <th>People_Hospitalized</th>\n",
       "      <th>Mortality_Rate</th>\n",
       "      <th>UID</th>\n",
       "      <th>Testing_Rate</th>\n",
       "      <th>Hospitalization_Rate</th>\n",
       "    </tr>\n",
       "  </thead>\n",
       "  <tbody>\n",
       "    <tr>\n",
       "      <th>count</th>\n",
       "      <td>51.000000</td>\n",
       "      <td>51.000000</td>\n",
       "      <td>53.000000</td>\n",
       "      <td>53.000000</td>\n",
       "      <td>39.000000</td>\n",
       "      <td>53.000000</td>\n",
       "      <td>53.000000</td>\n",
       "      <td>51.000000</td>\n",
       "      <td>5.100000e+01</td>\n",
       "      <td>33.000000</td>\n",
       "      <td>53.000000</td>\n",
       "      <td>5.300000e+01</td>\n",
       "      <td>51.000000</td>\n",
       "      <td>33.000000</td>\n",
       "    </tr>\n",
       "    <tr>\n",
       "      <th>mean</th>\n",
       "      <td>39.455239</td>\n",
       "      <td>-93.341561</td>\n",
       "      <td>29221.566038</td>\n",
       "      <td>1760.396226</td>\n",
       "      <td>7541.358974</td>\n",
       "      <td>21911.867925</td>\n",
       "      <td>3591.773585</td>\n",
       "      <td>429.314599</td>\n",
       "      <td>2.477378e+05</td>\n",
       "      <td>4897.454545</td>\n",
       "      <td>4.307405</td>\n",
       "      <td>8.400359e+07</td>\n",
       "      <td>4049.318708</td>\n",
       "      <td>14.342541</td>\n",
       "    </tr>\n",
       "    <tr>\n",
       "      <th>std</th>\n",
       "      <td>6.080640</td>\n",
       "      <td>19.287499</td>\n",
       "      <td>54373.052488</td>\n",
       "      <td>4245.643112</td>\n",
       "      <td>11956.479742</td>\n",
       "      <td>42767.118013</td>\n",
       "      <td>18196.146817</td>\n",
       "      <td>407.101318</td>\n",
       "      <td>3.045112e+05</td>\n",
       "      <td>13185.628145</td>\n",
       "      <td>2.004622</td>\n",
       "      <td>1.819615e+04</td>\n",
       "      <td>1787.288558</td>\n",
       "      <td>5.047403</td>\n",
       "    </tr>\n",
       "    <tr>\n",
       "      <th>min</th>\n",
       "      <td>21.094300</td>\n",
       "      <td>-157.498300</td>\n",
       "      <td>49.000000</td>\n",
       "      <td>0.000000</td>\n",
       "      <td>336.000000</td>\n",
       "      <td>22.000000</td>\n",
       "      <td>1.000000</td>\n",
       "      <td>44.723974</td>\n",
       "      <td>1.884000e+04</td>\n",
       "      <td>65.000000</td>\n",
       "      <td>0.000000</td>\n",
       "      <td>8.400000e+07</td>\n",
       "      <td>2158.119598</td>\n",
       "      <td>6.778043</td>\n",
       "    </tr>\n",
       "    <tr>\n",
       "      <th>25%</th>\n",
       "      <td>35.688950</td>\n",
       "      <td>-102.547550</td>\n",
       "      <td>4177.000000</td>\n",
       "      <td>107.000000</td>\n",
       "      <td>1079.500000</td>\n",
       "      <td>1108.000000</td>\n",
       "      <td>17.000000</td>\n",
       "      <td>180.505084</td>\n",
       "      <td>7.166900e+04</td>\n",
       "      <td>535.000000</td>\n",
       "      <td>2.912621</td>\n",
       "      <td>8.400002e+07</td>\n",
       "      <td>2776.930492</td>\n",
       "      <td>10.000000</td>\n",
       "    </tr>\n",
       "    <tr>\n",
       "      <th>50%</th>\n",
       "      <td>39.849400</td>\n",
       "      <td>-89.616500</td>\n",
       "      <td>11967.000000</td>\n",
       "      <td>407.000000</td>\n",
       "      <td>3478.000000</td>\n",
       "      <td>6459.000000</td>\n",
       "      <td>30.000000</td>\n",
       "      <td>269.608008</td>\n",
       "      <td>1.539860e+05</td>\n",
       "      <td>1493.000000</td>\n",
       "      <td>4.403318</td>\n",
       "      <td>8.400003e+07</td>\n",
       "      <td>3510.159838</td>\n",
       "      <td>13.598326</td>\n",
       "    </tr>\n",
       "    <tr>\n",
       "      <th>75%</th>\n",
       "      <td>43.041300</td>\n",
       "      <td>-78.988200</td>\n",
       "      <td>32908.000000</td>\n",
       "      <td>1697.000000</td>\n",
       "      <td>7704.500000</td>\n",
       "      <td>19906.000000</td>\n",
       "      <td>44.000000</td>\n",
       "      <td>512.931897</td>\n",
       "      <td>2.877490e+05</td>\n",
       "      <td>4389.000000</td>\n",
       "      <td>5.404917</td>\n",
       "      <td>8.400004e+07</td>\n",
       "      <td>4863.746497</td>\n",
       "      <td>17.658649</td>\n",
       "    </tr>\n",
       "    <tr>\n",
       "      <th>max</th>\n",
       "      <td>61.370700</td>\n",
       "      <td>-69.381900</td>\n",
       "      <td>354370.000000</td>\n",
       "      <td>28636.000000</td>\n",
       "      <td>61886.000000</td>\n",
       "      <td>263848.000000</td>\n",
       "      <td>99999.000000</td>\n",
       "      <td>1821.620216</td>\n",
       "      <td>1.505836e+06</td>\n",
       "      <td>76410.000000</td>\n",
       "      <td>9.545549</td>\n",
       "      <td>8.410000e+07</td>\n",
       "      <td>11377.424693</td>\n",
       "      <td>28.054438</td>\n",
       "    </tr>\n",
       "  </tbody>\n",
       "</table>\n",
       "</div>"
      ],
      "text/plain": [
       "             Lat       Long_      Confirmed        Deaths     Recovered  \\\n",
       "count  51.000000   51.000000      53.000000     53.000000     39.000000   \n",
       "mean   39.455239  -93.341561   29221.566038   1760.396226   7541.358974   \n",
       "std     6.080640   19.287499   54373.052488   4245.643112  11956.479742   \n",
       "min    21.094300 -157.498300      49.000000      0.000000    336.000000   \n",
       "25%    35.688950 -102.547550    4177.000000    107.000000   1079.500000   \n",
       "50%    39.849400  -89.616500   11967.000000    407.000000   3478.000000   \n",
       "75%    43.041300  -78.988200   32908.000000   1697.000000   7704.500000   \n",
       "max    61.370700  -69.381900  354370.000000  28636.000000  61886.000000   \n",
       "\n",
       "              Active          FIPS  Incident_Rate  People_Tested  \\\n",
       "count      53.000000     53.000000      51.000000   5.100000e+01   \n",
       "mean    21911.867925   3591.773585     429.314599   2.477378e+05   \n",
       "std     42767.118013  18196.146817     407.101318   3.045112e+05   \n",
       "min        22.000000      1.000000      44.723974   1.884000e+04   \n",
       "25%      1108.000000     17.000000     180.505084   7.166900e+04   \n",
       "50%      6459.000000     30.000000     269.608008   1.539860e+05   \n",
       "75%     19906.000000     44.000000     512.931897   2.877490e+05   \n",
       "max    263848.000000  99999.000000    1821.620216   1.505836e+06   \n",
       "\n",
       "       People_Hospitalized  Mortality_Rate           UID  Testing_Rate  \\\n",
       "count            33.000000       53.000000  5.300000e+01     51.000000   \n",
       "mean           4897.454545        4.307405  8.400359e+07   4049.318708   \n",
       "std           13185.628145        2.004622  1.819615e+04   1787.288558   \n",
       "min              65.000000        0.000000  8.400000e+07   2158.119598   \n",
       "25%             535.000000        2.912621  8.400002e+07   2776.930492   \n",
       "50%            1493.000000        4.403318  8.400003e+07   3510.159838   \n",
       "75%            4389.000000        5.404917  8.400004e+07   4863.746497   \n",
       "max           76410.000000        9.545549  8.410000e+07  11377.424693   \n",
       "\n",
       "       Hospitalization_Rate  \n",
       "count             33.000000  \n",
       "mean              14.342541  \n",
       "std                5.047403  \n",
       "min                6.778043  \n",
       "25%               10.000000  \n",
       "50%               13.598326  \n",
       "75%               17.658649  \n",
       "max               28.054438  "
      ]
     },
     "execution_count": 9,
     "metadata": {},
     "output_type": "execute_result"
    }
   ],
   "source": [
    "#Calculating statistics for the cleaned dataset\n",
    "data.describe()"
   ]
  },
  {
   "cell_type": "code",
   "execution_count": 10,
   "metadata": {},
   "outputs": [
    {
     "data": {
      "text/plain": [
       "South Dakota            1\n",
       "Oregon                  1\n",
       "New Jersey              1\n",
       "Diamond Princess        1\n",
       "South Carolina          1\n",
       "Alaska                  1\n",
       "Louisiana               1\n",
       "Arizona                 1\n",
       "West Virginia           1\n",
       "Tennessee               1\n",
       "Oklahoma                1\n",
       "Missouri                1\n",
       "Grand Princess          1\n",
       "Indiana                 1\n",
       "Montana                 1\n",
       "Wisconsin               1\n",
       "New Mexico              1\n",
       "Arkansas                1\n",
       "Washington              1\n",
       "Idaho                   1\n",
       "New Hampshire           1\n",
       "Connecticut             1\n",
       "Illinois                1\n",
       "Massachusetts           1\n",
       "Kansas                  1\n",
       "Georgia                 1\n",
       "Iowa                    1\n",
       "Utah                    1\n",
       "Delaware                1\n",
       "New York                1\n",
       "Texas                   1\n",
       "Ohio                    1\n",
       "Nevada                  1\n",
       "Vermont                 1\n",
       "North Dakota            1\n",
       "Alabama                 1\n",
       "Florida                 1\n",
       "Kentucky                1\n",
       "Maryland                1\n",
       "Mississippi             1\n",
       "Wyoming                 1\n",
       "Virginia                1\n",
       "Colorado                1\n",
       "Hawaii                  1\n",
       "Pennsylvania            1\n",
       "District of Columbia    1\n",
       "Nebraska                1\n",
       "Rhode Island            1\n",
       "Maine                   1\n",
       "Michigan                1\n",
       "North Carolina          1\n",
       "Minnesota               1\n",
       "California              1\n",
       "Name: Province_State, dtype: int64"
      ]
     },
     "execution_count": 10,
     "metadata": {},
     "output_type": "execute_result"
    }
   ],
   "source": [
    "data['Province_State'].value_counts()\n",
    "#count the states"
   ]
  },
  {
   "cell_type": "code",
   "execution_count": 11,
   "metadata": {},
   "outputs": [
    {
     "data": {
      "text/plain": [
       "US    53\n",
       "Name: Country_Region, dtype: int64"
      ]
     },
     "execution_count": 11,
     "metadata": {},
     "output_type": "execute_result"
    }
   ],
   "source": [
    "data['Country_Region'].value_counts()\n",
    "count the regions in US"
   ]
  },
  {
   "cell_type": "code",
   "execution_count": 12,
   "metadata": {},
   "outputs": [
    {
     "data": {
      "text/plain": [
       "Province_State          0\n",
       "Country_Region          0\n",
       "Last_Update             0\n",
       "Lat                     0\n",
       "Long_                   0\n",
       "Confirmed               0\n",
       "Deaths                  0\n",
       "Recovered               0\n",
       "Active                  0\n",
       "FIPS                    0\n",
       "Incident_Rate           0\n",
       "People_Tested           0\n",
       "People_Hospitalized     0\n",
       "Mortality_Rate          0\n",
       "UID                     0\n",
       "ISO3                    0\n",
       "Testing_Rate            0\n",
       "Hospitalization_Rate    0\n",
       "dtype: int64"
      ]
     },
     "execution_count": 12,
     "metadata": {},
     "output_type": "execute_result"
    }
   ],
   "source": [
    "#As we can see there are no missing values\n",
    "data.isin(['?']).sum(axis=0)"
   ]
  },
  {
   "cell_type": "code",
   "execution_count": 76,
   "metadata": {},
   "outputs": [
    {
     "data": {
      "text/plain": [
       "Province_State           0\n",
       "Last_Update              0\n",
       "Confirmed                0\n",
       "Deaths                   0\n",
       "Recovered               14\n",
       "Active                   0\n",
       "FIPS                     0\n",
       "Incident_Rate            2\n",
       "People_Tested            2\n",
       "People_Hospitalized     20\n",
       "Mortality_Rate           0\n",
       "Testing_Rate             2\n",
       "Hospitalization_Rate    20\n",
       "dtype: int64"
      ]
     },
     "execution_count": 76,
     "metadata": {},
     "output_type": "execute_result"
    }
   ],
   "source": [
    "data.isnull().sum()"
   ]
  },
  {
   "cell_type": "code",
   "execution_count": 77,
   "metadata": {},
   "outputs": [
    {
     "data": {
      "text/plain": [
       "<matplotlib.axes._subplots.AxesSubplot at 0x1f41c33a448>"
      ]
     },
     "execution_count": 77,
     "metadata": {},
     "output_type": "execute_result"
    },
    {
     "data": {
      "image/png": "[encoded data removed]",
      "text/plain": [
       "<Figure size 432x288 with 2 Axes>"
      ]
     },
     "metadata": {
      "needs_background": "light"
     },
     "output_type": "display_data"
    }
   ],
   "source": [
    "sns.heatmap(data.isnull())"
   ]
  },
  {
   "cell_type": "code",
   "execution_count": 86,
   "metadata": {},
   "outputs": [],
   "source": [
    "#lets fill the null values using for loop\n",
    "for col in ['Recovered','People_Hospitalized','Hospitalization_Rate','People_Tested','Testing_Rate','Incident_Rate']:\n",
    "    data[col].fillna(data[col].mode()[0], inplace=True)"
   ]
  },
  {
   "cell_type": "code",
   "execution_count": 87,
   "metadata": {},
   "outputs": [
    {
     "data": {
      "text/plain": [
       "Province_State          0\n",
       "Last_Update             0\n",
       "Confirmed               0\n",
       "Deaths                  0\n",
       "Recovered               0\n",
       "Active                  0\n",
       "FIPS                    0\n",
       "Incident_Rate           0\n",
       "People_Tested           0\n",
       "People_Hospitalized     0\n",
       "Mortality_Rate          0\n",
       "Testing_Rate            0\n",
       "Hospitalization_Rate    0\n",
       "dtype: int64"
      ]
     },
     "execution_count": 87,
     "metadata": {},
     "output_type": "execute_result"
    }
   ],
   "source": [
    "data.isnull().sum()"
   ]
  },
  {
   "cell_type": "code",
   "execution_count": 88,
   "metadata": {},
   "outputs": [
    {
     "data": {
      "text/html": [
       "<div>\n",
       "<style scoped>\n",
       "    .dataframe tbody tr th:only-of-type {\n",
       "        vertical-align: middle;\n",
       "    }\n",
       "\n",
       "    .dataframe tbody tr th {\n",
       "        vertical-align: top;\n",
       "    }\n",
       "\n",
       "    .dataframe thead th {\n",
       "        text-align: right;\n",
       "    }\n",
       "</style>\n",
       "<table border=\"1\" class=\"dataframe\">\n",
       "  <thead>\n",
       "    <tr style=\"text-align: right;\">\n",
       "      <th></th>\n",
       "      <th>Province_State</th>\n",
       "      <th>Last_Update</th>\n",
       "      <th>Confirmed</th>\n",
       "      <th>Deaths</th>\n",
       "      <th>Recovered</th>\n",
       "      <th>Active</th>\n",
       "      <th>FIPS</th>\n",
       "      <th>Incident_Rate</th>\n",
       "      <th>People_Tested</th>\n",
       "      <th>People_Hospitalized</th>\n",
       "      <th>Mortality_Rate</th>\n",
       "      <th>Testing_Rate</th>\n",
       "      <th>Hospitalization_Rate</th>\n",
       "    </tr>\n",
       "  </thead>\n",
       "  <tbody>\n",
       "    <tr>\n",
       "      <th>0</th>\n",
       "      <td>Alabama</td>\n",
       "      <td>2020-05-21 02:32:54</td>\n",
       "      <td>13052</td>\n",
       "      <td>522</td>\n",
       "      <td>336.0</td>\n",
       "      <td>12530.0</td>\n",
       "      <td>1</td>\n",
       "      <td>266.194321</td>\n",
       "      <td>164450.0</td>\n",
       "      <td>1493.0</td>\n",
       "      <td>3.999387</td>\n",
       "      <td>3353.942386</td>\n",
       "      <td>11.438860</td>\n",
       "    </tr>\n",
       "    <tr>\n",
       "      <th>1</th>\n",
       "      <td>Alaska</td>\n",
       "      <td>2020-05-21 02:32:54</td>\n",
       "      <td>401</td>\n",
       "      <td>10</td>\n",
       "      <td>352.0</td>\n",
       "      <td>39.0</td>\n",
       "      <td>2</td>\n",
       "      <td>54.815493</td>\n",
       "      <td>37045.0</td>\n",
       "      <td>65.0</td>\n",
       "      <td>2.493766</td>\n",
       "      <td>5063.940017</td>\n",
       "      <td>6.778043</td>\n",
       "    </tr>\n",
       "    <tr>\n",
       "      <th>3</th>\n",
       "      <td>Arizona</td>\n",
       "      <td>2020-05-21 02:32:54</td>\n",
       "      <td>14906</td>\n",
       "      <td>747</td>\n",
       "      <td>3773.0</td>\n",
       "      <td>10386.0</td>\n",
       "      <td>4</td>\n",
       "      <td>204.788838</td>\n",
       "      <td>165435.0</td>\n",
       "      <td>1792.0</td>\n",
       "      <td>5.011405</td>\n",
       "      <td>2272.859351</td>\n",
       "      <td>12.022005</td>\n",
       "    </tr>\n",
       "    <tr>\n",
       "      <th>4</th>\n",
       "      <td>Arkansas</td>\n",
       "      <td>2020-05-21 02:32:54</td>\n",
       "      <td>5003</td>\n",
       "      <td>107</td>\n",
       "      <td>3852.0</td>\n",
       "      <td>1044.0</td>\n",
       "      <td>5</td>\n",
       "      <td>165.782801</td>\n",
       "      <td>96258.0</td>\n",
       "      <td>535.0</td>\n",
       "      <td>2.138717</td>\n",
       "      <td>3189.670370</td>\n",
       "      <td>10.693584</td>\n",
       "    </tr>\n",
       "    <tr>\n",
       "      <th>5</th>\n",
       "      <td>California</td>\n",
       "      <td>2020-05-21 02:32:54</td>\n",
       "      <td>85997</td>\n",
       "      <td>3497</td>\n",
       "      <td>336.0</td>\n",
       "      <td>82500.0</td>\n",
       "      <td>6</td>\n",
       "      <td>217.646575</td>\n",
       "      <td>1380120.0</td>\n",
       "      <td>65.0</td>\n",
       "      <td>4.066421</td>\n",
       "      <td>3492.893832</td>\n",
       "      <td>6.778043</td>\n",
       "    </tr>\n",
       "  </tbody>\n",
       "</table>\n",
       "</div>"
      ],
      "text/plain": [
       "  Province_State          Last_Update  Confirmed  Deaths  Recovered   Active  \\\n",
       "0        Alabama  2020-05-21 02:32:54      13052     522      336.0  12530.0   \n",
       "1         Alaska  2020-05-21 02:32:54        401      10      352.0     39.0   \n",
       "3        Arizona  2020-05-21 02:32:54      14906     747     3773.0  10386.0   \n",
       "4       Arkansas  2020-05-21 02:32:54       5003     107     3852.0   1044.0   \n",
       "5     California  2020-05-21 02:32:54      85997    3497      336.0  82500.0   \n",
       "\n",
       "   FIPS  Incident_Rate  People_Tested  People_Hospitalized  Mortality_Rate  \\\n",
       "0     1     266.194321       164450.0               1493.0        3.999387   \n",
       "1     2      54.815493        37045.0                 65.0        2.493766   \n",
       "3     4     204.788838       165435.0               1792.0        5.011405   \n",
       "4     5     165.782801        96258.0                535.0        2.138717   \n",
       "5     6     217.646575      1380120.0                 65.0        4.066421   \n",
       "\n",
       "   Testing_Rate  Hospitalization_Rate  \n",
       "0   3353.942386             11.438860  \n",
       "1   5063.940017              6.778043  \n",
       "3   2272.859351             12.022005  \n",
       "4   3189.670370             10.693584  \n",
       "5   3492.893832              6.778043  "
      ]
     },
     "execution_count": 88,
     "metadata": {},
     "output_type": "execute_result"
    }
   ],
   "source": [
    "data.head()"
   ]
  },
  {
   "cell_type": "code",
   "execution_count": 89,
   "metadata": {},
   "outputs": [
    {
     "data": {
      "text/plain": [
       "<matplotlib.axes._subplots.AxesSubplot at 0x1f41ccfb048>"
      ]
     },
     "execution_count": 89,
     "metadata": {},
     "output_type": "execute_result"
    },
    {
     "data": {
      "image/png": "[encoded data removed]",
      "text/plain": [
       "<Figure size 432x288 with 1 Axes>"
      ]
     },
     "metadata": {
      "needs_background": "light"
     },
     "output_type": "display_data"
    }
   ],
   "source": [
    "#lets use heatmap to plot each feature\n",
    "sns.distplot(data['Deaths'])"
   ]
  },
  {
   "cell_type": "code",
   "execution_count": 90,
   "metadata": {},
   "outputs": [
    {
     "data": {
      "text/plain": [
       "<matplotlib.axes._subplots.AxesSubplot at 0x1f41c388fc8>"
      ]
     },
     "execution_count": 90,
     "metadata": {},
     "output_type": "execute_result"
    },
    {
     "data": {
      "image/png": "[encoded data removed]",
      "text/plain": [
       "<Figure size 432x288 with 1 Axes>"
      ]
     },
     "metadata": {
      "needs_background": "light"
     },
     "output_type": "display_data"
    }
   ],
   "source": [
    "sns.distplot(data['Active'])"
   ]
  },
  {
   "cell_type": "code",
   "execution_count": 91,
   "metadata": {},
   "outputs": [
    {
     "data": {
      "text/plain": [
       "<matplotlib.axes._subplots.AxesSubplot at 0x1f41c9c2108>"
      ]
     },
     "execution_count": 91,
     "metadata": {},
     "output_type": "execute_result"
    },
    {
     "data": {
      "image/png": "[encoded data removed]",
      "text/plain": [
       "<Figure size 432x288 with 1 Axes>"
      ]
     },
     "metadata": {
      "needs_background": "light"
     },
     "output_type": "display_data"
    }
   ],
   "source": [
    "\n",
    "sns.distplot(data['Confirmed'])"
   ]
  },
  {
   "cell_type": "code",
   "execution_count": 92,
   "metadata": {},
   "outputs": [
    {
     "data": {
      "text/plain": [
       "<matplotlib.axes._subplots.AxesSubplot at 0x1f41ca6b048>"
      ]
     },
     "execution_count": 92,
     "metadata": {},
     "output_type": "execute_result"
    },
    {
     "data": {
      "image/png": "[encoded data removed]",
      "text/plain": [
       "<Figure size 432x288 with 1 Axes>"
      ]
     },
     "metadata": {
      "needs_background": "light"
     },
     "output_type": "display_data"
    }
   ],
   "source": [
    "\n",
    "sns.distplot(data['Recovered'])"
   ]
  },
  {
   "cell_type": "code",
   "execution_count": 93,
   "metadata": {},
   "outputs": [
    {
     "data": {
      "text/plain": [
       "<matplotlib.axes._subplots.AxesSubplot at 0x1f41cc4cdc8>"
      ]
     },
     "execution_count": 93,
     "metadata": {},
     "output_type": "execute_result"
    },
    {
     "data": {
      "image/png": "[encoded data removed]",
      "text/plain": [
       "<Figure size 432x288 with 1 Axes>"
      ]
     },
     "metadata": {
      "needs_background": "light"
     },
     "output_type": "display_data"
    }
   ],
   "source": [
    "\n",
    "sns.distplot(data['Mortality_Rate'])"
   ]
  },
  {
   "cell_type": "code",
   "execution_count": 94,
   "metadata": {},
   "outputs": [
    {
     "data": {
      "text/plain": [
       "<matplotlib.axes._subplots.AxesSubplot at 0x1f41cc11b08>"
      ]
     },
     "execution_count": 94,
     "metadata": {},
     "output_type": "execute_result"
    },
    {
     "data": {
      "image/png": "[encoded data removed]",
      "text/plain": [
       "<Figure size 432x288 with 1 Axes>"
      ]
     },
     "metadata": {
      "needs_background": "light"
     },
     "output_type": "display_data"
    }
   ],
   "source": [
    "\n",
    "sns.distplot(data['Hospitalization_Rate'])"
   ]
  },
  {
   "cell_type": "code",
   "execution_count": 95,
   "metadata": {},
   "outputs": [
    {
     "data": {
      "text/plain": [
       "<matplotlib.axes._subplots.AxesSubplot at 0x1f41de1ea08>"
      ]
     },
     "execution_count": 95,
     "metadata": {},
     "output_type": "execute_result"
    },
    {
     "data": {
      "image/png": "[encoded data removed]",
      "text/plain": [
       "<Figure size 432x288 with 1 Axes>"
      ]
     },
     "metadata": {
      "needs_background": "light"
     },
     "output_type": "display_data"
    }
   ],
   "source": [
    "\n",
    "sns.distplot(data['People_Tested'])"
   ]
  },
  {
   "cell_type": "code",
   "execution_count": 96,
   "metadata": {},
   "outputs": [
    {
     "data": {
      "text/plain": [
       "(1, 18)"
      ]
     },
     "execution_count": 96,
     "metadata": {},
     "output_type": "execute_result"
    }
   ],
   "source": [
    "\n",
    "data_ny.shape"
   ]
  },
  {
   "cell_type": "code",
   "execution_count": 97,
   "metadata": {},
   "outputs": [
    {
     "data": {
      "text/html": [
       "<div>\n",
       "<style scoped>\n",
       "    .dataframe tbody tr th:only-of-type {\n",
       "        vertical-align: middle;\n",
       "    }\n",
       "\n",
       "    .dataframe tbody tr th {\n",
       "        vertical-align: top;\n",
       "    }\n",
       "\n",
       "    .dataframe thead th {\n",
       "        text-align: right;\n",
       "    }\n",
       "</style>\n",
       "<table border=\"1\" class=\"dataframe\">\n",
       "  <thead>\n",
       "    <tr style=\"text-align: right;\">\n",
       "      <th></th>\n",
       "      <th>Province_State</th>\n",
       "      <th>Last_Update</th>\n",
       "      <th>Confirmed</th>\n",
       "      <th>Deaths</th>\n",
       "      <th>Recovered</th>\n",
       "      <th>Active</th>\n",
       "      <th>FIPS</th>\n",
       "      <th>Incident_Rate</th>\n",
       "      <th>People_Tested</th>\n",
       "      <th>People_Hospitalized</th>\n",
       "      <th>Mortality_Rate</th>\n",
       "      <th>Testing_Rate</th>\n",
       "      <th>Hospitalization_Rate</th>\n",
       "    </tr>\n",
       "  </thead>\n",
       "  <tbody>\n",
       "    <tr>\n",
       "      <th>0</th>\n",
       "      <td>Alabama</td>\n",
       "      <td>2020-05-21 02:32:54</td>\n",
       "      <td>13052</td>\n",
       "      <td>522</td>\n",
       "      <td>336.0</td>\n",
       "      <td>12530.0</td>\n",
       "      <td>1</td>\n",
       "      <td>266.194321</td>\n",
       "      <td>164450.0</td>\n",
       "      <td>1493.0</td>\n",
       "      <td>3.999387</td>\n",
       "      <td>3353.942386</td>\n",
       "      <td>11.438860</td>\n",
       "    </tr>\n",
       "    <tr>\n",
       "      <th>1</th>\n",
       "      <td>Alaska</td>\n",
       "      <td>2020-05-21 02:32:54</td>\n",
       "      <td>401</td>\n",
       "      <td>10</td>\n",
       "      <td>352.0</td>\n",
       "      <td>39.0</td>\n",
       "      <td>2</td>\n",
       "      <td>54.815493</td>\n",
       "      <td>37045.0</td>\n",
       "      <td>65.0</td>\n",
       "      <td>2.493766</td>\n",
       "      <td>5063.940017</td>\n",
       "      <td>6.778043</td>\n",
       "    </tr>\n",
       "    <tr>\n",
       "      <th>3</th>\n",
       "      <td>Arizona</td>\n",
       "      <td>2020-05-21 02:32:54</td>\n",
       "      <td>14906</td>\n",
       "      <td>747</td>\n",
       "      <td>3773.0</td>\n",
       "      <td>10386.0</td>\n",
       "      <td>4</td>\n",
       "      <td>204.788838</td>\n",
       "      <td>165435.0</td>\n",
       "      <td>1792.0</td>\n",
       "      <td>5.011405</td>\n",
       "      <td>2272.859351</td>\n",
       "      <td>12.022005</td>\n",
       "    </tr>\n",
       "    <tr>\n",
       "      <th>4</th>\n",
       "      <td>Arkansas</td>\n",
       "      <td>2020-05-21 02:32:54</td>\n",
       "      <td>5003</td>\n",
       "      <td>107</td>\n",
       "      <td>3852.0</td>\n",
       "      <td>1044.0</td>\n",
       "      <td>5</td>\n",
       "      <td>165.782801</td>\n",
       "      <td>96258.0</td>\n",
       "      <td>535.0</td>\n",
       "      <td>2.138717</td>\n",
       "      <td>3189.670370</td>\n",
       "      <td>10.693584</td>\n",
       "    </tr>\n",
       "    <tr>\n",
       "      <th>5</th>\n",
       "      <td>California</td>\n",
       "      <td>2020-05-21 02:32:54</td>\n",
       "      <td>85997</td>\n",
       "      <td>3497</td>\n",
       "      <td>336.0</td>\n",
       "      <td>82500.0</td>\n",
       "      <td>6</td>\n",
       "      <td>217.646575</td>\n",
       "      <td>1380120.0</td>\n",
       "      <td>65.0</td>\n",
       "      <td>4.066421</td>\n",
       "      <td>3492.893832</td>\n",
       "      <td>6.778043</td>\n",
       "    </tr>\n",
       "  </tbody>\n",
       "</table>\n",
       "</div>"
      ],
      "text/plain": [
       "  Province_State          Last_Update  Confirmed  Deaths  Recovered   Active  \\\n",
       "0        Alabama  2020-05-21 02:32:54      13052     522      336.0  12530.0   \n",
       "1         Alaska  2020-05-21 02:32:54        401      10      352.0     39.0   \n",
       "3        Arizona  2020-05-21 02:32:54      14906     747     3773.0  10386.0   \n",
       "4       Arkansas  2020-05-21 02:32:54       5003     107     3852.0   1044.0   \n",
       "5     California  2020-05-21 02:32:54      85997    3497      336.0  82500.0   \n",
       "\n",
       "   FIPS  Incident_Rate  People_Tested  People_Hospitalized  Mortality_Rate  \\\n",
       "0     1     266.194321       164450.0               1493.0        3.999387   \n",
       "1     2      54.815493        37045.0                 65.0        2.493766   \n",
       "3     4     204.788838       165435.0               1792.0        5.011405   \n",
       "4     5     165.782801        96258.0                535.0        2.138717   \n",
       "5     6     217.646575      1380120.0                 65.0        4.066421   \n",
       "\n",
       "   Testing_Rate  Hospitalization_Rate  \n",
       "0   3353.942386             11.438860  \n",
       "1   5063.940017              6.778043  \n",
       "3   2272.859351             12.022005  \n",
       "4   3189.670370             10.693584  \n",
       "5   3492.893832              6.778043  "
      ]
     },
     "execution_count": 97,
     "metadata": {},
     "output_type": "execute_result"
    }
   ],
   "source": [
    "data.head()"
   ]
  },
  {
   "cell_type": "code",
   "execution_count": 98,
   "metadata": {},
   "outputs": [
    {
     "data": {
      "image/png": "[encoded data removed]",
      "text/plain": [
       "<Figure size 432x288 with 2 Axes>"
      ]
     },
     "metadata": {
      "needs_background": "light"
     },
     "output_type": "display_data"
    }
   ],
   "source": [
    "#correlation \n",
    "corr = data.corr()\n",
    "ax = sns.heatmap(\n",
    "    corr, \n",
    "    vmin=-1, vmax=1, center=0,\n",
    "    cmap=sns.diverging_palette(20, 220, n=200),\n",
    "    square=True,\n",
    "    annot = True\n",
    ")\n",
    "ax.set_xticklabels(\n",
    "    ax.get_xticklabels(),\n",
    "    rotation=45,\n",
    "    horizontalalignment='right'\n",
    ");"
   ]
  },
  {
   "cell_type": "code",
   "execution_count": 99,
   "metadata": {},
   "outputs": [
    {
     "data": {
      "image/png": "[encoded data removed]",
      "text/plain": [
       "<Figure size 432x288 with 2 Axes>"
      ]
     },
     "metadata": {
      "needs_background": "light"
     },
     "output_type": "display_data"
    }
   ],
   "source": [
    "corr = data.corr()\n",
    "ax = sns.heatmap(\n",
    "    corr, \n",
    "    vmin=-1, vmax=1, center=0,\n",
    "    cmap=sns.diverging_palette(20, 220, n=200),\n",
    "    square=True,\n",
    "    annot = True\n",
    ")\n",
    "ax.set_xticklabels(\n",
    "    ax.get_xticklabels(),\n",
    "    rotation=45,\n",
    "    horizontalalignment='right'\n",
    ");"
   ]
  },
  {
   "cell_type": "code",
   "execution_count": 100,
   "metadata": {},
   "outputs": [],
   "source": [
    "#splitting x and y variable\n",
    "feature_cols=['FIPS','Confirmed']\n",
    "X = data[feature_cols]"
   ]
  },
  {
   "cell_type": "code",
   "execution_count": 101,
   "metadata": {},
   "outputs": [
    {
     "data": {
      "text/plain": [
       "0       522\n",
       "1        10\n",
       "3       747\n",
       "4       107\n",
       "5      3497\n",
       "6      1299\n",
       "7      3529\n",
       "8       310\n",
       "9         0\n",
       "10      407\n",
       "11     2096\n",
       "12     1697\n",
       "13        3\n",
       "15       17\n",
       "16       77\n",
       "17     4525\n",
       "18     1864\n",
       "19      393\n",
       "20      202\n",
       "21      376\n",
       "22     2608\n",
       "23       73\n",
       "24     2123\n",
       "25     6066\n",
       "26     5060\n",
       "27      786\n",
       "28      570\n",
       "29      640\n",
       "30       16\n",
       "31      138\n",
       "32      377\n",
       "33      190\n",
       "34    10749\n",
       "35      283\n",
       "36    28636\n",
       "37      726\n",
       "38       49\n",
       "40     1781\n",
       "41      299\n",
       "42      144\n",
       "43     4770\n",
       "45      538\n",
       "46      407\n",
       "47       46\n",
       "48      305\n",
       "49     1426\n",
       "50       90\n",
       "51       54\n",
       "53     1075\n",
       "54     1037\n",
       "55       69\n",
       "56      481\n",
       "57       11\n",
       "Name: Deaths, dtype: int64"
      ]
     },
     "execution_count": 101,
     "metadata": {},
     "output_type": "execute_result"
    }
   ],
   "source": [
    "y = data['Deaths']\n",
    "y"
   ]
  },
  {
   "cell_type": "code",
   "execution_count": 102,
   "metadata": {},
   "outputs": [],
   "source": [
    "\n",
    "#Spliting the data into training and test set\n",
    "X_train,X_test,y_train,y_test = train_test_split(X,y,test_size = 0.2,random_state=1)"
   ]
  },
  {
   "cell_type": "code",
   "execution_count": 103,
   "metadata": {},
   "outputs": [
    {
     "data": {
      "text/plain": [
       "(11, 2)"
      ]
     },
     "execution_count": 103,
     "metadata": {},
     "output_type": "execute_result"
    }
   ],
   "source": [
    "X_test.shape"
   ]
  },
  {
   "cell_type": "code",
   "execution_count": 104,
   "metadata": {},
   "outputs": [
    {
     "data": {
      "text/plain": [
       "(11,)"
      ]
     },
     "execution_count": 104,
     "metadata": {},
     "output_type": "execute_result"
    }
   ],
   "source": [
    "y_test.shape"
   ]
  },
  {
   "cell_type": "code",
   "execution_count": 105,
   "metadata": {},
   "outputs": [],
   "source": [
    "#Normalizing the data\n",
    "sc_X = StandardScaler()\n",
    "X_train = sc_X.fit_transform(X_train)\n",
    "X_test = sc_X.transform(X_test)"
   ]
  },
  {
   "cell_type": "code",
   "execution_count": 106,
   "metadata": {},
   "outputs": [
    {
     "data": {
      "text/plain": [
       "(11,)"
      ]
     },
     "execution_count": 106,
     "metadata": {},
     "output_type": "execute_result"
    }
   ],
   "source": [
    "y_test.shape"
   ]
  },
  {
   "cell_type": "code",
   "execution_count": 107,
   "metadata": {},
   "outputs": [
    {
     "data": {
      "text/plain": [
       "(11, 2)"
      ]
     },
     "execution_count": 107,
     "metadata": {},
     "output_type": "execute_result"
    }
   ],
   "source": [
    "\n",
    "X_test.shape"
   ]
  },
  {
   "cell_type": "code",
   "execution_count": 108,
   "metadata": {},
   "outputs": [],
   "source": [
    "#Model Prediction\n",
    "\n",
    "#We can see that the dataset is continuous in nature and hence Linear Regression is apt here."
   ]
  },
  {
   "cell_type": "code",
   "execution_count": 109,
   "metadata": {},
   "outputs": [
    {
     "name": "stdout",
     "output_type": "stream",
     "text": [
      "Linear Regression Score: 0.9051126785952721\n"
     ]
    }
   ],
   "source": [
    "#Using sklearns linear regression model\n",
    "regressor = LinearRegression()\n",
    "regressor.fit(X_train, y_train)\n",
    "linear_regression_score = regressor.score(X_test, y_test)\n",
    "print(\"Linear Regression Score:\", linear_regression_score)"
   ]
  },
  {
   "cell_type": "code",
   "execution_count": 110,
   "metadata": {},
   "outputs": [
    {
     "name": "stdout",
     "output_type": "stream",
     "text": [
      "DT Score: 0.1891040750270545\n"
     ]
    }
   ],
   "source": [
    "#Using sklearns Decision tree regressor model\n",
    "regressor = DecisionTreeRegressor(random_state = 0)\n",
    "regressor.fit(X_train, y_train)\n",
    "tree_score = regressor.score(X_test, y_test)\n",
    "print(\"DT Score:\", regressor.score(X_test, y_test))"
   ]
  },
  {
   "cell_type": "code",
   "execution_count": 111,
   "metadata": {},
   "outputs": [
    {
     "name": "stdout",
     "output_type": "stream",
     "text": [
      "RF Score: 0.2031945945629945\n"
     ]
    }
   ],
   "source": [
    "#Using sklearns Random forest regressor model \n",
    "regressor = RandomForestRegressor(n_estimators = 10, random_state = 0)\n",
    "regressor.fit(X_train, y_train)\n",
    "forest_score = regressor.score(X_test, y_test)\n",
    "print(\"RF Score:\", regressor.score(X_test, y_test))"
   ]
  },
  {
   "cell_type": "code",
   "execution_count": 112,
   "metadata": {},
   "outputs": [
    {
     "name": "stdout",
     "output_type": "stream",
     "text": [
      "Poly Score: -576521.412626522\n"
     ]
    }
   ],
   "source": [
    "#Using plynomial regression using polynomial features\n",
    "poly_reg = PolynomialFeatures(degree = 5)\n",
    "X_poly = poly_reg.fit_transform(X_train)\n",
    "regressor = LinearRegression()\n",
    "regressor.fit(X_poly, y_train)\n",
    "poly_score = regressor.score(poly_reg.transform(X_test), y_test)\n",
    "print(\"Poly Score:\", regressor.score(poly_reg.transform(X_test), y_test))"
   ]
  },
  {
   "cell_type": "code",
   "execution_count": 113,
   "metadata": {},
   "outputs": [
    {
     "name": "stdout",
     "output_type": "stream",
     "text": [
      "MLP Regressor Score: 0.8425303279373249\n"
     ]
    }
   ],
   "source": [
    "# using sklearns MLP Regressor model\n",
    "\n",
    "clf = MLPRegressor(max_iter=10000)\n",
    "clf.fit(X_train, np.asarray(y_train).ravel())\n",
    "mlp_regressor_score = clf.score(X_test, y_test)\n",
    "print('MLP Regressor Score:', mlp_regressor_score)"
   ]
  },
  {
   "cell_type": "code",
   "execution_count": null,
   "metadata": {},
   "outputs": [],
   "source": [
    "#we can see that the linear regression gives us the highest accuracy score which is 90.5%. Hence I chose Linear Regression for the best model."
   ]
  },
  {
   "cell_type": "code",
   "execution_count": 114,
   "metadata": {},
   "outputs": [
    {
     "data": {
      "text/plain": [
       "['Model Covid 19 USA.pkl']"
      ]
     },
     "execution_count": 114,
     "metadata": {},
     "output_type": "execute_result"
    }
   ],
   "source": [
    "#lets save the final model\n",
    "from sklearn.externals import joblib\n",
    "\n",
    "#save the model as pickle in a file\n",
    "joblib.dump(LinearRegression,'Model Covid 19 USA.pkl')"
   ]
  },
  {
   "cell_type": "code",
   "execution_count": null,
   "metadata": {},
   "outputs": [],
   "source": []
  }
 ],
 "metadata": {
  "kernelspec": {
   "display_name": "Python 3",
   "language": "python",
   "name": "python3"
  },
  "language_info": {
   "codemirror_mode": {
    "name": "ipython",
    "version": 3
   },
   "file_extension": ".py",
   "mimetype": "text/x-python",
   "name": "python",
   "nbconvert_exporter": "python",
   "pygments_lexer": "ipython3",
   "version": "3.7.6"
  }
 },
 "nbformat": 4,
 "nbformat_minor": 4
}
