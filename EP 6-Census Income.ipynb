{
 "cells": [
  {
   "cell_type": "code",
   "execution_count": 1,
   "metadata": {},
   "outputs": [],
   "source": [
    "#import libraries\n",
    "import pandas as pd\n",
    "import numpy as np\n",
    "import seaborn as sns\n",
    "import matplotlib.pyplot as plt\n",
    "\n",
    "import warnings\n",
    "warnings.filterwarnings(\"ignore\")"
   ]
  },
  {
   "cell_type": "code",
   "execution_count": 2,
   "metadata": {},
   "outputs": [
    {
     "data": {
      "text/html": [
       "<div>\n",
       "<style scoped>\n",
       "    .dataframe tbody tr th:only-of-type {\n",
       "        vertical-align: middle;\n",
       "    }\n",
       "\n",
       "    .dataframe tbody tr th {\n",
       "        vertical-align: top;\n",
       "    }\n",
       "\n",
       "    .dataframe thead th {\n",
       "        text-align: right;\n",
       "    }\n",
       "</style>\n",
       "<table border=\"1\" class=\"dataframe\">\n",
       "  <thead>\n",
       "    <tr style=\"text-align: right;\">\n",
       "      <th></th>\n",
       "      <th>age</th>\n",
       "      <th>workclass</th>\n",
       "      <th>fnlwgt</th>\n",
       "      <th>education</th>\n",
       "      <th>education.num</th>\n",
       "      <th>marital.status</th>\n",
       "      <th>occupation</th>\n",
       "      <th>relationship</th>\n",
       "      <th>race</th>\n",
       "      <th>sex</th>\n",
       "      <th>capital.gain</th>\n",
       "      <th>capital.loss</th>\n",
       "      <th>hours.per.week</th>\n",
       "      <th>native.country</th>\n",
       "      <th>income</th>\n",
       "    </tr>\n",
       "  </thead>\n",
       "  <tbody>\n",
       "    <tr>\n",
       "      <th>0</th>\n",
       "      <td>90</td>\n",
       "      <td>?</td>\n",
       "      <td>77053</td>\n",
       "      <td>HS-grad</td>\n",
       "      <td>9</td>\n",
       "      <td>Widowed</td>\n",
       "      <td>?</td>\n",
       "      <td>Not-in-family</td>\n",
       "      <td>White</td>\n",
       "      <td>Female</td>\n",
       "      <td>0</td>\n",
       "      <td>4356</td>\n",
       "      <td>40</td>\n",
       "      <td>United-States</td>\n",
       "      <td>&lt;=50K</td>\n",
       "    </tr>\n",
       "    <tr>\n",
       "      <th>1</th>\n",
       "      <td>82</td>\n",
       "      <td>Private</td>\n",
       "      <td>132870</td>\n",
       "      <td>HS-grad</td>\n",
       "      <td>9</td>\n",
       "      <td>Widowed</td>\n",
       "      <td>Exec-managerial</td>\n",
       "      <td>Not-in-family</td>\n",
       "      <td>White</td>\n",
       "      <td>Female</td>\n",
       "      <td>0</td>\n",
       "      <td>4356</td>\n",
       "      <td>18</td>\n",
       "      <td>United-States</td>\n",
       "      <td>&lt;=50K</td>\n",
       "    </tr>\n",
       "    <tr>\n",
       "      <th>2</th>\n",
       "      <td>66</td>\n",
       "      <td>?</td>\n",
       "      <td>186061</td>\n",
       "      <td>Some-college</td>\n",
       "      <td>10</td>\n",
       "      <td>Widowed</td>\n",
       "      <td>?</td>\n",
       "      <td>Unmarried</td>\n",
       "      <td>Black</td>\n",
       "      <td>Female</td>\n",
       "      <td>0</td>\n",
       "      <td>4356</td>\n",
       "      <td>40</td>\n",
       "      <td>United-States</td>\n",
       "      <td>&lt;=50K</td>\n",
       "    </tr>\n",
       "    <tr>\n",
       "      <th>3</th>\n",
       "      <td>54</td>\n",
       "      <td>Private</td>\n",
       "      <td>140359</td>\n",
       "      <td>7th-8th</td>\n",
       "      <td>4</td>\n",
       "      <td>Divorced</td>\n",
       "      <td>Machine-op-inspct</td>\n",
       "      <td>Unmarried</td>\n",
       "      <td>White</td>\n",
       "      <td>Female</td>\n",
       "      <td>0</td>\n",
       "      <td>3900</td>\n",
       "      <td>40</td>\n",
       "      <td>United-States</td>\n",
       "      <td>&lt;=50K</td>\n",
       "    </tr>\n",
       "    <tr>\n",
       "      <th>4</th>\n",
       "      <td>41</td>\n",
       "      <td>Private</td>\n",
       "      <td>264663</td>\n",
       "      <td>Some-college</td>\n",
       "      <td>10</td>\n",
       "      <td>Separated</td>\n",
       "      <td>Prof-specialty</td>\n",
       "      <td>Own-child</td>\n",
       "      <td>White</td>\n",
       "      <td>Female</td>\n",
       "      <td>0</td>\n",
       "      <td>3900</td>\n",
       "      <td>40</td>\n",
       "      <td>United-States</td>\n",
       "      <td>&lt;=50K</td>\n",
       "    </tr>\n",
       "  </tbody>\n",
       "</table>\n",
       "</div>"
      ],
      "text/plain": [
       "   age workclass  fnlwgt     education  education.num marital.status  \\\n",
       "0   90         ?   77053       HS-grad              9        Widowed   \n",
       "1   82   Private  132870       HS-grad              9        Widowed   \n",
       "2   66         ?  186061  Some-college             10        Widowed   \n",
       "3   54   Private  140359       7th-8th              4       Divorced   \n",
       "4   41   Private  264663  Some-college             10      Separated   \n",
       "\n",
       "          occupation   relationship   race     sex  capital.gain  \\\n",
       "0                  ?  Not-in-family  White  Female             0   \n",
       "1    Exec-managerial  Not-in-family  White  Female             0   \n",
       "2                  ?      Unmarried  Black  Female             0   \n",
       "3  Machine-op-inspct      Unmarried  White  Female             0   \n",
       "4     Prof-specialty      Own-child  White  Female             0   \n",
       "\n",
       "   capital.loss  hours.per.week native.country income  \n",
       "0          4356              40  United-States  <=50K  \n",
       "1          4356              18  United-States  <=50K  \n",
       "2          4356              40  United-States  <=50K  \n",
       "3          3900              40  United-States  <=50K  \n",
       "4          3900              40  United-States  <=50K  "
      ]
     },
     "execution_count": 2,
     "metadata": {},
     "output_type": "execute_result"
    }
   ],
   "source": [
    "#read the dataset and print the first few rows using head function\n",
    "df=pd.read_csv(\"adult.csv\")\n",
    "df.head()"
   ]
  },
  {
   "cell_type": "code",
   "execution_count": 3,
   "metadata": {},
   "outputs": [
    {
     "data": {
      "text/plain": [
       "(32561, 15)"
      ]
     },
     "execution_count": 3,
     "metadata": {},
     "output_type": "execute_result"
    }
   ],
   "source": [
    "#lets check the number of rows and columns\n",
    "df.shape\n",
    "\n",
    "#here there are 32561 rows and 15 columns "
   ]
  },
  {
   "cell_type": "code",
   "execution_count": 4,
   "metadata": {},
   "outputs": [
    {
     "name": "stdout",
     "output_type": "stream",
     "text": [
      "<class 'pandas.core.frame.DataFrame'>\n",
      "RangeIndex: 32561 entries, 0 to 32560\n",
      "Data columns (total 15 columns):\n",
      " #   Column          Non-Null Count  Dtype \n",
      "---  ------          --------------  ----- \n",
      " 0   age             32561 non-null  int64 \n",
      " 1   workclass       32561 non-null  object\n",
      " 2   fnlwgt          32561 non-null  int64 \n",
      " 3   education       32561 non-null  object\n",
      " 4   education.num   32561 non-null  int64 \n",
      " 5   marital.status  32561 non-null  object\n",
      " 6   occupation      32561 non-null  object\n",
      " 7   relationship    32561 non-null  object\n",
      " 8   race            32561 non-null  object\n",
      " 9   sex             32561 non-null  object\n",
      " 10  capital.gain    32561 non-null  int64 \n",
      " 11  capital.loss    32561 non-null  int64 \n",
      " 12  hours.per.week  32561 non-null  int64 \n",
      " 13  native.country  32561 non-null  object\n",
      " 14  income          32561 non-null  object\n",
      "dtypes: int64(6), object(9)\n",
      "memory usage: 3.7+ MB\n"
     ]
    }
   ],
   "source": [
    "#lets check the summary of the dataframe using info function\n",
    "df.info()\n",
    "\n",
    "#info function gives us a brief of the datatypes and non null value counts; it also counts the number of integer and string/object datatypes\n",
    "#here there are 6 integer columns and 9 object/string values"
   ]
  },
  {
   "cell_type": "code",
   "execution_count": 5,
   "metadata": {},
   "outputs": [
    {
     "data": {
      "text/html": [
       "<div>\n",
       "<style scoped>\n",
       "    .dataframe tbody tr th:only-of-type {\n",
       "        vertical-align: middle;\n",
       "    }\n",
       "\n",
       "    .dataframe tbody tr th {\n",
       "        vertical-align: top;\n",
       "    }\n",
       "\n",
       "    .dataframe thead th {\n",
       "        text-align: right;\n",
       "    }\n",
       "</style>\n",
       "<table border=\"1\" class=\"dataframe\">\n",
       "  <thead>\n",
       "    <tr style=\"text-align: right;\">\n",
       "      <th></th>\n",
       "      <th>age</th>\n",
       "      <th>fnlwgt</th>\n",
       "      <th>education.num</th>\n",
       "      <th>capital.gain</th>\n",
       "      <th>capital.loss</th>\n",
       "      <th>hours.per.week</th>\n",
       "    </tr>\n",
       "  </thead>\n",
       "  <tbody>\n",
       "    <tr>\n",
       "      <th>count</th>\n",
       "      <td>32561.000000</td>\n",
       "      <td>3.256100e+04</td>\n",
       "      <td>32561.000000</td>\n",
       "      <td>32561.000000</td>\n",
       "      <td>32561.000000</td>\n",
       "      <td>32561.000000</td>\n",
       "    </tr>\n",
       "    <tr>\n",
       "      <th>mean</th>\n",
       "      <td>38.581647</td>\n",
       "      <td>1.897784e+05</td>\n",
       "      <td>10.080679</td>\n",
       "      <td>1077.648844</td>\n",
       "      <td>87.303830</td>\n",
       "      <td>40.437456</td>\n",
       "    </tr>\n",
       "    <tr>\n",
       "      <th>std</th>\n",
       "      <td>13.640433</td>\n",
       "      <td>1.055500e+05</td>\n",
       "      <td>2.572720</td>\n",
       "      <td>7385.292085</td>\n",
       "      <td>402.960219</td>\n",
       "      <td>12.347429</td>\n",
       "    </tr>\n",
       "    <tr>\n",
       "      <th>min</th>\n",
       "      <td>17.000000</td>\n",
       "      <td>1.228500e+04</td>\n",
       "      <td>1.000000</td>\n",
       "      <td>0.000000</td>\n",
       "      <td>0.000000</td>\n",
       "      <td>1.000000</td>\n",
       "    </tr>\n",
       "    <tr>\n",
       "      <th>25%</th>\n",
       "      <td>28.000000</td>\n",
       "      <td>1.178270e+05</td>\n",
       "      <td>9.000000</td>\n",
       "      <td>0.000000</td>\n",
       "      <td>0.000000</td>\n",
       "      <td>40.000000</td>\n",
       "    </tr>\n",
       "    <tr>\n",
       "      <th>50%</th>\n",
       "      <td>37.000000</td>\n",
       "      <td>1.783560e+05</td>\n",
       "      <td>10.000000</td>\n",
       "      <td>0.000000</td>\n",
       "      <td>0.000000</td>\n",
       "      <td>40.000000</td>\n",
       "    </tr>\n",
       "    <tr>\n",
       "      <th>75%</th>\n",
       "      <td>48.000000</td>\n",
       "      <td>2.370510e+05</td>\n",
       "      <td>12.000000</td>\n",
       "      <td>0.000000</td>\n",
       "      <td>0.000000</td>\n",
       "      <td>45.000000</td>\n",
       "    </tr>\n",
       "    <tr>\n",
       "      <th>max</th>\n",
       "      <td>90.000000</td>\n",
       "      <td>1.484705e+06</td>\n",
       "      <td>16.000000</td>\n",
       "      <td>99999.000000</td>\n",
       "      <td>4356.000000</td>\n",
       "      <td>99.000000</td>\n",
       "    </tr>\n",
       "  </tbody>\n",
       "</table>\n",
       "</div>"
      ],
      "text/plain": [
       "                age        fnlwgt  education.num  capital.gain  capital.loss  \\\n",
       "count  32561.000000  3.256100e+04   32561.000000  32561.000000  32561.000000   \n",
       "mean      38.581647  1.897784e+05      10.080679   1077.648844     87.303830   \n",
       "std       13.640433  1.055500e+05       2.572720   7385.292085    402.960219   \n",
       "min       17.000000  1.228500e+04       1.000000      0.000000      0.000000   \n",
       "25%       28.000000  1.178270e+05       9.000000      0.000000      0.000000   \n",
       "50%       37.000000  1.783560e+05      10.000000      0.000000      0.000000   \n",
       "75%       48.000000  2.370510e+05      12.000000      0.000000      0.000000   \n",
       "max       90.000000  1.484705e+06      16.000000  99999.000000   4356.000000   \n",
       "\n",
       "       hours.per.week  \n",
       "count    32561.000000  \n",
       "mean        40.437456  \n",
       "std         12.347429  \n",
       "min          1.000000  \n",
       "25%         40.000000  \n",
       "50%         40.000000  \n",
       "75%         45.000000  \n",
       "max         99.000000  "
      ]
     },
     "execution_count": 5,
     "metadata": {},
     "output_type": "execute_result"
    }
   ],
   "source": [
    "#lets describe the data using describe function which shows the statistical details like mean, percentile etc\n",
    "df.describe()"
   ]
  },
  {
   "cell_type": "markdown",
   "metadata": {},
   "source": [
    "#From the above statistical table we can understand: We can see that for each column we have the following functions\n",
    "\n",
    "count- Number of non-null observations here all the columns contain  32561 entries.\n",
    "\n",
    "mean- Mean of Values here mean of each column is found ie, mean of age  column= 38.5816, education.num is 10.080679 etc\n",
    "\n",
    "std- Standard Deviation of the Values here stnadard deviation for age is 13.640433, education.num is 2.572720 etc\n",
    "\n",
    "min- Minimum value here it shows the min value for age is 17.00 , for hours.per.week is 1.00 etc\n",
    "\n",
    "max- Maximum value it shows the max value for age as 90.000, for hours.per.week is 99 etc\n",
    "\n",
    "25%, 50%, and 75% - IQR values it shows percentile values at 25%,50% and 75% ; for age it is 28.00, 37.000 , and 48.000 respectively"
   ]
  },
  {
   "cell_type": "code",
   "execution_count": 6,
   "metadata": {},
   "outputs": [
    {
     "data": {
      "text/plain": [
       "age                int64\n",
       "workclass         object\n",
       "fnlwgt             int64\n",
       "education         object\n",
       "education.num      int64\n",
       "marital.status    object\n",
       "occupation        object\n",
       "relationship      object\n",
       "race              object\n",
       "sex               object\n",
       "capital.gain       int64\n",
       "capital.loss       int64\n",
       "hours.per.week     int64\n",
       "native.country    object\n",
       "income            object\n",
       "dtype: object"
      ]
     },
     "execution_count": 6,
     "metadata": {},
     "output_type": "execute_result"
    }
   ],
   "source": [
    "#lets check the data types of the entities\n",
    "df.dtypes"
   ]
  },
  {
   "cell_type": "code",
   "execution_count": 7,
   "metadata": {},
   "outputs": [],
   "source": [
    "#Encode ? as NaNs\n",
    "df[df=='?'] =np.nan"
   ]
  },
  {
   "cell_type": "code",
   "execution_count": 8,
   "metadata": {},
   "outputs": [
    {
     "name": "stdout",
     "output_type": "stream",
     "text": [
      "<class 'pandas.core.frame.DataFrame'>\n",
      "RangeIndex: 32561 entries, 0 to 32560\n",
      "Data columns (total 15 columns):\n",
      " #   Column          Non-Null Count  Dtype \n",
      "---  ------          --------------  ----- \n",
      " 0   age             32561 non-null  int64 \n",
      " 1   workclass       30725 non-null  object\n",
      " 2   fnlwgt          32561 non-null  int64 \n",
      " 3   education       32561 non-null  object\n",
      " 4   education.num   32561 non-null  int64 \n",
      " 5   marital.status  32561 non-null  object\n",
      " 6   occupation      30718 non-null  object\n",
      " 7   relationship    32561 non-null  object\n",
      " 8   race            32561 non-null  object\n",
      " 9   sex             32561 non-null  object\n",
      " 10  capital.gain    32561 non-null  int64 \n",
      " 11  capital.loss    32561 non-null  int64 \n",
      " 12  hours.per.week  32561 non-null  int64 \n",
      " 13  native.country  31978 non-null  object\n",
      " 14  income          32561 non-null  object\n",
      "dtypes: int64(6), object(9)\n",
      "memory usage: 3.7+ MB\n"
     ]
    }
   ],
   "source": [
    "#lets check the summary of the dataframe again\n",
    "df.info()\n",
    "\n",
    "#info function gives us a brief of the datatypes and non null value counts; it also counts the number of integer and string/object datatypes\n",
    "#here there are 6 integer columns and 9 object/string values"
   ]
  },
  {
   "cell_type": "code",
   "execution_count": 9,
   "metadata": {},
   "outputs": [
    {
     "data": {
      "text/plain": [
       "age                  0\n",
       "workclass         1836\n",
       "fnlwgt               0\n",
       "education            0\n",
       "education.num        0\n",
       "marital.status       0\n",
       "occupation        1843\n",
       "relationship         0\n",
       "race                 0\n",
       "sex                  0\n",
       "capital.gain         0\n",
       "capital.loss         0\n",
       "hours.per.week       0\n",
       "native.country     583\n",
       "income               0\n",
       "dtype: int64"
      ]
     },
     "execution_count": 9,
     "metadata": {},
     "output_type": "execute_result"
    }
   ],
   "source": [
    "#lets check the null values\n",
    "df.isnull().sum()\n",
    "\n",
    "#we can see that there are null values in workclass, occupation and native.country"
   ]
  },
  {
   "cell_type": "code",
   "execution_count": 10,
   "metadata": {},
   "outputs": [
    {
     "data": {
      "text/plain": [
       "<matplotlib.axes._subplots.AxesSubplot at 0x148ed146e88>"
      ]
     },
     "execution_count": 10,
     "metadata": {},
     "output_type": "execute_result"
    },
    {
     "data": {
      "image/png": "[encoded data removed]",
      "text/plain": [
       "<Figure size 432x288 with 2 Axes>"
      ]
     },
     "metadata": {
      "needs_background": "light"
     },
     "output_type": "display_data"
    }
   ],
   "source": [
    "#lets check the null values using heatmap as well\n",
    "sns.heatmap(df.isnull())\n",
    "\n",
    "#now we can see the visualization of the null values in native.country, occupation  and workclass"
   ]
  },
  {
   "cell_type": "markdown",
   "metadata": {},
   "source": [
    "From the above graph it is clear that there are null values present in working class,occupation and native.country. \n",
    "Now lets input the missing values."
   ]
  },
  {
   "cell_type": "code",
   "execution_count": 11,
   "metadata": {},
   "outputs": [],
   "source": [
    "for col in ['workclass','occupation','native.country']:\n",
    "    df[col].fillna(df[col].mode()[0], inplace=True)"
   ]
  },
  {
   "cell_type": "code",
   "execution_count": 12,
   "metadata": {},
   "outputs": [
    {
     "data": {
      "text/plain": [
       "age               0\n",
       "workclass         0\n",
       "fnlwgt            0\n",
       "education         0\n",
       "education.num     0\n",
       "marital.status    0\n",
       "occupation        0\n",
       "relationship      0\n",
       "race              0\n",
       "sex               0\n",
       "capital.gain      0\n",
       "capital.loss      0\n",
       "hours.per.week    0\n",
       "native.country    0\n",
       "income            0\n",
       "dtype: int64"
      ]
     },
     "execution_count": 12,
     "metadata": {},
     "output_type": "execute_result"
    }
   ],
   "source": [
    "#lets check the null values again after filling the null values\n",
    "df.isnull().sum()"
   ]
  },
  {
   "cell_type": "markdown",
   "metadata": {},
   "source": [
    "Now there are no null values"
   ]
  },
  {
   "cell_type": "code",
   "execution_count": 13,
   "metadata": {},
   "outputs": [
    {
     "name": "stdout",
     "output_type": "stream",
     "text": [
      "Numeric variables includes: \n",
      " ['age', 'fnlwgt', 'education.num', 'capital.gain', 'capital.loss', 'hours.per.week']\n",
      "\n",
      "\n",
      "Categorical variables includes \n",
      " ['workclass', 'education', 'marital.status', 'occupation', 'relationship', 'race', 'sex', 'native.country']\n"
     ]
    }
   ],
   "source": [
    "#Identifying categorical and numerical variables separately\n",
    "\n",
    "#This will help us in using the suitable type of plots to visualise each variable later during EDA\n",
    "\n",
    "cols_df = pd.DataFrame(df.dtypes)\n",
    "num_cols = list(cols_df[cols_df[0]=='int64'].index)\n",
    "cat_cols = list(cols_df[cols_df[0]=='object'].index)[:-1] #excluding target column of income \n",
    "print('Numeric variables includes:','\\n',num_cols)\n",
    "print('\\n')\n",
    "print('Categorical variables includes','\\n',cat_cols)"
   ]
  },
  {
   "cell_type": "code",
   "execution_count": 14,
   "metadata": {},
   "outputs": [
    {
     "data": {
      "image/png": "[encoded data removed]",
      "text/plain": [
       "<Figure size 360x360 with 2 Axes>"
      ]
     },
     "metadata": {
      "needs_background": "light"
     },
     "output_type": "display_data"
    }
   ],
   "source": [
    "#Correlation analysis\n",
    "\n",
    "#Numerical variables\n",
    "\n",
    "plt.figure(figsize=(5,5))\n",
    "correlation = df.corr()\n",
    "matrix = np.triu(correlation)\n",
    "sns.heatmap(correlation,cmap='coolwarm',square=True,linecolor='black',linewidths=1,\n",
    "            mask=matrix,annot=True)\n",
    "plt.show()"
   ]
  },
  {
   "cell_type": "markdown",
   "metadata": {},
   "source": [
    " Correlation between numberic variables: There is no strong positive or negative correlation between these variables. Thus we are unlikely to run into any multi-collinearity issues in the model"
   ]
  },
  {
   "cell_type": "markdown",
   "metadata": {},
   "source": [
    "Histograms for each variable:\n",
    "\n",
    "Younger population falls under the lower income category whereas the age distribution for above 50K income is normally distributed\n",
    "\n",
    "The mean observation of education level is higher for the above 50k income group with most observations falling above education level of 9\n",
    "\n",
    "Capital gain and capital loss have largely zero values hence we will exclude it from our feature matrix\n",
    "\n",
    "Also, fnlwgt by definition is a control parameter kept in the census data. We may need to exclude it later from our model depending on it's impact on performance\n",
    "\n",
    "Majority of lower income group individuals work for less than 40 hours whereas the higher income group individuals have a more right skewed distribution of working hours"
   ]
  },
  {
   "cell_type": "code",
   "execution_count": 15,
   "metadata": {},
   "outputs": [
    {
     "data": {
      "image/png": "[encoded data removed]",
      "text/plain": [
       "<Figure size 432x216 with 1 Axes>"
      ]
     },
     "metadata": {
      "needs_background": "light"
     },
     "output_type": "display_data"
    },
    {
     "data": {
      "image/png": "[encoded data removed]",
      "text/plain": [
       "<Figure size 432x216 with 1 Axes>"
      ]
     },
     "metadata": {
      "needs_background": "light"
     },
     "output_type": "display_data"
    },
    {
     "data": {
      "image/png": "[encoded data removed]",
      "text/plain": [
       "<Figure size 432x216 with 1 Axes>"
      ]
     },
     "metadata": {
      "needs_background": "light"
     },
     "output_type": "display_data"
    },
    {
     "data": {
      "image/png": "[encoded data removed]",
      "text/plain": [
       "<Figure size 432x216 with 1 Axes>"
      ]
     },
     "metadata": {
      "needs_background": "light"
     },
     "output_type": "display_data"
    },
    {
     "data": {
      "image/png": "[encoded data removed]",
      "text/plain": [
       "<Figure size 432x216 with 1 Axes>"
      ]
     },
     "metadata": {
      "needs_background": "light"
     },
     "output_type": "display_data"
    },
    {
     "data": {
      "image/png": "[encoded data removed]",
      "text/plain": [
       "<Figure size 432x216 with 1 Axes>"
      ]
     },
     "metadata": {
      "needs_background": "light"
     },
     "output_type": "display_data"
    }
   ],
   "source": [
    "for i in num_cols:\n",
    "    plt.figure(figsize=(6,3))\n",
    "    df[df['income']=='<=50K'][i].hist(color='mediumblue')\n",
    "    df[df['income']=='>50K'][i].hist(color='firebrick')\n",
    "    plt.title(i)\n",
    "    plt.show()"
   ]
  },
  {
   "cell_type": "markdown",
   "metadata": {},
   "source": [
    "#CAtegorial variables\n",
    "\n",
    "Count plot observations: We are only looking at top 6 categories for each variable on different salary levels and total level (for benchmarking our observations)\n",
    "\n",
    "Leading attributes of <=50K income group:\n",
    "\n",
    "No clear distinction on the workclass since both groups are majorly employed in the private sector\n",
    "\n",
    "High school or some college graduates\n",
    "\n",
    "Unmarried (could be partly due to younger age)\n",
    "\n",
    "Common occupation includes craft/repair, admin-clerical and other services (may be unorganised in nature)\n",
    "\n",
    "Equal proportion of individuals who are not in a family setting and are husbands\n",
    "\n",
    "Race distribution is similar to overall population distribution for this group\n",
    "\n",
    "Gender and native country follow a pattern similar to the entire population for both the groups (i.e. largely males from USA itself)\n",
    "\n",
    "Leading attributes of >50K income group:\n",
    "\n",
    "\n",
    "Largely employed in the private sector\n",
    "\n",
    "More frequenct bachlor degree holders (in line with our observation on higher education level)\n",
    "\n",
    "Significant proportion is married and living with a spouse\n",
    "\n",
    "These individuals hold highly specialised positions in the workforce like executive management and prof-specialty (which partly explain the higher income)\n",
    "\n",
    "Most play an active family role as a husband or wife\n",
    "\n",
    "Whites dominate this income group, however it should be noted this is also the general population distribution\n"
   ]
  },
  {
   "cell_type": "code",
   "execution_count": 16,
   "metadata": {},
   "outputs": [
    {
     "data": {
      "image/png": "[encoded data removed]",
      "text/plain": [
       "<Figure size 432x288 with 1 Axes>"
      ]
     },
     "metadata": {
      "needs_background": "light"
     },
     "output_type": "display_data"
    },
    {
     "data": {
      "image/png": "[encoded data removed]",
      "text/plain": [
       "<Figure size 432x288 with 1 Axes>"
      ]
     },
     "metadata": {
      "needs_background": "light"
     },
     "output_type": "display_data"
    },
    {
     "data": {
      "image/png": "[encoded data removed]",
      "text/plain": [
       "<Figure size 432x288 with 1 Axes>"
      ]
     },
     "metadata": {
      "needs_background": "light"
     },
     "output_type": "display_data"
    },
    {
     "data": {
      "image/png": "[encoded data removed]",
      "text/plain": [
       "<Figure size 432x288 with 1 Axes>"
      ]
     },
     "metadata": {
      "needs_background": "light"
     },
     "output_type": "display_data"
    },
    {
     "data": {
      "image/png": "[encoded data removed]",
      "text/plain": [
       "<Figure size 432x288 with 1 Axes>"
      ]
     },
     "metadata": {
      "needs_background": "light"
     },
     "output_type": "display_data"
    },
    {
     "data": {
      "image/png": "[encoded data removed]",
      "text/plain": [
       "<Figure size 432x288 with 1 Axes>"
      ]
     },
     "metadata": {
      "needs_background": "light"
     },
     "output_type": "display_data"
    },
    {
     "data": {
      "image/png": "[encoded data removed]",
      "text/plain": [
       "<Figure size 432x288 with 1 Axes>"
      ]
     },
     "metadata": {
      "needs_background": "light"
     },
     "output_type": "display_data"
    },
    {
     "data": {
      "image/png": "[encoded data removed]",
      "text/plain": [
       "<Figure size 432x288 with 1 Axes>"
      ]
     },
     "metadata": {
      "needs_background": "light"
     },
     "output_type": "display_data"
    }
   ],
   "source": [
    "# Instead of using sns.catplot() we use the below loop to create a cross tab \n",
    "# which will also include the total column for better comparison\n",
    "\n",
    "for i in cat_cols:\n",
    "    ct = pd.crosstab(df[i],df['income'],margins=True, margins_name=\"Total\")\n",
    "    ct.drop(labels='Total',axis=0,inplace=True) #Removing subtotal row \n",
    "    ct.sort_values(by='Total',ascending=False,inplace=True) #Sorting based on total column\n",
    "    #Selecting only top 6 categories for plotting\n",
    "    ct.iloc[:6,:].plot(kind='bar',colormap='viridis',edgecolor='black')  \n",
    "    plt.xlabel(' ')\n",
    "    plt.title(str(i).capitalize())\n",
    "    plt.legend(loc=1)\n",
    "    plt.show()"
   ]
  },
  {
   "cell_type": "code",
   "execution_count": 17,
   "metadata": {},
   "outputs": [
    {
     "name": "stdout",
     "output_type": "stream",
     "text": [
      "['native.country']\n"
     ]
    }
   ],
   "source": [
    "#Feature Selection\n",
    "\n",
    "df['income'].replace(to_replace='<=50K',value=0,inplace=True)\n",
    "df['income'].replace(to_replace='>50K',value=1,inplace=True)\n",
    "\n",
    "#Identifying categorical columns where more than 90% of observations belong only to one categroy\n",
    "cat_drop = []\n",
    "for i in cat_cols:\n",
    "    if (df[i].value_counts(normalize=True)[0]) > 0.9:\n",
    "        cat_drop.append(i)\n",
    "        \n",
    "print(cat_drop)"
   ]
  },
  {
   "cell_type": "code",
   "execution_count": 18,
   "metadata": {},
   "outputs": [
    {
     "name": "stdout",
     "output_type": "stream",
     "text": [
      "['capital.gain', 'capital.loss']\n"
     ]
    }
   ],
   "source": [
    "#Similarly for numerical columns\n",
    "\n",
    "num_drop = []\n",
    "for i in num_cols:\n",
    "    if df[i].value_counts(normalize=True).iloc[0] > 0.9:\n",
    "        num_drop.append(i)\n",
    "        \n",
    "print(num_drop)"
   ]
  },
  {
   "cell_type": "markdown",
   "metadata": {},
   "source": [
    "In native country close to 91% of observations belong to one category (i.e. United States)\n",
    "Whereas in capital-gain and capital-loss, ~92% and ~95% of values are zeroes respectively which will not contribute in modelling\n",
    "Hence, we drop these 3 variables (native-country, capital-gain, capital-loss) from the feature matrix"
   ]
  },
  {
   "cell_type": "code",
   "execution_count": 19,
   "metadata": {},
   "outputs": [
    {
     "data": {
      "text/html": [
       "<div>\n",
       "<style scoped>\n",
       "    .dataframe tbody tr th:only-of-type {\n",
       "        vertical-align: middle;\n",
       "    }\n",
       "\n",
       "    .dataframe tbody tr th {\n",
       "        vertical-align: top;\n",
       "    }\n",
       "\n",
       "    .dataframe thead th {\n",
       "        text-align: right;\n",
       "    }\n",
       "</style>\n",
       "<table border=\"1\" class=\"dataframe\">\n",
       "  <thead>\n",
       "    <tr style=\"text-align: right;\">\n",
       "      <th></th>\n",
       "      <th>age</th>\n",
       "      <th>workclass</th>\n",
       "      <th>fnlwgt</th>\n",
       "      <th>education</th>\n",
       "      <th>education.num</th>\n",
       "      <th>marital.status</th>\n",
       "      <th>occupation</th>\n",
       "      <th>relationship</th>\n",
       "      <th>race</th>\n",
       "      <th>sex</th>\n",
       "      <th>hours.per.week</th>\n",
       "    </tr>\n",
       "  </thead>\n",
       "  <tbody>\n",
       "    <tr>\n",
       "      <th>0</th>\n",
       "      <td>90</td>\n",
       "      <td>Private</td>\n",
       "      <td>77053</td>\n",
       "      <td>HS-grad</td>\n",
       "      <td>9</td>\n",
       "      <td>Widowed</td>\n",
       "      <td>Prof-specialty</td>\n",
       "      <td>Not-in-family</td>\n",
       "      <td>White</td>\n",
       "      <td>Female</td>\n",
       "      <td>40</td>\n",
       "    </tr>\n",
       "    <tr>\n",
       "      <th>1</th>\n",
       "      <td>82</td>\n",
       "      <td>Private</td>\n",
       "      <td>132870</td>\n",
       "      <td>HS-grad</td>\n",
       "      <td>9</td>\n",
       "      <td>Widowed</td>\n",
       "      <td>Exec-managerial</td>\n",
       "      <td>Not-in-family</td>\n",
       "      <td>White</td>\n",
       "      <td>Female</td>\n",
       "      <td>18</td>\n",
       "    </tr>\n",
       "  </tbody>\n",
       "</table>\n",
       "</div>"
      ],
      "text/plain": [
       "   age workclass  fnlwgt education  education.num marital.status  \\\n",
       "0   90   Private   77053   HS-grad              9        Widowed   \n",
       "1   82   Private  132870   HS-grad              9        Widowed   \n",
       "\n",
       "        occupation   relationship   race     sex  hours.per.week  \n",
       "0   Prof-specialty  Not-in-family  White  Female              40  \n",
       "1  Exec-managerial  Not-in-family  White  Female              18  "
      ]
     },
     "execution_count": 19,
     "metadata": {},
     "output_type": "execute_result"
    }
   ],
   "source": [
    "x = df.drop(labels = cat_drop + num_drop + ['income'],axis=1)\n",
    "y = df['income']\n",
    "x.head(2)"
   ]
  },
  {
   "cell_type": "code",
   "execution_count": 20,
   "metadata": {},
   "outputs": [
    {
     "data": {
      "text/plain": [
       "0    24720\n",
       "1     7841\n",
       "Name: income, dtype: int64"
      ]
     },
     "execution_count": 20,
     "metadata": {},
     "output_type": "execute_result"
    }
   ],
   "source": [
    "y.value_counts()"
   ]
  },
  {
   "cell_type": "code",
   "execution_count": 21,
   "metadata": {},
   "outputs": [
    {
     "data": {
      "image/png": "[encoded data removed]",
      "text/plain": [
       "<Figure size 432x288 with 1 Axes>"
      ]
     },
     "metadata": {
      "needs_background": "light"
     },
     "output_type": "display_data"
    }
   ],
   "source": [
    "#Let us take a look at education-num and education as these variables are largely similar in nature\n",
    "\n",
    "sns.boxplot('education.num','education',data=df)\n",
    "plt.show()"
   ]
  },
  {
   "cell_type": "code",
   "execution_count": 22,
   "metadata": {},
   "outputs": [
    {
     "data": {
      "text/html": [
       "<div>\n",
       "<style scoped>\n",
       "    .dataframe tbody tr th:only-of-type {\n",
       "        vertical-align: middle;\n",
       "    }\n",
       "\n",
       "    .dataframe tbody tr th {\n",
       "        vertical-align: top;\n",
       "    }\n",
       "\n",
       "    .dataframe thead th {\n",
       "        text-align: right;\n",
       "    }\n",
       "</style>\n",
       "<table border=\"1\" class=\"dataframe\">\n",
       "  <thead>\n",
       "    <tr style=\"text-align: right;\">\n",
       "      <th>education</th>\n",
       "      <th>10th</th>\n",
       "      <th>11th</th>\n",
       "      <th>12th</th>\n",
       "      <th>1st-4th</th>\n",
       "      <th>5th-6th</th>\n",
       "      <th>7th-8th</th>\n",
       "      <th>9th</th>\n",
       "      <th>Assoc-acdm</th>\n",
       "      <th>Assoc-voc</th>\n",
       "      <th>Bachelors</th>\n",
       "      <th>Doctorate</th>\n",
       "      <th>HS-grad</th>\n",
       "      <th>Masters</th>\n",
       "      <th>Preschool</th>\n",
       "      <th>Prof-school</th>\n",
       "      <th>Some-college</th>\n",
       "    </tr>\n",
       "    <tr>\n",
       "      <th>education.num</th>\n",
       "      <th></th>\n",
       "      <th></th>\n",
       "      <th></th>\n",
       "      <th></th>\n",
       "      <th></th>\n",
       "      <th></th>\n",
       "      <th></th>\n",
       "      <th></th>\n",
       "      <th></th>\n",
       "      <th></th>\n",
       "      <th></th>\n",
       "      <th></th>\n",
       "      <th></th>\n",
       "      <th></th>\n",
       "      <th></th>\n",
       "      <th></th>\n",
       "    </tr>\n",
       "  </thead>\n",
       "  <tbody>\n",
       "    <tr>\n",
       "      <th>1</th>\n",
       "      <td>0</td>\n",
       "      <td>0</td>\n",
       "      <td>0</td>\n",
       "      <td>0</td>\n",
       "      <td>0</td>\n",
       "      <td>0</td>\n",
       "      <td>0</td>\n",
       "      <td>0</td>\n",
       "      <td>0</td>\n",
       "      <td>0</td>\n",
       "      <td>0</td>\n",
       "      <td>0</td>\n",
       "      <td>0</td>\n",
       "      <td>51</td>\n",
       "      <td>0</td>\n",
       "      <td>0</td>\n",
       "    </tr>\n",
       "    <tr>\n",
       "      <th>2</th>\n",
       "      <td>0</td>\n",
       "      <td>0</td>\n",
       "      <td>0</td>\n",
       "      <td>168</td>\n",
       "      <td>0</td>\n",
       "      <td>0</td>\n",
       "      <td>0</td>\n",
       "      <td>0</td>\n",
       "      <td>0</td>\n",
       "      <td>0</td>\n",
       "      <td>0</td>\n",
       "      <td>0</td>\n",
       "      <td>0</td>\n",
       "      <td>0</td>\n",
       "      <td>0</td>\n",
       "      <td>0</td>\n",
       "    </tr>\n",
       "    <tr>\n",
       "      <th>3</th>\n",
       "      <td>0</td>\n",
       "      <td>0</td>\n",
       "      <td>0</td>\n",
       "      <td>0</td>\n",
       "      <td>333</td>\n",
       "      <td>0</td>\n",
       "      <td>0</td>\n",
       "      <td>0</td>\n",
       "      <td>0</td>\n",
       "      <td>0</td>\n",
       "      <td>0</td>\n",
       "      <td>0</td>\n",
       "      <td>0</td>\n",
       "      <td>0</td>\n",
       "      <td>0</td>\n",
       "      <td>0</td>\n",
       "    </tr>\n",
       "    <tr>\n",
       "      <th>4</th>\n",
       "      <td>0</td>\n",
       "      <td>0</td>\n",
       "      <td>0</td>\n",
       "      <td>0</td>\n",
       "      <td>0</td>\n",
       "      <td>646</td>\n",
       "      <td>0</td>\n",
       "      <td>0</td>\n",
       "      <td>0</td>\n",
       "      <td>0</td>\n",
       "      <td>0</td>\n",
       "      <td>0</td>\n",
       "      <td>0</td>\n",
       "      <td>0</td>\n",
       "      <td>0</td>\n",
       "      <td>0</td>\n",
       "    </tr>\n",
       "    <tr>\n",
       "      <th>5</th>\n",
       "      <td>0</td>\n",
       "      <td>0</td>\n",
       "      <td>0</td>\n",
       "      <td>0</td>\n",
       "      <td>0</td>\n",
       "      <td>0</td>\n",
       "      <td>514</td>\n",
       "      <td>0</td>\n",
       "      <td>0</td>\n",
       "      <td>0</td>\n",
       "      <td>0</td>\n",
       "      <td>0</td>\n",
       "      <td>0</td>\n",
       "      <td>0</td>\n",
       "      <td>0</td>\n",
       "      <td>0</td>\n",
       "    </tr>\n",
       "    <tr>\n",
       "      <th>6</th>\n",
       "      <td>933</td>\n",
       "      <td>0</td>\n",
       "      <td>0</td>\n",
       "      <td>0</td>\n",
       "      <td>0</td>\n",
       "      <td>0</td>\n",
       "      <td>0</td>\n",
       "      <td>0</td>\n",
       "      <td>0</td>\n",
       "      <td>0</td>\n",
       "      <td>0</td>\n",
       "      <td>0</td>\n",
       "      <td>0</td>\n",
       "      <td>0</td>\n",
       "      <td>0</td>\n",
       "      <td>0</td>\n",
       "    </tr>\n",
       "    <tr>\n",
       "      <th>7</th>\n",
       "      <td>0</td>\n",
       "      <td>1175</td>\n",
       "      <td>0</td>\n",
       "      <td>0</td>\n",
       "      <td>0</td>\n",
       "      <td>0</td>\n",
       "      <td>0</td>\n",
       "      <td>0</td>\n",
       "      <td>0</td>\n",
       "      <td>0</td>\n",
       "      <td>0</td>\n",
       "      <td>0</td>\n",
       "      <td>0</td>\n",
       "      <td>0</td>\n",
       "      <td>0</td>\n",
       "      <td>0</td>\n",
       "    </tr>\n",
       "    <tr>\n",
       "      <th>8</th>\n",
       "      <td>0</td>\n",
       "      <td>0</td>\n",
       "      <td>433</td>\n",
       "      <td>0</td>\n",
       "      <td>0</td>\n",
       "      <td>0</td>\n",
       "      <td>0</td>\n",
       "      <td>0</td>\n",
       "      <td>0</td>\n",
       "      <td>0</td>\n",
       "      <td>0</td>\n",
       "      <td>0</td>\n",
       "      <td>0</td>\n",
       "      <td>0</td>\n",
       "      <td>0</td>\n",
       "      <td>0</td>\n",
       "    </tr>\n",
       "    <tr>\n",
       "      <th>9</th>\n",
       "      <td>0</td>\n",
       "      <td>0</td>\n",
       "      <td>0</td>\n",
       "      <td>0</td>\n",
       "      <td>0</td>\n",
       "      <td>0</td>\n",
       "      <td>0</td>\n",
       "      <td>0</td>\n",
       "      <td>0</td>\n",
       "      <td>0</td>\n",
       "      <td>0</td>\n",
       "      <td>10501</td>\n",
       "      <td>0</td>\n",
       "      <td>0</td>\n",
       "      <td>0</td>\n",
       "      <td>0</td>\n",
       "    </tr>\n",
       "    <tr>\n",
       "      <th>10</th>\n",
       "      <td>0</td>\n",
       "      <td>0</td>\n",
       "      <td>0</td>\n",
       "      <td>0</td>\n",
       "      <td>0</td>\n",
       "      <td>0</td>\n",
       "      <td>0</td>\n",
       "      <td>0</td>\n",
       "      <td>0</td>\n",
       "      <td>0</td>\n",
       "      <td>0</td>\n",
       "      <td>0</td>\n",
       "      <td>0</td>\n",
       "      <td>0</td>\n",
       "      <td>0</td>\n",
       "      <td>7291</td>\n",
       "    </tr>\n",
       "    <tr>\n",
       "      <th>11</th>\n",
       "      <td>0</td>\n",
       "      <td>0</td>\n",
       "      <td>0</td>\n",
       "      <td>0</td>\n",
       "      <td>0</td>\n",
       "      <td>0</td>\n",
       "      <td>0</td>\n",
       "      <td>0</td>\n",
       "      <td>1382</td>\n",
       "      <td>0</td>\n",
       "      <td>0</td>\n",
       "      <td>0</td>\n",
       "      <td>0</td>\n",
       "      <td>0</td>\n",
       "      <td>0</td>\n",
       "      <td>0</td>\n",
       "    </tr>\n",
       "    <tr>\n",
       "      <th>12</th>\n",
       "      <td>0</td>\n",
       "      <td>0</td>\n",
       "      <td>0</td>\n",
       "      <td>0</td>\n",
       "      <td>0</td>\n",
       "      <td>0</td>\n",
       "      <td>0</td>\n",
       "      <td>1067</td>\n",
       "      <td>0</td>\n",
       "      <td>0</td>\n",
       "      <td>0</td>\n",
       "      <td>0</td>\n",
       "      <td>0</td>\n",
       "      <td>0</td>\n",
       "      <td>0</td>\n",
       "      <td>0</td>\n",
       "    </tr>\n",
       "    <tr>\n",
       "      <th>13</th>\n",
       "      <td>0</td>\n",
       "      <td>0</td>\n",
       "      <td>0</td>\n",
       "      <td>0</td>\n",
       "      <td>0</td>\n",
       "      <td>0</td>\n",
       "      <td>0</td>\n",
       "      <td>0</td>\n",
       "      <td>0</td>\n",
       "      <td>5355</td>\n",
       "      <td>0</td>\n",
       "      <td>0</td>\n",
       "      <td>0</td>\n",
       "      <td>0</td>\n",
       "      <td>0</td>\n",
       "      <td>0</td>\n",
       "    </tr>\n",
       "    <tr>\n",
       "      <th>14</th>\n",
       "      <td>0</td>\n",
       "      <td>0</td>\n",
       "      <td>0</td>\n",
       "      <td>0</td>\n",
       "      <td>0</td>\n",
       "      <td>0</td>\n",
       "      <td>0</td>\n",
       "      <td>0</td>\n",
       "      <td>0</td>\n",
       "      <td>0</td>\n",
       "      <td>0</td>\n",
       "      <td>0</td>\n",
       "      <td>1723</td>\n",
       "      <td>0</td>\n",
       "      <td>0</td>\n",
       "      <td>0</td>\n",
       "    </tr>\n",
       "    <tr>\n",
       "      <th>15</th>\n",
       "      <td>0</td>\n",
       "      <td>0</td>\n",
       "      <td>0</td>\n",
       "      <td>0</td>\n",
       "      <td>0</td>\n",
       "      <td>0</td>\n",
       "      <td>0</td>\n",
       "      <td>0</td>\n",
       "      <td>0</td>\n",
       "      <td>0</td>\n",
       "      <td>0</td>\n",
       "      <td>0</td>\n",
       "      <td>0</td>\n",
       "      <td>0</td>\n",
       "      <td>576</td>\n",
       "      <td>0</td>\n",
       "    </tr>\n",
       "    <tr>\n",
       "      <th>16</th>\n",
       "      <td>0</td>\n",
       "      <td>0</td>\n",
       "      <td>0</td>\n",
       "      <td>0</td>\n",
       "      <td>0</td>\n",
       "      <td>0</td>\n",
       "      <td>0</td>\n",
       "      <td>0</td>\n",
       "      <td>0</td>\n",
       "      <td>0</td>\n",
       "      <td>413</td>\n",
       "      <td>0</td>\n",
       "      <td>0</td>\n",
       "      <td>0</td>\n",
       "      <td>0</td>\n",
       "      <td>0</td>\n",
       "    </tr>\n",
       "  </tbody>\n",
       "</table>\n",
       "</div>"
      ],
      "text/plain": [
       "education      10th  11th  12th  1st-4th  5th-6th  7th-8th  9th  Assoc-acdm  \\\n",
       "education.num                                                                 \n",
       "1                 0     0     0        0        0        0    0           0   \n",
       "2                 0     0     0      168        0        0    0           0   \n",
       "3                 0     0     0        0      333        0    0           0   \n",
       "4                 0     0     0        0        0      646    0           0   \n",
       "5                 0     0     0        0        0        0  514           0   \n",
       "6               933     0     0        0        0        0    0           0   \n",
       "7                 0  1175     0        0        0        0    0           0   \n",
       "8                 0     0   433        0        0        0    0           0   \n",
       "9                 0     0     0        0        0        0    0           0   \n",
       "10                0     0     0        0        0        0    0           0   \n",
       "11                0     0     0        0        0        0    0           0   \n",
       "12                0     0     0        0        0        0    0        1067   \n",
       "13                0     0     0        0        0        0    0           0   \n",
       "14                0     0     0        0        0        0    0           0   \n",
       "15                0     0     0        0        0        0    0           0   \n",
       "16                0     0     0        0        0        0    0           0   \n",
       "\n",
       "education      Assoc-voc  Bachelors  Doctorate  HS-grad  Masters  Preschool  \\\n",
       "education.num                                                                 \n",
       "1                      0          0          0        0        0         51   \n",
       "2                      0          0          0        0        0          0   \n",
       "3                      0          0          0        0        0          0   \n",
       "4                      0          0          0        0        0          0   \n",
       "5                      0          0          0        0        0          0   \n",
       "6                      0          0          0        0        0          0   \n",
       "7                      0          0          0        0        0          0   \n",
       "8                      0          0          0        0        0          0   \n",
       "9                      0          0          0    10501        0          0   \n",
       "10                     0          0          0        0        0          0   \n",
       "11                  1382          0          0        0        0          0   \n",
       "12                     0          0          0        0        0          0   \n",
       "13                     0       5355          0        0        0          0   \n",
       "14                     0          0          0        0     1723          0   \n",
       "15                     0          0          0        0        0          0   \n",
       "16                     0          0        413        0        0          0   \n",
       "\n",
       "education      Prof-school  Some-college  \n",
       "education.num                             \n",
       "1                        0             0  \n",
       "2                        0             0  \n",
       "3                        0             0  \n",
       "4                        0             0  \n",
       "5                        0             0  \n",
       "6                        0             0  \n",
       "7                        0             0  \n",
       "8                        0             0  \n",
       "9                        0             0  \n",
       "10                       0          7291  \n",
       "11                       0             0  \n",
       "12                       0             0  \n",
       "13                       0             0  \n",
       "14                       0             0  \n",
       "15                     576             0  \n",
       "16                       0             0  "
      ]
     },
     "execution_count": 22,
     "metadata": {},
     "output_type": "execute_result"
    }
   ],
   "source": [
    "ed_cross = pd.crosstab(df['education.num'],df['education'])\n",
    "ed_cross"
   ]
  },
  {
   "cell_type": "markdown",
   "metadata": {},
   "source": [
    "Above cross tab shows that each education number corresponds to an education level and represents the same data. Hence, we drop the education column from our feature matrix to avoid redundant data"
   ]
  },
  {
   "cell_type": "code",
   "execution_count": 23,
   "metadata": {},
   "outputs": [
    {
     "data": {
      "text/plain": [
       "Private             75.341666\n",
       "Self-emp-not-inc     7.803814\n",
       "Local-gov            6.427935\n",
       "State-gov            3.986364\n",
       "Self-emp-inc         3.427413\n",
       "Federal-gov          2.948312\n",
       "Without-pay          0.042996\n",
       "Never-worked         0.021498\n",
       "Name: workclass, dtype: float64"
      ]
     },
     "execution_count": 23,
     "metadata": {},
     "output_type": "execute_result"
    }
   ],
   "source": [
    "#Feature Engineering\n",
    "#Workclass :74% of individuals work in the private sector. Let us consolidate all other categories under a common head of 'Non-Private'\n",
    "\n",
    "x['workclass'].value_counts(normalize=True)*100"
   ]
  },
  {
   "cell_type": "code",
   "execution_count": 24,
   "metadata": {},
   "outputs": [
    {
     "data": {
      "text/plain": [
       "Private        75.341666\n",
       "Non-Private    24.658334\n",
       "Name: workclass, dtype: float64"
      ]
     },
     "execution_count": 24,
     "metadata": {},
     "output_type": "execute_result"
    }
   ],
   "source": [
    "#Listing all options other than private\n",
    "to_replace = list(x['workclass'].unique())\n",
    "to_replace.remove('Private')\n",
    "\n",
    "#Placing all other categories under one bracket\n",
    "x.replace(to_replace,'Non-Private',inplace=True)\n",
    "x['workclass'].value_counts(normalize=True)*100"
   ]
  },
  {
   "cell_type": "code",
   "execution_count": 25,
   "metadata": {},
   "outputs": [
    {
     "data": {
      "text/plain": [
       "White                 85.427352\n",
       "Black                  9.594300\n",
       "Asian-Pac-Islander     3.190934\n",
       "Amer-Indian-Eskimo     0.955130\n",
       "Other                  0.832284\n",
       "Name: race, dtype: float64"
      ]
     },
     "execution_count": 25,
     "metadata": {},
     "output_type": "execute_result"
    }
   ],
   "source": [
    "#86% of individuals are whites hence let us club all other races under a common 'Other' bracket to reduce the number of categories\n",
    "x['race'].value_counts(normalize=True)*100"
   ]
  },
  {
   "cell_type": "code",
   "execution_count": 26,
   "metadata": {},
   "outputs": [
    {
     "data": {
      "text/plain": [
       "White    85.427352\n",
       "Other    14.572648\n",
       "Name: race, dtype: float64"
      ]
     },
     "execution_count": 26,
     "metadata": {},
     "output_type": "execute_result"
    }
   ],
   "source": [
    "#Listing all options other than white\n",
    "to_replace = list(x['race'].unique())\n",
    "to_replace.remove('White')\n",
    "\n",
    "#Placing all other categories under one bracket\n",
    "x.replace(to_replace,'Other',inplace=True)\n",
    "x['race'].value_counts(normalize=True)*100"
   ]
  },
  {
   "cell_type": "code",
   "execution_count": 27,
   "metadata": {},
   "outputs": [
    {
     "data": {
      "text/plain": [
       "Married-civ-spouse       45.993673\n",
       "Never-married            32.809189\n",
       "Divorced                 13.645158\n",
       "Separated                 3.147938\n",
       "Widowed                   3.049661\n",
       "Married-spouse-absent     1.283744\n",
       "Married-AF-spouse         0.070637\n",
       "Name: marital.status, dtype: float64"
      ]
     },
     "execution_count": 27,
     "metadata": {},
     "output_type": "execute_result"
    }
   ],
   "source": [
    "x['marital.status'].value_counts(normalize=True)*100"
   ]
  },
  {
   "cell_type": "code",
   "execution_count": 28,
   "metadata": {},
   "outputs": [
    {
     "data": {
      "text/plain": [
       "Married    67.190811\n",
       "Single     32.809189\n",
       "Name: marital.status, dtype: float64"
      ]
     },
     "execution_count": 28,
     "metadata": {},
     "output_type": "execute_result"
    }
   ],
   "source": [
    "#Let us consolidate all options where individuals were married at least once (i.e. all options other than never-married)\n",
    "to_replace = list(x['marital.status'].unique())\n",
    "to_replace.remove('Never-married')\n",
    "\n",
    "#Placing all other categories under one bracket\n",
    "x.replace(to_replace,'Married',inplace=True)\n",
    "\n",
    "#Renaming the 'Never-married' category to 'Single'\n",
    "x.replace('Never-married','Single',inplace=True)\n",
    "\n",
    "#Checking the final output\n",
    "x['marital.status'].value_counts(normalize=True)*100"
   ]
  },
  {
   "cell_type": "code",
   "execution_count": 29,
   "metadata": {},
   "outputs": [
    {
     "data": {
      "text/html": [
       "<div>\n",
       "<style scoped>\n",
       "    .dataframe tbody tr th:only-of-type {\n",
       "        vertical-align: middle;\n",
       "    }\n",
       "\n",
       "    .dataframe tbody tr th {\n",
       "        vertical-align: top;\n",
       "    }\n",
       "\n",
       "    .dataframe thead th {\n",
       "        text-align: right;\n",
       "    }\n",
       "</style>\n",
       "<table border=\"1\" class=\"dataframe\">\n",
       "  <thead>\n",
       "    <tr style=\"text-align: right;\">\n",
       "      <th></th>\n",
       "      <th>age</th>\n",
       "      <th>workclass</th>\n",
       "      <th>fnlwgt</th>\n",
       "      <th>education</th>\n",
       "      <th>education.num</th>\n",
       "      <th>marital.status</th>\n",
       "      <th>occupation</th>\n",
       "      <th>relationship</th>\n",
       "      <th>race</th>\n",
       "      <th>sex</th>\n",
       "      <th>hours.per.week</th>\n",
       "    </tr>\n",
       "  </thead>\n",
       "  <tbody>\n",
       "    <tr>\n",
       "      <th>0</th>\n",
       "      <td>90</td>\n",
       "      <td>Private</td>\n",
       "      <td>77053</td>\n",
       "      <td>HS-grad</td>\n",
       "      <td>9</td>\n",
       "      <td>Married</td>\n",
       "      <td>Prof-specialty</td>\n",
       "      <td>Not-in-family</td>\n",
       "      <td>White</td>\n",
       "      <td>Female</td>\n",
       "      <td>40</td>\n",
       "    </tr>\n",
       "    <tr>\n",
       "      <th>1</th>\n",
       "      <td>82</td>\n",
       "      <td>Private</td>\n",
       "      <td>132870</td>\n",
       "      <td>HS-grad</td>\n",
       "      <td>9</td>\n",
       "      <td>Married</td>\n",
       "      <td>Exec-managerial</td>\n",
       "      <td>Not-in-family</td>\n",
       "      <td>White</td>\n",
       "      <td>Female</td>\n",
       "      <td>18</td>\n",
       "    </tr>\n",
       "  </tbody>\n",
       "</table>\n",
       "</div>"
      ],
      "text/plain": [
       "   age workclass  fnlwgt education  education.num marital.status  \\\n",
       "0   90   Private   77053   HS-grad              9        Married   \n",
       "1   82   Private  132870   HS-grad              9        Married   \n",
       "\n",
       "        occupation   relationship   race     sex  hours.per.week  \n",
       "0   Prof-specialty  Not-in-family  White  Female              40  \n",
       "1  Exec-managerial  Not-in-family  White  Female              18  "
      ]
     },
     "execution_count": 29,
     "metadata": {},
     "output_type": "execute_result"
    }
   ],
   "source": [
    "#encoding, splitting and scaling\n",
    "\n",
    "x.head(2)"
   ]
  },
  {
   "cell_type": "code",
   "execution_count": 30,
   "metadata": {},
   "outputs": [
    {
     "data": {
      "text/plain": [
       "(32561, 11)"
      ]
     },
     "execution_count": 30,
     "metadata": {},
     "output_type": "execute_result"
    }
   ],
   "source": [
    "x.shape"
   ]
  },
  {
   "cell_type": "code",
   "execution_count": 31,
   "metadata": {},
   "outputs": [],
   "source": [
    "#Separating the categorical variables in feature matrix that need to be encoded \n",
    "\n",
    "cols_x = pd.DataFrame(x.dtypes)\n",
    "x_cat_cols = list(cols_x[cols_x[0]=='object'].index)\n",
    "x_num_cols = list(cols_x[cols_x[0]=='int64'].index)"
   ]
  },
  {
   "cell_type": "code",
   "execution_count": 32,
   "metadata": {},
   "outputs": [
    {
     "data": {
      "text/plain": [
       "['age', 'fnlwgt', 'education.num', 'hours.per.week']"
      ]
     },
     "execution_count": 32,
     "metadata": {},
     "output_type": "execute_result"
    }
   ],
   "source": [
    "x_num_cols"
   ]
  },
  {
   "cell_type": "code",
   "execution_count": 33,
   "metadata": {},
   "outputs": [],
   "source": [
    "x = pd.get_dummies(data=x,prefix=x_cat_cols,drop_first=True)"
   ]
  },
  {
   "cell_type": "code",
   "execution_count": 34,
   "metadata": {},
   "outputs": [
    {
     "data": {
      "text/html": [
       "<div>\n",
       "<style scoped>\n",
       "    .dataframe tbody tr th:only-of-type {\n",
       "        vertical-align: middle;\n",
       "    }\n",
       "\n",
       "    .dataframe tbody tr th {\n",
       "        vertical-align: top;\n",
       "    }\n",
       "\n",
       "    .dataframe thead th {\n",
       "        text-align: right;\n",
       "    }\n",
       "</style>\n",
       "<table border=\"1\" class=\"dataframe\">\n",
       "  <thead>\n",
       "    <tr style=\"text-align: right;\">\n",
       "      <th></th>\n",
       "      <th>age</th>\n",
       "      <th>fnlwgt</th>\n",
       "      <th>education.num</th>\n",
       "      <th>hours.per.week</th>\n",
       "      <th>workclass_Private</th>\n",
       "      <th>education_11th</th>\n",
       "      <th>education_12th</th>\n",
       "      <th>education_1st-4th</th>\n",
       "      <th>education_5th-6th</th>\n",
       "      <th>education_7th-8th</th>\n",
       "      <th>...</th>\n",
       "      <th>occupation_Sales</th>\n",
       "      <th>occupation_Tech-support</th>\n",
       "      <th>occupation_Transport-moving</th>\n",
       "      <th>relationship_Not-in-family</th>\n",
       "      <th>relationship_Other-relative</th>\n",
       "      <th>relationship_Own-child</th>\n",
       "      <th>relationship_Unmarried</th>\n",
       "      <th>relationship_Wife</th>\n",
       "      <th>race_White</th>\n",
       "      <th>sex_Male</th>\n",
       "    </tr>\n",
       "  </thead>\n",
       "  <tbody>\n",
       "    <tr>\n",
       "      <th>0</th>\n",
       "      <td>90</td>\n",
       "      <td>77053</td>\n",
       "      <td>9</td>\n",
       "      <td>40</td>\n",
       "      <td>1</td>\n",
       "      <td>0</td>\n",
       "      <td>0</td>\n",
       "      <td>0</td>\n",
       "      <td>0</td>\n",
       "      <td>0</td>\n",
       "      <td>...</td>\n",
       "      <td>0</td>\n",
       "      <td>0</td>\n",
       "      <td>0</td>\n",
       "      <td>1</td>\n",
       "      <td>0</td>\n",
       "      <td>0</td>\n",
       "      <td>0</td>\n",
       "      <td>0</td>\n",
       "      <td>1</td>\n",
       "      <td>0</td>\n",
       "    </tr>\n",
       "    <tr>\n",
       "      <th>1</th>\n",
       "      <td>82</td>\n",
       "      <td>132870</td>\n",
       "      <td>9</td>\n",
       "      <td>18</td>\n",
       "      <td>1</td>\n",
       "      <td>0</td>\n",
       "      <td>0</td>\n",
       "      <td>0</td>\n",
       "      <td>0</td>\n",
       "      <td>0</td>\n",
       "      <td>...</td>\n",
       "      <td>0</td>\n",
       "      <td>0</td>\n",
       "      <td>0</td>\n",
       "      <td>1</td>\n",
       "      <td>0</td>\n",
       "      <td>0</td>\n",
       "      <td>0</td>\n",
       "      <td>0</td>\n",
       "      <td>1</td>\n",
       "      <td>0</td>\n",
       "    </tr>\n",
       "    <tr>\n",
       "      <th>2</th>\n",
       "      <td>66</td>\n",
       "      <td>186061</td>\n",
       "      <td>10</td>\n",
       "      <td>40</td>\n",
       "      <td>1</td>\n",
       "      <td>0</td>\n",
       "      <td>0</td>\n",
       "      <td>0</td>\n",
       "      <td>0</td>\n",
       "      <td>0</td>\n",
       "      <td>...</td>\n",
       "      <td>0</td>\n",
       "      <td>0</td>\n",
       "      <td>0</td>\n",
       "      <td>0</td>\n",
       "      <td>0</td>\n",
       "      <td>0</td>\n",
       "      <td>1</td>\n",
       "      <td>0</td>\n",
       "      <td>0</td>\n",
       "      <td>0</td>\n",
       "    </tr>\n",
       "    <tr>\n",
       "      <th>3</th>\n",
       "      <td>54</td>\n",
       "      <td>140359</td>\n",
       "      <td>4</td>\n",
       "      <td>40</td>\n",
       "      <td>1</td>\n",
       "      <td>0</td>\n",
       "      <td>0</td>\n",
       "      <td>0</td>\n",
       "      <td>0</td>\n",
       "      <td>1</td>\n",
       "      <td>...</td>\n",
       "      <td>0</td>\n",
       "      <td>0</td>\n",
       "      <td>0</td>\n",
       "      <td>0</td>\n",
       "      <td>0</td>\n",
       "      <td>0</td>\n",
       "      <td>1</td>\n",
       "      <td>0</td>\n",
       "      <td>1</td>\n",
       "      <td>0</td>\n",
       "    </tr>\n",
       "    <tr>\n",
       "      <th>4</th>\n",
       "      <td>41</td>\n",
       "      <td>264663</td>\n",
       "      <td>10</td>\n",
       "      <td>40</td>\n",
       "      <td>1</td>\n",
       "      <td>0</td>\n",
       "      <td>0</td>\n",
       "      <td>0</td>\n",
       "      <td>0</td>\n",
       "      <td>0</td>\n",
       "      <td>...</td>\n",
       "      <td>0</td>\n",
       "      <td>0</td>\n",
       "      <td>0</td>\n",
       "      <td>0</td>\n",
       "      <td>0</td>\n",
       "      <td>1</td>\n",
       "      <td>0</td>\n",
       "      <td>0</td>\n",
       "      <td>1</td>\n",
       "      <td>0</td>\n",
       "    </tr>\n",
       "  </tbody>\n",
       "</table>\n",
       "<p>5 rows × 41 columns</p>\n",
       "</div>"
      ],
      "text/plain": [
       "   age  fnlwgt  education.num  hours.per.week  workclass_Private  \\\n",
       "0   90   77053              9              40                  1   \n",
       "1   82  132870              9              18                  1   \n",
       "2   66  186061             10              40                  1   \n",
       "3   54  140359              4              40                  1   \n",
       "4   41  264663             10              40                  1   \n",
       "\n",
       "   education_11th  education_12th  education_1st-4th  education_5th-6th  \\\n",
       "0               0               0                  0                  0   \n",
       "1               0               0                  0                  0   \n",
       "2               0               0                  0                  0   \n",
       "3               0               0                  0                  0   \n",
       "4               0               0                  0                  0   \n",
       "\n",
       "   education_7th-8th  ...  occupation_Sales  occupation_Tech-support  \\\n",
       "0                  0  ...                 0                        0   \n",
       "1                  0  ...                 0                        0   \n",
       "2                  0  ...                 0                        0   \n",
       "3                  1  ...                 0                        0   \n",
       "4                  0  ...                 0                        0   \n",
       "\n",
       "   occupation_Transport-moving  relationship_Not-in-family  \\\n",
       "0                            0                           1   \n",
       "1                            0                           1   \n",
       "2                            0                           0   \n",
       "3                            0                           0   \n",
       "4                            0                           0   \n",
       "\n",
       "   relationship_Other-relative  relationship_Own-child  \\\n",
       "0                            0                       0   \n",
       "1                            0                       0   \n",
       "2                            0                       0   \n",
       "3                            0                       0   \n",
       "4                            0                       1   \n",
       "\n",
       "   relationship_Unmarried  relationship_Wife  race_White  sex_Male  \n",
       "0                       0                  0           1         0  \n",
       "1                       0                  0           1         0  \n",
       "2                       1                  0           0         0  \n",
       "3                       1                  0           1         0  \n",
       "4                       0                  0           1         0  \n",
       "\n",
       "[5 rows x 41 columns]"
      ]
     },
     "execution_count": 34,
     "metadata": {},
     "output_type": "execute_result"
    }
   ],
   "source": [
    "x.head(5)"
   ]
  },
  {
   "cell_type": "markdown",
   "metadata": {},
   "source": [
    "Now lets split the data into training and testing sets"
   ]
  },
  {
   "cell_type": "code",
   "execution_count": 35,
   "metadata": {},
   "outputs": [],
   "source": [
    "from sklearn.model_selection import train_test_split\n",
    "\n",
    "x_train, x_test, y_train, y_test = train_test_split(x, y, test_size = 0.3, random_state = 0)"
   ]
  },
  {
   "cell_type": "markdown",
   "metadata": {},
   "source": [
    "Feature Engineering "
   ]
  },
  {
   "cell_type": "code",
   "execution_count": 36,
   "metadata": {},
   "outputs": [],
   "source": [
    "#FEATURE SCALING\n",
    "\n",
    "#lets use standard scaler function\n",
    "\n",
    "from sklearn.preprocessing import StandardScaler\n",
    "\n",
    "sc = StandardScaler()\n",
    "x_train = pd.DataFrame(sc.fit_transform(x_train), columns = x.columns)\n",
    "\n",
    "x_test = pd.DataFrame(sc.transform(x_test), columns = x.columns)\n",
    "\n",
    "x_train[x_num_cols] = sc.fit_transform(x_train[x_num_cols])\n",
    "x_test[x_num_cols] = sc.transform(x_test[x_num_cols])"
   ]
  },
  {
   "cell_type": "code",
   "execution_count": null,
   "metadata": {},
   "outputs": [],
   "source": []
  },
  {
   "cell_type": "code",
   "execution_count": 37,
   "metadata": {},
   "outputs": [
    {
     "data": {
      "text/html": [
       "<div>\n",
       "<style scoped>\n",
       "    .dataframe tbody tr th:only-of-type {\n",
       "        vertical-align: middle;\n",
       "    }\n",
       "\n",
       "    .dataframe tbody tr th {\n",
       "        vertical-align: top;\n",
       "    }\n",
       "\n",
       "    .dataframe thead th {\n",
       "        text-align: right;\n",
       "    }\n",
       "</style>\n",
       "<table border=\"1\" class=\"dataframe\">\n",
       "  <thead>\n",
       "    <tr style=\"text-align: right;\">\n",
       "      <th></th>\n",
       "      <th>age</th>\n",
       "      <th>fnlwgt</th>\n",
       "      <th>education.num</th>\n",
       "      <th>hours.per.week</th>\n",
       "      <th>workclass_Private</th>\n",
       "      <th>education_11th</th>\n",
       "      <th>education_12th</th>\n",
       "      <th>education_1st-4th</th>\n",
       "      <th>education_5th-6th</th>\n",
       "      <th>education_7th-8th</th>\n",
       "      <th>...</th>\n",
       "      <th>occupation_Sales</th>\n",
       "      <th>occupation_Tech-support</th>\n",
       "      <th>occupation_Transport-moving</th>\n",
       "      <th>relationship_Not-in-family</th>\n",
       "      <th>relationship_Other-relative</th>\n",
       "      <th>relationship_Own-child</th>\n",
       "      <th>relationship_Unmarried</th>\n",
       "      <th>relationship_Wife</th>\n",
       "      <th>race_White</th>\n",
       "      <th>sex_Male</th>\n",
       "    </tr>\n",
       "  </thead>\n",
       "  <tbody>\n",
       "    <tr>\n",
       "      <th>0</th>\n",
       "      <td>0.101484</td>\n",
       "      <td>-1.494279</td>\n",
       "      <td>1.133894</td>\n",
       "      <td>-1.662414</td>\n",
       "      <td>-1.736724</td>\n",
       "      <td>-0.19294</td>\n",
       "      <td>-0.118763</td>\n",
       "      <td>-0.069957</td>\n",
       "      <td>-0.099402</td>\n",
       "      <td>-0.144947</td>\n",
       "      <td>...</td>\n",
       "      <td>-0.352025</td>\n",
       "      <td>-0.169153</td>\n",
       "      <td>-0.225296</td>\n",
       "      <td>-0.584038</td>\n",
       "      <td>-0.176424</td>\n",
       "      <td>-0.430886</td>\n",
       "      <td>-0.341945</td>\n",
       "      <td>4.442843</td>\n",
       "      <td>0.412408</td>\n",
       "      <td>-1.430470</td>\n",
       "    </tr>\n",
       "    <tr>\n",
       "      <th>1</th>\n",
       "      <td>0.028248</td>\n",
       "      <td>0.438778</td>\n",
       "      <td>-0.423425</td>\n",
       "      <td>-0.200753</td>\n",
       "      <td>-1.736724</td>\n",
       "      <td>-0.19294</td>\n",
       "      <td>-0.118763</td>\n",
       "      <td>-0.069957</td>\n",
       "      <td>-0.099402</td>\n",
       "      <td>-0.144947</td>\n",
       "      <td>...</td>\n",
       "      <td>-0.352025</td>\n",
       "      <td>-0.169153</td>\n",
       "      <td>-0.225296</td>\n",
       "      <td>-0.584038</td>\n",
       "      <td>-0.176424</td>\n",
       "      <td>-0.430886</td>\n",
       "      <td>-0.341945</td>\n",
       "      <td>-0.225081</td>\n",
       "      <td>0.412408</td>\n",
       "      <td>0.699071</td>\n",
       "    </tr>\n",
       "    <tr>\n",
       "      <th>2</th>\n",
       "      <td>0.247956</td>\n",
       "      <td>0.045292</td>\n",
       "      <td>-0.034095</td>\n",
       "      <td>-0.038346</td>\n",
       "      <td>0.575797</td>\n",
       "      <td>-0.19294</td>\n",
       "      <td>-0.118763</td>\n",
       "      <td>-0.069957</td>\n",
       "      <td>-0.099402</td>\n",
       "      <td>-0.144947</td>\n",
       "      <td>...</td>\n",
       "      <td>-0.352025</td>\n",
       "      <td>-0.169153</td>\n",
       "      <td>-0.225296</td>\n",
       "      <td>1.712218</td>\n",
       "      <td>-0.176424</td>\n",
       "      <td>-0.430886</td>\n",
       "      <td>-0.341945</td>\n",
       "      <td>-0.225081</td>\n",
       "      <td>0.412408</td>\n",
       "      <td>-1.430470</td>\n",
       "    </tr>\n",
       "    <tr>\n",
       "      <th>3</th>\n",
       "      <td>-0.850587</td>\n",
       "      <td>0.793152</td>\n",
       "      <td>-0.423425</td>\n",
       "      <td>-0.038346</td>\n",
       "      <td>-1.736724</td>\n",
       "      <td>-0.19294</td>\n",
       "      <td>-0.118763</td>\n",
       "      <td>-0.069957</td>\n",
       "      <td>-0.099402</td>\n",
       "      <td>-0.144947</td>\n",
       "      <td>...</td>\n",
       "      <td>-0.352025</td>\n",
       "      <td>-0.169153</td>\n",
       "      <td>-0.225296</td>\n",
       "      <td>-0.584038</td>\n",
       "      <td>-0.176424</td>\n",
       "      <td>2.320798</td>\n",
       "      <td>-0.341945</td>\n",
       "      <td>-0.225081</td>\n",
       "      <td>0.412408</td>\n",
       "      <td>0.699071</td>\n",
       "    </tr>\n",
       "    <tr>\n",
       "      <th>4</th>\n",
       "      <td>-0.044989</td>\n",
       "      <td>-0.853275</td>\n",
       "      <td>1.523223</td>\n",
       "      <td>-0.038346</td>\n",
       "      <td>-1.736724</td>\n",
       "      <td>-0.19294</td>\n",
       "      <td>-0.118763</td>\n",
       "      <td>-0.069957</td>\n",
       "      <td>-0.099402</td>\n",
       "      <td>-0.144947</td>\n",
       "      <td>...</td>\n",
       "      <td>-0.352025</td>\n",
       "      <td>-0.169153</td>\n",
       "      <td>-0.225296</td>\n",
       "      <td>-0.584038</td>\n",
       "      <td>-0.176424</td>\n",
       "      <td>-0.430886</td>\n",
       "      <td>-0.341945</td>\n",
       "      <td>-0.225081</td>\n",
       "      <td>0.412408</td>\n",
       "      <td>0.699071</td>\n",
       "    </tr>\n",
       "  </tbody>\n",
       "</table>\n",
       "<p>5 rows × 41 columns</p>\n",
       "</div>"
      ],
      "text/plain": [
       "        age    fnlwgt  education.num  hours.per.week  workclass_Private  \\\n",
       "0  0.101484 -1.494279       1.133894       -1.662414          -1.736724   \n",
       "1  0.028248  0.438778      -0.423425       -0.200753          -1.736724   \n",
       "2  0.247956  0.045292      -0.034095       -0.038346           0.575797   \n",
       "3 -0.850587  0.793152      -0.423425       -0.038346          -1.736724   \n",
       "4 -0.044989 -0.853275       1.523223       -0.038346          -1.736724   \n",
       "\n",
       "   education_11th  education_12th  education_1st-4th  education_5th-6th  \\\n",
       "0        -0.19294       -0.118763          -0.069957          -0.099402   \n",
       "1        -0.19294       -0.118763          -0.069957          -0.099402   \n",
       "2        -0.19294       -0.118763          -0.069957          -0.099402   \n",
       "3        -0.19294       -0.118763          -0.069957          -0.099402   \n",
       "4        -0.19294       -0.118763          -0.069957          -0.099402   \n",
       "\n",
       "   education_7th-8th  ...  occupation_Sales  occupation_Tech-support  \\\n",
       "0          -0.144947  ...         -0.352025                -0.169153   \n",
       "1          -0.144947  ...         -0.352025                -0.169153   \n",
       "2          -0.144947  ...         -0.352025                -0.169153   \n",
       "3          -0.144947  ...         -0.352025                -0.169153   \n",
       "4          -0.144947  ...         -0.352025                -0.169153   \n",
       "\n",
       "   occupation_Transport-moving  relationship_Not-in-family  \\\n",
       "0                    -0.225296                   -0.584038   \n",
       "1                    -0.225296                   -0.584038   \n",
       "2                    -0.225296                    1.712218   \n",
       "3                    -0.225296                   -0.584038   \n",
       "4                    -0.225296                   -0.584038   \n",
       "\n",
       "   relationship_Other-relative  relationship_Own-child  \\\n",
       "0                    -0.176424               -0.430886   \n",
       "1                    -0.176424               -0.430886   \n",
       "2                    -0.176424               -0.430886   \n",
       "3                    -0.176424                2.320798   \n",
       "4                    -0.176424               -0.430886   \n",
       "\n",
       "   relationship_Unmarried  relationship_Wife  race_White  sex_Male  \n",
       "0               -0.341945           4.442843    0.412408 -1.430470  \n",
       "1               -0.341945          -0.225081    0.412408  0.699071  \n",
       "2               -0.341945          -0.225081    0.412408 -1.430470  \n",
       "3               -0.341945          -0.225081    0.412408  0.699071  \n",
       "4               -0.341945          -0.225081    0.412408  0.699071  \n",
       "\n",
       "[5 rows x 41 columns]"
      ]
     },
     "execution_count": 37,
     "metadata": {},
     "output_type": "execute_result"
    }
   ],
   "source": [
    "x_train.head()"
   ]
  },
  {
   "cell_type": "code",
   "execution_count": 38,
   "metadata": {},
   "outputs": [],
   "source": [
    "from sklearn.metrics import roc_auc_score, accuracy_score, classification_report, confusion_matrix, roc_curve, log_loss, brier_score_loss"
   ]
  },
  {
   "cell_type": "markdown",
   "metadata": {},
   "source": [
    "Now the data has been scaled to fit into the testing "
   ]
  },
  {
   "cell_type": "markdown",
   "metadata": {},
   "source": [
    "Since the target column shows categorial value (0 or 1 in this case), we will use logistic regression"
   ]
  },
  {
   "cell_type": "code",
   "execution_count": 39,
   "metadata": {},
   "outputs": [
    {
     "name": "stdout",
     "output_type": "stream",
     "text": [
      "Logistic Regression accuracy score with all the features: 0.8278\n"
     ]
    }
   ],
   "source": [
    "#Logistic Regression\n",
    "\n",
    "from sklearn.linear_model import LogisticRegression\n",
    "from sklearn.metrics import accuracy_score\n",
    "\n",
    "logreg = LogisticRegression()\n",
    "logreg.fit(x_train, y_train)\n",
    "y_pred = logreg.predict(x_test)\n",
    "\n",
    "\n",
    "print('Logistic Regression accuracy score with all the features: {0:0.4f}'. format(accuracy_score(y_test, y_pred)))"
   ]
  },
  {
   "cell_type": "code",
   "execution_count": 40,
   "metadata": {},
   "outputs": [
    {
     "name": "stdout",
     "output_type": "stream",
     "text": [
      "ROC AUC score :  0.8817380703527822\n",
      "{'C': 1.0, 'class_weight': None, 'dual': False, 'fit_intercept': True, 'intercept_scaling': 1, 'l1_ratio': None, 'max_iter': 100, 'multi_class': 'auto', 'n_jobs': None, 'penalty': 'l2', 'random_state': 101, 'solver': 'lbfgs', 'tol': 0.0001, 'verbose': 0, 'warm_start': False}\n"
     ]
    }
   ],
   "source": [
    "from sklearn.linear_model import LogisticRegression\n",
    "log = LogisticRegression(random_state=101)\n",
    "log.fit(x_train,y_train)\n",
    "log_y_pred = log.predict_proba(x_test)\n",
    "log_roc = roc_auc_score(y_test,log_y_pred[:,-1])\n",
    "print('ROC AUC score : ',log_roc)\n",
    "print(log.get_params())"
   ]
  },
  {
   "cell_type": "code",
   "execution_count": 41,
   "metadata": {},
   "outputs": [
    {
     "data": {
      "text/html": [
       "<div>\n",
       "<style scoped>\n",
       "    .dataframe tbody tr th:only-of-type {\n",
       "        vertical-align: middle;\n",
       "    }\n",
       "\n",
       "    .dataframe tbody tr th {\n",
       "        vertical-align: top;\n",
       "    }\n",
       "\n",
       "    .dataframe thead th {\n",
       "        text-align: right;\n",
       "    }\n",
       "</style>\n",
       "<table border=\"1\" class=\"dataframe\">\n",
       "  <thead>\n",
       "    <tr style=\"text-align: right;\">\n",
       "      <th></th>\n",
       "      <th>ROC AUC Score</th>\n",
       "    </tr>\n",
       "  </thead>\n",
       "  <tbody>\n",
       "    <tr>\n",
       "      <th>Baseline Logistic Regression</th>\n",
       "      <td>0.881738</td>\n",
       "    </tr>\n",
       "  </tbody>\n",
       "</table>\n",
       "</div>"
      ],
      "text/plain": [
       "                              ROC AUC Score\n",
       "Baseline Logistic Regression       0.881738"
      ]
     },
     "execution_count": 41,
     "metadata": {},
     "output_type": "execute_result"
    }
   ],
   "source": [
    "d = {'Baseline Logistic Regression' : [log_roc]}\n",
    "\n",
    "results = pd.DataFrame(d,index=['ROC AUC Score'])\n",
    "results = results.transpose()\n",
    "results.sort_values(by='ROC AUC Score',ascending=False,inplace=True)\n",
    "results"
   ]
  },
  {
   "cell_type": "markdown",
   "metadata": {},
   "source": [
    "Now lets see the Logistic Regression with PCA\n",
    "\n",
    "Explained Variance Ratio :\n",
    "    \n",
    "It indicates the proportion of the dataset’s variance that lies along the axis of each principal component."
   ]
  },
  {
   "cell_type": "code",
   "execution_count": 42,
   "metadata": {},
   "outputs": [
    {
     "data": {
      "text/plain": [
       "array([6.81869464e-02, 5.57442636e-02, 4.15124858e-02, 3.40225940e-02,\n",
       "       3.31478310e-02, 3.21866514e-02, 3.00248405e-02, 2.95521639e-02,\n",
       "       2.86085763e-02, 2.80417656e-02, 2.77564506e-02, 2.68718736e-02,\n",
       "       2.65841655e-02, 2.64401905e-02, 2.61542063e-02, 2.57109886e-02,\n",
       "       2.53040953e-02, 2.50099703e-02, 2.49264411e-02, 2.48131811e-02,\n",
       "       2.47710429e-02, 2.45943480e-02, 2.43461208e-02, 2.42833654e-02,\n",
       "       2.40973334e-02, 2.39171265e-02, 2.35686192e-02, 2.32448321e-02,\n",
       "       2.28089169e-02, 2.21903860e-02, 2.09155285e-02, 1.98818592e-02,\n",
       "       1.94727318e-02, 1.75147941e-02, 1.47069581e-02, 1.20025112e-02,\n",
       "       8.69017062e-03, 3.69856941e-03, 2.85624198e-03, 1.83886233e-03,\n",
       "       1.47195431e-32])"
      ]
     },
     "execution_count": 42,
     "metadata": {},
     "output_type": "execute_result"
    }
   ],
   "source": [
    "# PCA Implementation\n",
    "\n",
    "from sklearn.decomposition import PCA\n",
    "pca = PCA()\n",
    "x_train = pca.fit_transform(x_train)\n",
    "pca.explained_variance_ratio_"
   ]
  },
  {
   "cell_type": "code",
   "execution_count": 43,
   "metadata": {},
   "outputs": [
    {
     "name": "stdout",
     "output_type": "stream",
     "text": [
      "ROC AUC score :  0.5057144115710412\n",
      "{'ccp_alpha': 0.0, 'class_weight': None, 'criterion': 'gini', 'max_depth': None, 'max_features': None, 'max_leaf_nodes': None, 'min_impurity_decrease': 0.0, 'min_impurity_split': None, 'min_samples_leaf': 1, 'min_samples_split': 2, 'min_weight_fraction_leaf': 0.0, 'presort': 'deprecated', 'random_state': 101, 'splitter': 'best'}\n"
     ]
    },
    {
     "data": {
      "text/html": [
       "<div>\n",
       "<style scoped>\n",
       "    .dataframe tbody tr th:only-of-type {\n",
       "        vertical-align: middle;\n",
       "    }\n",
       "\n",
       "    .dataframe tbody tr th {\n",
       "        vertical-align: top;\n",
       "    }\n",
       "\n",
       "    .dataframe thead th {\n",
       "        text-align: right;\n",
       "    }\n",
       "</style>\n",
       "<table border=\"1\" class=\"dataframe\">\n",
       "  <thead>\n",
       "    <tr style=\"text-align: right;\">\n",
       "      <th></th>\n",
       "      <th>ROC AUC Score</th>\n",
       "    </tr>\n",
       "  </thead>\n",
       "  <tbody>\n",
       "    <tr>\n",
       "      <th>Baseline Logistic Regression</th>\n",
       "      <td>0.881738</td>\n",
       "    </tr>\n",
       "    <tr>\n",
       "      <th>Baseline Decision Tree</th>\n",
       "      <td>0.505714</td>\n",
       "    </tr>\n",
       "  </tbody>\n",
       "</table>\n",
       "</div>"
      ],
      "text/plain": [
       "                              ROC AUC Score\n",
       "Baseline Logistic Regression       0.881738\n",
       "Baseline Decision Tree             0.505714"
      ]
     },
     "execution_count": 43,
     "metadata": {},
     "output_type": "execute_result"
    }
   ],
   "source": [
    "#Decision tree classifier\n",
    "\n",
    "from sklearn.tree import DecisionTreeClassifier\n",
    "dt = DecisionTreeClassifier(random_state=101)\n",
    "dt.fit(x_train, y_train)\n",
    "dt_y_pred = dt.predict_proba(x_test)\n",
    "dt_roc = roc_auc_score(y_test,dt_y_pred[:,-1])\n",
    "print('ROC AUC score : ',dt_roc)\n",
    "print(dt.get_params())\n",
    "\n",
    "results.loc['Baseline Decision Tree'] = dt_roc\n",
    "results.sort_values(by='ROC AUC Score',ascending=False,inplace=True)\n",
    "results"
   ]
  },
  {
   "cell_type": "code",
   "execution_count": 44,
   "metadata": {},
   "outputs": [
    {
     "name": "stdout",
     "output_type": "stream",
     "text": [
      "0.32832403423532586\n",
      "{'bootstrap': True, 'ccp_alpha': 0.0, 'class_weight': None, 'criterion': 'gini', 'max_depth': None, 'max_features': 'auto', 'max_leaf_nodes': None, 'max_samples': None, 'min_impurity_decrease': 0.0, 'min_impurity_split': None, 'min_samples_leaf': 1, 'min_samples_split': 2, 'min_weight_fraction_leaf': 0.0, 'n_estimators': 100, 'n_jobs': None, 'oob_score': False, 'random_state': 101, 'verbose': 0, 'warm_start': False}\n"
     ]
    },
    {
     "data": {
      "text/html": [
       "<div>\n",
       "<style scoped>\n",
       "    .dataframe tbody tr th:only-of-type {\n",
       "        vertical-align: middle;\n",
       "    }\n",
       "\n",
       "    .dataframe tbody tr th {\n",
       "        vertical-align: top;\n",
       "    }\n",
       "\n",
       "    .dataframe thead th {\n",
       "        text-align: right;\n",
       "    }\n",
       "</style>\n",
       "<table border=\"1\" class=\"dataframe\">\n",
       "  <thead>\n",
       "    <tr style=\"text-align: right;\">\n",
       "      <th></th>\n",
       "      <th>ROC AUC Score</th>\n",
       "    </tr>\n",
       "  </thead>\n",
       "  <tbody>\n",
       "    <tr>\n",
       "      <th>Baseline Logistic Regression</th>\n",
       "      <td>0.881738</td>\n",
       "    </tr>\n",
       "    <tr>\n",
       "      <th>Baseline Decision Tree</th>\n",
       "      <td>0.505714</td>\n",
       "    </tr>\n",
       "    <tr>\n",
       "      <th>Baseline Random Forest</th>\n",
       "      <td>0.328324</td>\n",
       "    </tr>\n",
       "  </tbody>\n",
       "</table>\n",
       "</div>"
      ],
      "text/plain": [
       "                              ROC AUC Score\n",
       "Baseline Logistic Regression       0.881738\n",
       "Baseline Decision Tree             0.505714\n",
       "Baseline Random Forest             0.328324"
      ]
     },
     "execution_count": 44,
     "metadata": {},
     "output_type": "execute_result"
    }
   ],
   "source": [
    "#Random Forest classifier\n",
    "from sklearn.ensemble import RandomForestClassifier\n",
    "rf = RandomForestClassifier(random_state=101)\n",
    "rf.fit(x_train,y_train)\n",
    "rf_y_pred = rf.predict_proba(x_test)\n",
    "rf_roc = roc_auc_score(y_test,rf_y_pred[:,-1])\n",
    "print(rf_roc)\n",
    "print(rf.get_params())\n",
    "\n",
    "results.loc['Baseline Random Forest'] = rf_roc\n",
    "results.sort_values(by='ROC AUC Score',ascending=False,inplace=True)\n",
    "results"
   ]
  },
  {
   "cell_type": "code",
   "execution_count": 45,
   "metadata": {},
   "outputs": [
    {
     "name": "stdout",
     "output_type": "stream",
     "text": [
      "ROC AUC score :  0.5043594205783803\n",
      "{'priors': None, 'var_smoothing': 1e-09}\n"
     ]
    },
    {
     "data": {
      "text/html": [
       "<div>\n",
       "<style scoped>\n",
       "    .dataframe tbody tr th:only-of-type {\n",
       "        vertical-align: middle;\n",
       "    }\n",
       "\n",
       "    .dataframe tbody tr th {\n",
       "        vertical-align: top;\n",
       "    }\n",
       "\n",
       "    .dataframe thead th {\n",
       "        text-align: right;\n",
       "    }\n",
       "</style>\n",
       "<table border=\"1\" class=\"dataframe\">\n",
       "  <thead>\n",
       "    <tr style=\"text-align: right;\">\n",
       "      <th></th>\n",
       "      <th>ROC AUC Score</th>\n",
       "    </tr>\n",
       "  </thead>\n",
       "  <tbody>\n",
       "    <tr>\n",
       "      <th>Baseline Logistic Regression</th>\n",
       "      <td>0.881738</td>\n",
       "    </tr>\n",
       "    <tr>\n",
       "      <th>Baseline Decision Tree</th>\n",
       "      <td>0.505714</td>\n",
       "    </tr>\n",
       "    <tr>\n",
       "      <th>Baseline Naive Bayes</th>\n",
       "      <td>0.504359</td>\n",
       "    </tr>\n",
       "    <tr>\n",
       "      <th>Baseline Random Forest</th>\n",
       "      <td>0.328324</td>\n",
       "    </tr>\n",
       "  </tbody>\n",
       "</table>\n",
       "</div>"
      ],
      "text/plain": [
       "                              ROC AUC Score\n",
       "Baseline Logistic Regression       0.881738\n",
       "Baseline Decision Tree             0.505714\n",
       "Baseline Naive Bayes               0.504359\n",
       "Baseline Random Forest             0.328324"
      ]
     },
     "execution_count": 45,
     "metadata": {},
     "output_type": "execute_result"
    }
   ],
   "source": [
    "from sklearn.naive_bayes import GaussianNB\n",
    "nb = GaussianNB()\n",
    "nb.fit(x_train,y_train)\n",
    "nb_y_pred = nb.predict_proba(x_test)\n",
    "nb_roc = roc_auc_score(y_test,nb_y_pred[:,-1])\n",
    "print('ROC AUC score : ',nb_roc)\n",
    "print(nb.get_params())\n",
    "\n",
    "results.loc['Baseline Naive Bayes'] = nb_roc\n",
    "results.sort_values(by='ROC AUC Score',ascending=False,inplace=True)\n",
    "results"
   ]
  },
  {
   "cell_type": "code",
   "execution_count": 50,
   "metadata": {},
   "outputs": [
    {
     "name": "stdout",
     "output_type": "stream",
     "text": [
      "ROC AUC score :  0.43409490972352127\n",
      "{'algorithm': 'auto', 'leaf_size': 30, 'metric': 'minkowski', 'metric_params': None, 'n_jobs': None, 'n_neighbors': 5, 'p': 2, 'weights': 'uniform'}\n"
     ]
    },
    {
     "data": {
      "text/html": [
       "<div>\n",
       "<style scoped>\n",
       "    .dataframe tbody tr th:only-of-type {\n",
       "        vertical-align: middle;\n",
       "    }\n",
       "\n",
       "    .dataframe tbody tr th {\n",
       "        vertical-align: top;\n",
       "    }\n",
       "\n",
       "    .dataframe thead th {\n",
       "        text-align: right;\n",
       "    }\n",
       "</style>\n",
       "<table border=\"1\" class=\"dataframe\">\n",
       "  <thead>\n",
       "    <tr style=\"text-align: right;\">\n",
       "      <th></th>\n",
       "      <th>ROC AUC Score</th>\n",
       "    </tr>\n",
       "  </thead>\n",
       "  <tbody>\n",
       "    <tr>\n",
       "      <th>Baseline Logistic Regression</th>\n",
       "      <td>0.881738</td>\n",
       "    </tr>\n",
       "    <tr>\n",
       "      <th>Baseline Decision Tree</th>\n",
       "      <td>0.505714</td>\n",
       "    </tr>\n",
       "    <tr>\n",
       "      <th>Baseline Naive Bayes</th>\n",
       "      <td>0.504359</td>\n",
       "    </tr>\n",
       "    <tr>\n",
       "      <th>Baseline KNN</th>\n",
       "      <td>0.434095</td>\n",
       "    </tr>\n",
       "    <tr>\n",
       "      <th>Baseline SVC Linear</th>\n",
       "      <td>0.404733</td>\n",
       "    </tr>\n",
       "    <tr>\n",
       "      <th>Baseline Random Forest</th>\n",
       "      <td>0.328324</td>\n",
       "    </tr>\n",
       "  </tbody>\n",
       "</table>\n",
       "</div>"
      ],
      "text/plain": [
       "                              ROC AUC Score\n",
       "Baseline Logistic Regression       0.881738\n",
       "Baseline Decision Tree             0.505714\n",
       "Baseline Naive Bayes               0.504359\n",
       "Baseline KNN                       0.434095\n",
       "Baseline SVC Linear                0.404733\n",
       "Baseline Random Forest             0.328324"
      ]
     },
     "execution_count": 50,
     "metadata": {},
     "output_type": "execute_result"
    }
   ],
   "source": [
    "from sklearn.neighbors import KNeighborsClassifier\n",
    "knn = KNeighborsClassifier(n_neighbors=5)\n",
    "knn.fit(x_train,y_train)\n",
    "knn_y_pred = knn.predict_proba(x_test)\n",
    "knn_roc = roc_auc_score(y_test,knn_y_pred[:,-1])\n",
    "print('ROC AUC score : ',knn_roc)\n",
    "print(knn.get_params())\n",
    "\n",
    "results.loc['Baseline KNN'] = knn_roc\n",
    "results.sort_values(by='ROC AUC Score',ascending=False,inplace=True)\n",
    "results"
   ]
  },
  {
   "cell_type": "code",
   "execution_count": 47,
   "metadata": {},
   "outputs": [
    {
     "name": "stdout",
     "output_type": "stream",
     "text": [
      "ROC AUC score :  0.40473330095382254\n",
      "<bound method BaseEstimator.get_params of SVC(C=1.0, break_ties=False, cache_size=200, class_weight=None, coef0=0.0,\n",
      "    decision_function_shape='ovr', degree=3, gamma='scale', kernel='linear',\n",
      "    max_iter=-1, probability=True, random_state=101, shrinking=True, tol=0.001,\n",
      "    verbose=False)>\n"
     ]
    },
    {
     "data": {
      "text/html": [
       "<div>\n",
       "<style scoped>\n",
       "    .dataframe tbody tr th:only-of-type {\n",
       "        vertical-align: middle;\n",
       "    }\n",
       "\n",
       "    .dataframe tbody tr th {\n",
       "        vertical-align: top;\n",
       "    }\n",
       "\n",
       "    .dataframe thead th {\n",
       "        text-align: right;\n",
       "    }\n",
       "</style>\n",
       "<table border=\"1\" class=\"dataframe\">\n",
       "  <thead>\n",
       "    <tr style=\"text-align: right;\">\n",
       "      <th></th>\n",
       "      <th>ROC AUC Score</th>\n",
       "    </tr>\n",
       "  </thead>\n",
       "  <tbody>\n",
       "    <tr>\n",
       "      <th>Baseline Logistic Regression</th>\n",
       "      <td>0.881738</td>\n",
       "    </tr>\n",
       "    <tr>\n",
       "      <th>Baseline Decision Tree</th>\n",
       "      <td>0.505714</td>\n",
       "    </tr>\n",
       "    <tr>\n",
       "      <th>Baseline Naive Bayes</th>\n",
       "      <td>0.504359</td>\n",
       "    </tr>\n",
       "    <tr>\n",
       "      <th>Baseline KNN</th>\n",
       "      <td>0.444144</td>\n",
       "    </tr>\n",
       "    <tr>\n",
       "      <th>Baseline SVC Linear</th>\n",
       "      <td>0.404733</td>\n",
       "    </tr>\n",
       "    <tr>\n",
       "      <th>Baseline Random Forest</th>\n",
       "      <td>0.328324</td>\n",
       "    </tr>\n",
       "  </tbody>\n",
       "</table>\n",
       "</div>"
      ],
      "text/plain": [
       "                              ROC AUC Score\n",
       "Baseline Logistic Regression       0.881738\n",
       "Baseline Decision Tree             0.505714\n",
       "Baseline Naive Bayes               0.504359\n",
       "Baseline KNN                       0.444144\n",
       "Baseline SVC Linear                0.404733\n",
       "Baseline Random Forest             0.328324"
      ]
     },
     "execution_count": 47,
     "metadata": {},
     "output_type": "execute_result"
    }
   ],
   "source": [
    "#Linear kernel\n",
    "\n",
    "from sklearn.svm import SVC\n",
    "\n",
    "svc_l = SVC(kernel='linear',random_state=101,probability=True)\n",
    "svc_l.fit(x_train,y_train)\n",
    "svcl_y_pred = svc_l.predict_proba(x_test)\n",
    "svcl_roc = roc_auc_score(y_test,svcl_y_pred[:,-1])\n",
    "print('ROC AUC score : ',svcl_roc)\n",
    "print(svc_l.get_params)\n",
    "\n",
    "results.loc['Baseline SVC Linear'] = svcl_roc\n",
    "results.sort_values(by='ROC AUC Score',ascending=False,inplace=True)\n",
    "results"
   ]
  },
  {
   "cell_type": "markdown",
   "metadata": {},
   "source": [
    "We can conclude that logistic regression gives the highest ROC AUC score which is 88%\n"
   ]
  },
  {
   "cell_type": "code",
   "execution_count": 48,
   "metadata": {},
   "outputs": [
    {
     "data": {
      "text/plain": [
       "['Model_Census Income.pkl']"
      ]
     },
     "execution_count": 48,
     "metadata": {},
     "output_type": "execute_result"
    }
   ],
   "source": [
    "from sklearn.externals import joblib\n",
    "\n",
    "joblib.dump(LogisticRegression,'Model_Census Income.pkl')"
   ]
  },
  {
   "cell_type": "code",
   "execution_count": null,
   "metadata": {},
   "outputs": [],
   "source": []
  }
 ],
 "metadata": {
  "kernelspec": {
   "display_name": "Python 3",
   "language": "python",
   "name": "python3"
  },
  "language_info": {
   "codemirror_mode": {
    "name": "ipython",
    "version": 3
   },
   "file_extension": ".py",
   "mimetype": "text/x-python",
   "name": "python",
   "nbconvert_exporter": "python",
   "pygments_lexer": "ipython3",
   "version": "3.7.6"
  }
 },
 "nbformat": 4,
 "nbformat_minor": 4
}
